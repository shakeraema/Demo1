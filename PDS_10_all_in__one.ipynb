{
  "nbformat": 4,
  "nbformat_minor": 0,
  "metadata": {
    "colab": {
      "provenance": [],
      "collapsed_sections": [
        "FHa_rriPRHtK"
      ],
      "toc_visible": true,
      "include_colab_link": true
    },
    "kernelspec": {
      "name": "python3",
      "display_name": "Python 3"
    },
    "language_info": {
      "name": "python"
    }
  },
  "cells": [
    {
      "cell_type": "markdown",
      "metadata": {
        "id": "view-in-github",
        "colab_type": "text"
      },
      "source": [
        "<a href=\"https://colab.research.google.com/github/shakeraema/Demo1/blob/main/PDS_10_all_in__one.ipynb\" target=\"_parent\"><img src=\"https://colab.research.google.com/assets/colab-badge.svg\" alt=\"Open In Colab\"/></a>"
      ]
    },
    {
      "cell_type": "markdown",
      "source": [
        "# Resources\n",
        "\n",
        "Python Documentation: [https://www.w3schools.com/python](https://www.w3schools.com/python/)\n",
        "\n",
        "Class Notebook: [https://tinyurl.com/PDS10-notebook](https://tinyurl.com/PDS10-notebook)\n",
        "\n",
        "Python Basics(Book): [https://allendowney.github.io/ThinkPython/](https://allendowney.github.io/ThinkPython/chap01.html)\n",
        "\n",
        "PDS practice problem data: [https://tinyurl.com/PDS-data](https://tinyurl.com/PDS-data)\n"
      ],
      "metadata": {
        "id": "0Ulr756C9B5L"
      }
    },
    {
      "cell_type": "markdown",
      "source": [
        "# Class_01"
      ],
      "metadata": {
        "id": "5sjCRYYbPIOb"
      }
    },
    {
      "cell_type": "markdown",
      "source": [
        "**Programming Language** : A programming language is a system of notation for writing computer programs. Programming languages are described in terms of their syntax and semantics.\n",
        "\n",
        "\n",
        "**Python**: Python is a **high-level**, **interpreted** programming language known for its simplicity and readability, making it a popular choice for both beginners and experienced developers. Python is widely used in web development, data analysis, artificial intelligence, scientific computing, automation, and more. Its versatility and ease of use make it a go-to language for a variety of programming tasks.\n",
        "\n",
        "**Compiler vs Interpreter:**\n",
        "**A compiler** translates the entire source code of a program into machine code before execution, producing a standalone executable file. This process typically results in faster execution since the translation has already been completed. Compilers catch many errors during the compilation stage, which reduces the number of runtime errors. The development cycle with a compiler involves writing code, compiling it, and then running the executable, which can be time-consuming for large programs but results in efficient execution. Examples of compiled languages include **C, C++, Rust,** and **Go**. Compilers are favored for performance-critical applications due to their ability to optimize code during the compilation process.\n",
        "\n",
        "**An interpreter**, on the other hand, translates the source code into machine code line by line at runtime, directly executing the code without producing an executable file. This method can slow down execution because translation happens simultaneously with execution. However, interpreters offer immediate feedback, which is beneficial for iterative and experimental development, and make debugging easier for beginners since errors are caught at runtime. Interpreters are often used for scripting and prototyping due to their quick development cycle. Examples of interpreted languages include Python, JavaScript, Ruby, and PHP. Interpreted programs can be more portable as they rely on an interpreter available on the target system, unlike compiled programs which need recompilation for different platforms.\n",
        "\n",
        "\n",
        "\n",
        "**IDE:** An Integrated Development Environment (IDE) is a comprehensive software application that provides a suite of tools and features designed to facilitate software development. IDEs integrate various developer tools into a single graphical user interface (GUI), streamlining the development process and improving productivity. Some popular IDE for python development are: **PyCharm, VS code, Google Colab, Jupyter Notebook** etc.\n",
        "\n",
        "\n",
        "***For the reference, to learn Python, you can follow the following resouce:*** [think-python.pdf](https://drive.google.com/file/d/199F3BcJJxN4LaP03c9azwztWWXZZFynl/view?usp=sharing), [git repo](https://github.com/Asabeneh/30-Days-Of-Python/tree/master)"
      ],
      "metadata": {
        "id": "DF6DvTf7Tj6M"
      }
    },
    {
      "cell_type": "markdown",
      "source": [
        "Printing My first python code"
      ],
      "metadata": {
        "id": "x_d-iT4n8Sx_"
      }
    },
    {
      "cell_type": "code",
      "execution_count": null,
      "metadata": {
        "colab": {
          "base_uri": "https://localhost:8080/"
        },
        "id": "Gl01N4WQ2QuT",
        "outputId": "74630ee3-1d7f-460c-885c-8941cf803435"
      },
      "outputs": [
        {
          "output_type": "stream",
          "name": "stdout",
          "text": [
            "Hello World!\n",
            "Hello World!\n",
            "PDS10's student\n"
          ]
        }
      ],
      "source": [
        "print(\"Hello World!\")\n",
        "print('Hello World!')\n",
        "print('PDS10\\'s student')"
      ]
    },
    {
      "cell_type": "code",
      "source": [
        "print(\"Hello world\", \"I'm 2nd\", \"I'm 3rd\",end=\"\\n\", sep=\"@\")"
      ],
      "metadata": {
        "colab": {
          "base_uri": "https://localhost:8080/"
        },
        "id": "M7j4nyzk4PqB",
        "outputId": "7b6d485b-4441-458e-ba64-8616b1c9d4bd"
      },
      "execution_count": null,
      "outputs": [
        {
          "output_type": "stream",
          "name": "stdout",
          "text": [
            "Hello world@I'm 2nd@I'm 3rd\n"
          ]
        }
      ]
    },
    {
      "cell_type": "markdown",
      "source": [
        "string manipulation with upper, strip, capitalize"
      ],
      "metadata": {
        "id": "InD5kXfx8dQJ"
      }
    },
    {
      "cell_type": "code",
      "source": [
        "student_name = '     i am not dipto.    '\n",
        "print(student_name.capitalize())\n",
        "print(student_name.strip())"
      ],
      "metadata": {
        "colab": {
          "base_uri": "https://localhost:8080/"
        },
        "id": "UVMCmeN73zhi",
        "outputId": "d9272367-28da-4f09-eaa4-7164c6c2c517"
      },
      "execution_count": null,
      "outputs": [
        {
          "output_type": "stream",
          "name": "stdout",
          "text": [
            "     i am not dipto.    \n",
            "i am not dipto.\n"
          ]
        }
      ]
    },
    {
      "cell_type": "code",
      "source": [
        "print(student_name)\n",
        "student_name = student_name.strip()\n",
        "print(student_name)\n",
        "student_name = student_name.capitalize()\n",
        "print(student_name)"
      ],
      "metadata": {
        "colab": {
          "base_uri": "https://localhost:8080/"
        },
        "id": "AkAkynnS6vq1",
        "outputId": "ae472a90-4c23-426a-f0f3-0c181a020af4"
      },
      "execution_count": null,
      "outputs": [
        {
          "output_type": "stream",
          "name": "stdout",
          "text": [
            "     i am not dipto.    \n",
            "i am not dipto.\n",
            "I am not dipto.\n"
          ]
        }
      ]
    },
    {
      "cell_type": "code",
      "source": [
        "student_name = '     i am not dipto.    '\n",
        "print(student_name.strip().capitalize())\n",
        "\n",
        "print(student_name)\n",
        "student_name = student_name.strip().capitalize()\n",
        "print(student_name)"
      ],
      "metadata": {
        "colab": {
          "base_uri": "https://localhost:8080/"
        },
        "id": "M_dpwfmn7Po8",
        "outputId": "e1f62661-5d41-441b-e2cf-e17b98d5a20b"
      },
      "execution_count": null,
      "outputs": [
        {
          "output_type": "stream",
          "name": "stdout",
          "text": [
            "I am not dipto.\n",
            "     i am not dipto.    \n",
            "I am not dipto.\n"
          ]
        }
      ]
    },
    {
      "cell_type": "markdown",
      "source": [
        "**Run Python program on a local IDE**\n",
        "\n",
        "\n",
        "\n",
        "1.   First download [PyCharm Community Edition](https://www.jetbrains.com/pycharm/download/?section=mac)\n",
        "2.   Now follow the following tutorial to run your first Python Program on Pycharm: [Create Your First Project on Python](https://www.jetbrains.com/help/pycharm/creating-and-running-your-first-python-project.html#edit-file)"
      ],
      "metadata": {
        "id": "xkVviZt8TyY8"
      }
    },
    {
      "cell_type": "markdown",
      "source": [
        "# Class_01_Pthyon_Basics"
      ],
      "metadata": {
        "id": "4SiAW1JoPXXl"
      }
    },
    {
      "cell_type": "markdown",
      "source": [
        "Commenting\n",
        "\n",
        "Variables\n",
        "\n",
        "Assign multiple variables\n",
        "\n",
        "Data types\n",
        "\n",
        "Type casting\n",
        "\n",
        "Numbers\n",
        "\n",
        "Strings"
      ],
      "metadata": {
        "id": "nCpgVEQlzgaj"
      }
    },
    {
      "cell_type": "markdown",
      "source": [
        "## Learn commenting with python"
      ],
      "metadata": {
        "id": "oyWKIULX20dw"
      }
    },
    {
      "cell_type": "code",
      "execution_count": null,
      "metadata": {
        "id": "0nuYqS8IzfGx",
        "colab": {
          "base_uri": "https://localhost:8080/"
        },
        "outputId": "52e91ead-992e-4e5c-beea-91abacbfbc92"
      },
      "outputs": [
        {
          "output_type": "stream",
          "name": "stdout",
          "text": [
            "201\n"
          ]
        }
      ],
      "source": [
        "# Assigning a numerical value to a variable.\n",
        "# Then printning the variable to show the value\n",
        "class_room = 201\n",
        "print(class_room)"
      ]
    },
    {
      "cell_type": "code",
      "source": [
        "\"\"\"\n",
        "This a multi-line comment with:\n",
        "\"\"\n",
        "\"\"\"\n",
        "class_room = 201\n",
        "print(class_room)"
      ],
      "metadata": {
        "colab": {
          "base_uri": "https://localhost:8080/"
        },
        "id": "tRwbDs0c4vDi",
        "outputId": "18756e1a-2ea3-434a-aa66-07d3fe8fe07b"
      },
      "execution_count": null,
      "outputs": [
        {
          "output_type": "stream",
          "name": "stdout",
          "text": [
            "201\n"
          ]
        }
      ]
    },
    {
      "cell_type": "code",
      "source": [
        "'''\n",
        "This a\n",
        "multi-line comment\n",
        "'''\n",
        "class_room = 201\n",
        "print(class_room)"
      ],
      "metadata": {
        "colab": {
          "base_uri": "https://localhost:8080/"
        },
        "id": "c5Q-tLFH45zO",
        "outputId": "37bfdbac-220f-4be9-dd98-2d5448431a2e"
      },
      "execution_count": null,
      "outputs": [
        {
          "output_type": "stream",
          "name": "stdout",
          "text": [
            "201\n"
          ]
        }
      ]
    },
    {
      "cell_type": "markdown",
      "source": [
        "## Variables"
      ],
      "metadata": {
        "id": "v8LZDJMm5iJg"
      }
    },
    {
      "cell_type": "markdown",
      "source": [
        "### Data_types"
      ],
      "metadata": {
        "id": "Dkrkgc076reV"
      }
    },
    {
      "cell_type": "markdown",
      "source": [
        "**Variable Types in python**\n",
        "\n",
        "- **Text Type**: `str`\n",
        "- **Numeric Types**: `int`, `float`, `complex`\n",
        "- **Sequence Types**: `list`, `tuple`, `range`\n",
        "- **Mapping Type**: `dict`\n",
        "- **Set Types**: `set`, `frozenset`\n",
        "- **Boolean Type**: `bool`\n",
        "- **Binary Types**: `bytes`, `bytearray`, `memoryview`\n",
        "- **None Type**: `NoneType`"
      ],
      "metadata": {
        "id": "v9m9MR30HI7m"
      }
    },
    {
      "cell_type": "code",
      "source": [
        "class_room = 201\n",
        "marks = 89.99999\n",
        "student_name = \"Rahimul\"\n",
        "print(type(student_name))\n",
        "print(type(class_room))\n",
        "print(type(marks))"
      ],
      "metadata": {
        "colab": {
          "base_uri": "https://localhost:8080/"
        },
        "id": "y2mlaN4m5gN-",
        "outputId": "19d648e7-08ef-461f-f306-eaade43e66f9"
      },
      "execution_count": null,
      "outputs": [
        {
          "output_type": "stream",
          "name": "stdout",
          "text": [
            "<class 'str'>\n",
            "<class 'int'>\n",
            "<class 'float'>\n"
          ]
        }
      ]
    },
    {
      "cell_type": "markdown",
      "source": [
        "### Type casting"
      ],
      "metadata": {
        "id": "QGNwksy47AgN"
      }
    },
    {
      "cell_type": "code",
      "source": [
        "marks = 89\n",
        "marks_in_string = str(marks)\n",
        "print(marks, type(marks))\n",
        "print(marks_in_string, type(marks_in_string))"
      ],
      "metadata": {
        "colab": {
          "base_uri": "https://localhost:8080/"
        },
        "id": "OVZKnoGL6xaK",
        "outputId": "d8d155b5-abc0-4083-e066-90a0e940d7c5"
      },
      "execution_count": null,
      "outputs": [
        {
          "output_type": "stream",
          "name": "stdout",
          "text": [
            "89 <class 'int'>\n",
            "89 <class 'str'>\n"
          ]
        }
      ]
    },
    {
      "cell_type": "code",
      "source": [
        "first_num = input(\"Enter the first number: \")\n",
        "second_num = input(\"Enter the second number: \")\n",
        "print(type(first_num), type(second_num))"
      ],
      "metadata": {
        "colab": {
          "base_uri": "https://localhost:8080/"
        },
        "id": "tTFBenrFsEMA",
        "outputId": "49ec284e-6272-430b-e8c9-575e425f79d8"
      },
      "execution_count": null,
      "outputs": [
        {
          "output_type": "stream",
          "name": "stdout",
          "text": [
            "Enter the first number: 223\n",
            "Enter the second number: 65.8\n",
            "<class 'str'> <class 'str'>\n"
          ]
        }
      ]
    },
    {
      "cell_type": "code",
      "source": [
        "first_num = int(first_num)\n",
        "second_num = float(second_num)\n",
        "print(first_num + second_num)"
      ],
      "metadata": {
        "colab": {
          "base_uri": "https://localhost:8080/"
        },
        "id": "0KNULASmCtWr",
        "outputId": "34b0fc9b-b168-4ee1-c2d1-ad8bb6aae3b9"
      },
      "execution_count": null,
      "outputs": [
        {
          "output_type": "stream",
          "name": "stdout",
          "text": [
            "288.8\n"
          ]
        }
      ]
    },
    {
      "cell_type": "markdown",
      "source": [
        "### Varibale naming"
      ],
      "metadata": {
        "id": "wKbbB2iz9aLR"
      }
    },
    {
      "cell_type": "markdown",
      "source": [
        "**Identifier:** An identifier in programming is a name given to elements such as variables, functions, classes, and other entities within the code. Identifiers are used to uniquely identify and reference these elements, allowing developers to manipulate and interact with them.\n",
        "\n",
        "Programmers generally choose names for their variables that are meaningful—they document what the variable is used for.  \n",
        "\n",
        "Variable names can be arbitrarily long. They can contain both letters and numbers, but they have to begin with a letter.  \n",
        "\n",
        "It is **legal** to use **uppercase letters**, but it is a **good idea to begin variable names with a lowercase letter** (you’ll see why later).\n",
        "**The underscore character (_) can appear in a name. It is often used in names with multiple words**.\n",
        "\n",
        "If you give a variable an illegal name, you get a syntax error.\n",
        "\n",
        "**Can't use python keywords as variable, there are 31 keywords in python:**\n",
        "- `and`\n",
        "- `del`\n",
        "- `from`\n",
        "- `as`\n",
        "- `elif`\n",
        "- `global`\n",
        "- `assert`\n",
        "- `else`\n",
        "- `if`\n",
        "- `break`\n",
        "- `except`\n",
        "- `import`\n",
        "- `class`\n",
        "- `exec`\n",
        "- `in`\n",
        "- `continue`\n",
        "- `finally`\n",
        "- `is`\n",
        "- `def`\n",
        "- `for`\n",
        "- `lambda`\n",
        "- `not`\n",
        "- `while`\n",
        "- `or`\n",
        "- `with`\n",
        "- `pass`\n",
        "- `yield`\n",
        "- `print`\n",
        "- `raise`\n",
        "- `return`\n",
        "- `try`"
      ],
      "metadata": {
        "id": "uJPSdSLtHCeW"
      }
    },
    {
      "cell_type": "code",
      "source": [
        "# snake_case\n",
        "marks_in_strings = '89'\n",
        "\n",
        "# camelCase\n",
        "marksInString = '89'\n",
        "\n",
        "# PascelCase\n",
        "MarksInStrings = '89'"
      ],
      "metadata": {
        "id": "9pgXeNhx9ZyZ"
      },
      "execution_count": null,
      "outputs": []
    },
    {
      "cell_type": "code",
      "source": [
        "# Can't start with number\n",
        "2inInt = 2\n",
        "# IntValOf2 = 2"
      ],
      "metadata": {
        "id": "4qvFFv8i_1CP",
        "colab": {
          "base_uri": "https://localhost:8080/",
          "height": 109
        },
        "outputId": "e74c49cb-ec8e-4774-adaf-aaa2615e9fd6"
      },
      "execution_count": null,
      "outputs": [
        {
          "output_type": "error",
          "ename": "SyntaxError",
          "evalue": "invalid syntax (<ipython-input-35-f3ee21be2f46>, line 2)",
          "traceback": [
            "\u001b[0;36m  File \u001b[0;32m\"<ipython-input-35-f3ee21be2f46>\"\u001b[0;36m, line \u001b[0;32m2\u001b[0m\n\u001b[0;31m    2inInt = 2\u001b[0m\n\u001b[0m     ^\u001b[0m\n\u001b[0;31mSyntaxError\u001b[0m\u001b[0;31m:\u001b[0m invalid syntax\n"
          ]
        }
      ]
    },
    {
      "cell_type": "code",
      "source": [
        "# Naming is case-sensitive\n",
        "name = 'Akhalia'\n",
        "print(Name)"
      ],
      "metadata": {
        "colab": {
          "base_uri": "https://localhost:8080/",
          "height": 181
        },
        "id": "G0kirgeJAquY",
        "outputId": "1a3018ee-2a87-4587-cc9e-539aaed6edb5"
      },
      "execution_count": null,
      "outputs": [
        {
          "output_type": "error",
          "ename": "NameError",
          "evalue": "name 'Name' is not defined",
          "traceback": [
            "\u001b[0;31m---------------------------------------------------------------------------\u001b[0m",
            "\u001b[0;31mNameError\u001b[0m                                 Traceback (most recent call last)",
            "\u001b[0;32m<ipython-input-37-e9b3402d562c>\u001b[0m in \u001b[0;36m<cell line: 3>\u001b[0;34m()\u001b[0m\n\u001b[1;32m      1\u001b[0m \u001b[0;31m# Naming is case-sensitive\u001b[0m\u001b[0;34m\u001b[0m\u001b[0;34m\u001b[0m\u001b[0m\n\u001b[1;32m      2\u001b[0m \u001b[0mname\u001b[0m \u001b[0;34m=\u001b[0m \u001b[0;34m'Akhalia'\u001b[0m\u001b[0;34m\u001b[0m\u001b[0;34m\u001b[0m\u001b[0m\n\u001b[0;32m----> 3\u001b[0;31m \u001b[0mprint\u001b[0m\u001b[0;34m(\u001b[0m\u001b[0mName\u001b[0m\u001b[0;34m)\u001b[0m\u001b[0;34m\u001b[0m\u001b[0;34m\u001b[0m\u001b[0m\n\u001b[0m",
            "\u001b[0;31mNameError\u001b[0m: name 'Name' is not defined"
          ]
        }
      ]
    },
    {
      "cell_type": "code",
      "source": [
        "# Just accept _ while declaring a var, no other special char)[_@#$%^&*]\n",
        "flt%var = 1"
      ],
      "metadata": {
        "id": "oxwI_g12BHBH",
        "colab": {
          "base_uri": "https://localhost:8080/",
          "height": 109
        },
        "outputId": "c442254f-80be-4e94-92e8-236cce34c0d1"
      },
      "execution_count": null,
      "outputs": [
        {
          "output_type": "error",
          "ename": "SyntaxError",
          "evalue": "cannot assign to expression here. Maybe you meant '==' instead of '='? (<ipython-input-39-fe6bd8815e5d>, line 2)",
          "traceback": [
            "\u001b[0;36m  File \u001b[0;32m\"<ipython-input-39-fe6bd8815e5d>\"\u001b[0;36m, line \u001b[0;32m2\u001b[0m\n\u001b[0;31m    flt%var = 1\u001b[0m\n\u001b[0m    ^\u001b[0m\n\u001b[0;31mSyntaxError\u001b[0m\u001b[0;31m:\u001b[0m cannot assign to expression here. Maybe you meant '==' instead of '='?\n"
          ]
        }
      ]
    },
    {
      "cell_type": "markdown",
      "source": [
        "### More data types [list, tuple, dictionary, set]"
      ],
      "metadata": {
        "id": "ftU9xJAIU_gr"
      }
    },
    {
      "cell_type": "code",
      "source": [
        "groceries = ['Rice', 'Lentil', 'Onion', 'Oil']\n",
        "print(type(groceries))\n",
        "print(groceries)"
      ],
      "metadata": {
        "colab": {
          "base_uri": "https://localhost:8080/"
        },
        "id": "DTn3FpC_U-Sp",
        "outputId": "02337f34-6d11-4568-ed03-f0c8b72a3028"
      },
      "execution_count": null,
      "outputs": [
        {
          "output_type": "stream",
          "name": "stdout",
          "text": [
            "<class 'list'>\n",
            "['Rice', 'Lentil', 'Onion', 'Oil']\n"
          ]
        }
      ]
    },
    {
      "cell_type": "code",
      "source": [
        "groceries.append('Salt')\n",
        "print(groceries)"
      ],
      "metadata": {
        "colab": {
          "base_uri": "https://localhost:8080/"
        },
        "id": "MnIbU_coVhVe",
        "outputId": "7a27beb0-a64f-4cf8-a120-c71212a4592b"
      },
      "execution_count": null,
      "outputs": [
        {
          "output_type": "stream",
          "name": "stdout",
          "text": [
            "['Rice', 'Lentil', 'Onion', 'Oil', 'Salt']\n"
          ]
        }
      ]
    },
    {
      "cell_type": "code",
      "source": [
        "groceries.append('Salt')\n",
        "print(groceries)"
      ],
      "metadata": {
        "colab": {
          "base_uri": "https://localhost:8080/"
        },
        "id": "lY6DXxFYSkne",
        "outputId": "1a018e56-40d6-4c4c-9836-e6dfd907d344"
      },
      "execution_count": null,
      "outputs": [
        {
          "output_type": "stream",
          "name": "stdout",
          "text": [
            "['Rice', 'Lentil', 'Onion', 'Oil', 'Salt', 'Salt']\n"
          ]
        }
      ]
    },
    {
      "cell_type": "code",
      "source": [
        "groceries.remove('Oil')\n",
        "print(groceries)"
      ],
      "metadata": {
        "colab": {
          "base_uri": "https://localhost:8080/"
        },
        "id": "co9NvzhUWHPC",
        "outputId": "3df2c89d-659d-49a6-dd87-530ca0c15830"
      },
      "execution_count": null,
      "outputs": [
        {
          "output_type": "stream",
          "name": "stdout",
          "text": [
            "['Rice', 'Lentil', 'Onion', 'Salt', 'Salt']\n"
          ]
        }
      ]
    },
    {
      "cell_type": "code",
      "source": [
        "groceries.pop(2)\n",
        "print(groceries)"
      ],
      "metadata": {
        "colab": {
          "base_uri": "https://localhost:8080/"
        },
        "id": "fxjl8GTkSz67",
        "outputId": "1c232d58-8b4c-4d4d-c521-90c1df7a2603"
      },
      "execution_count": null,
      "outputs": [
        {
          "output_type": "stream",
          "name": "stdout",
          "text": [
            "['Rice', 'Lentil', 'Salt']\n"
          ]
        }
      ]
    },
    {
      "cell_type": "code",
      "source": [
        "groceries.insert(2, 'Oil')\n",
        "print(groceries)"
      ],
      "metadata": {
        "colab": {
          "base_uri": "https://localhost:8080/"
        },
        "id": "_1ZbNcHETPm2",
        "outputId": "85dd500d-6d36-4464-a7ed-ec4fef8baf46"
      },
      "execution_count": null,
      "outputs": [
        {
          "output_type": "stream",
          "name": "stdout",
          "text": [
            "['Rice', 'Lentil', 'Oil', 'Salt']\n"
          ]
        }
      ]
    },
    {
      "cell_type": "code",
      "source": [
        "groceries.count('Onion')"
      ],
      "metadata": {
        "colab": {
          "base_uri": "https://localhost:8080/"
        },
        "id": "DTsVTF_eToyi",
        "outputId": "e3d5e801-1d79-49c8-9c45-97d1a77117d2"
      },
      "execution_count": null,
      "outputs": [
        {
          "output_type": "execute_result",
          "data": {
            "text/plain": [
              "0"
            ]
          },
          "metadata": {},
          "execution_count": 51
        }
      ]
    },
    {
      "cell_type": "code",
      "source": [
        "'Cumin' in groceries"
      ],
      "metadata": {
        "colab": {
          "base_uri": "https://localhost:8080/"
        },
        "id": "xJ78G3nmUk1d",
        "outputId": "cd306123-f202-4678-9ff8-fcaa29cbb57d"
      },
      "execution_count": null,
      "outputs": [
        {
          "output_type": "execute_result",
          "data": {
            "text/plain": [
              "False"
            ]
          },
          "metadata": {},
          "execution_count": 56
        }
      ]
    },
    {
      "cell_type": "code",
      "source": [
        "'Cumin' not in groceries"
      ],
      "metadata": {
        "colab": {
          "base_uri": "https://localhost:8080/"
        },
        "id": "M2vHKmM9UlpZ",
        "outputId": "763e5f91-6026-41a2-a5e4-5782df43008d"
      },
      "execution_count": null,
      "outputs": [
        {
          "output_type": "execute_result",
          "data": {
            "text/plain": [
              "True"
            ]
          },
          "metadata": {},
          "execution_count": 57
        }
      ]
    },
    {
      "cell_type": "markdown",
      "source": [
        "# Class_02"
      ],
      "metadata": {
        "id": "m6bPPkHaPc_e"
      }
    },
    {
      "cell_type": "markdown",
      "source": [
        "\n",
        "\n",
        "*   If-elif-else\n",
        "*   List\n",
        "*   for loop\n",
        "*   Printing var with {}\n",
        "*   Indentation\n",
        "*   strings\n",
        "*   Tuples\n",
        "*   inputs"
      ],
      "metadata": {
        "id": "SCYS8lSiFUwh"
      }
    },
    {
      "cell_type": "markdown",
      "source": [
        "## if-elif-else statement"
      ],
      "metadata": {
        "id": "h7To2ICyZj5f"
      }
    },
    {
      "cell_type": "code",
      "source": [
        "name = 'Rahat'\n",
        "if name != 'Rihat':\n",
        "  print('Hello unknown!')"
      ],
      "metadata": {
        "id": "9_81ljV-HRPN",
        "colab": {
          "base_uri": "https://localhost:8080/"
        },
        "outputId": "fac55206-2d85-4daf-afe6-27b633f9e241"
      },
      "execution_count": null,
      "outputs": [
        {
          "output_type": "stream",
          "name": "stdout",
          "text": [
            "Hello unknown!\n"
          ]
        }
      ]
    },
    {
      "cell_type": "code",
      "source": [
        "name = 'Rahat'\n",
        "\n",
        "if name == 'Sony':\n",
        "  print('Hello Sony')\n",
        "elif name == 'Risita':\n",
        "  print('Hello Risita')\n",
        "else:\n",
        "  print('Who are you then?')"
      ],
      "metadata": {
        "colab": {
          "base_uri": "https://localhost:8080/"
        },
        "id": "BPRjo2XTlBn_",
        "outputId": "80817bc7-719c-4095-a767-4894c9b2f9ca"
      },
      "execution_count": null,
      "outputs": [
        {
          "output_type": "stream",
          "name": "stdout",
          "text": [
            "Who are you then?\n"
          ]
        }
      ]
    },
    {
      "cell_type": "markdown",
      "source": [
        "## Printing in a different way"
      ],
      "metadata": {
        "id": "D0BGLQctL_Td"
      }
    },
    {
      "cell_type": "code",
      "source": [
        "name = 'Qahat'\n",
        "age = 25\n",
        "print(f'My name is {name}. I am {age} years old')"
      ],
      "metadata": {
        "colab": {
          "base_uri": "https://localhost:8080/"
        },
        "id": "Cjhf1-L5LzIq",
        "outputId": "c424b0f9-d063-4a67-f915-109558ed6384"
      },
      "execution_count": null,
      "outputs": [
        {
          "output_type": "stream",
          "name": "stdout",
          "text": [
            "My name is Qahat. I am 25 years old\n"
          ]
        }
      ]
    },
    {
      "cell_type": "markdown",
      "source": [
        "## Solving a problem with for, if-else, and list update statement"
      ],
      "metadata": {
        "id": "mey2SzVjZSOO"
      }
    },
    {
      "cell_type": "code",
      "source": [
        "groceries = ['Rice', 'Dal', 'Onion', 'Oil']\n",
        "groceries[3] = 'Soya-oil'\n",
        "groceries"
      ],
      "metadata": {
        "colab": {
          "base_uri": "https://localhost:8080/"
        },
        "id": "8nef6l-uPCmr",
        "outputId": "2189aa8e-473d-4b4f-b7c8-bd69776e0546"
      },
      "execution_count": null,
      "outputs": [
        {
          "output_type": "execute_result",
          "data": {
            "text/plain": [
              "['Rice', 'Dal', 'Onion', 'Soya-oil']"
            ]
          },
          "metadata": {},
          "execution_count": 7
        }
      ]
    },
    {
      "cell_type": "code",
      "source": [
        "groceries = ['Dal','Rice', 'Dal', 'Onion','Dal', 'Oil','Dal', 'Dal']\n",
        "\n",
        "# print(groceries[0])\n",
        "# print(groceries[1])\n",
        "# print(groceries[2])\n",
        "# print(groceries[3])\n",
        "\n",
        "for item in groceries:\n",
        "  print(item)"
      ],
      "metadata": {
        "id": "bV8PKrX51IfK"
      },
      "execution_count": null,
      "outputs": []
    },
    {
      "cell_type": "markdown",
      "source": [
        "### Replace all the 'Dal' with 'Lentil' for the given list\n",
        "groceries = ['Dal','Rice', 'Dal', 'Onion','Dal', 'Oil','Dal', 'Dal']"
      ],
      "metadata": {
        "id": "SR_0e3k4rsCS"
      }
    },
    {
      "cell_type": "code",
      "source": [
        "range?"
      ],
      "metadata": {
        "id": "Qh-95uoourmr"
      },
      "execution_count": null,
      "outputs": []
    },
    {
      "cell_type": "code",
      "source": [
        "print?"
      ],
      "metadata": {
        "id": "16AvIXgJu_ye"
      },
      "execution_count": null,
      "outputs": []
    },
    {
      "cell_type": "code",
      "source": [
        "groceries = ['Dal','Rice', 'Dal', 'Onion','Dal', 'Oil','Dal', 'Dal']\n",
        "list_len = len(groceries)\n",
        "for index in range(list_len):\n",
        "  if groceries[index] == 'Dal':\n",
        "    groceries[index] = 'Lentil'\n",
        "print(groceries)"
      ],
      "metadata": {
        "colab": {
          "base_uri": "https://localhost:8080/"
        },
        "id": "vWMiMAySuQ5v",
        "outputId": "9721f358-bf16-40ae-cfe6-3065f0da8e87"
      },
      "execution_count": null,
      "outputs": [
        {
          "output_type": "stream",
          "name": "stdout",
          "text": [
            "['Lentil', 'Rice', 'Lentil', 'Onion', 'Lentil', 'Oil', 'Lentil', 'Lentil']\n"
          ]
        }
      ]
    },
    {
      "cell_type": "code",
      "source": [
        "enumerate?"
      ],
      "metadata": {
        "id": "y_l4GXewvvac"
      },
      "execution_count": null,
      "outputs": []
    },
    {
      "cell_type": "code",
      "source": [
        "groceries = ['Dal','Rice', 'Dal', 'Onion','Dal', 'Oil','Dal', 'Dal']\n",
        "for index, item in enumerate(groceries):\n",
        "  # print(f'Item in {index} is: {groceries[index]}')\n",
        "  # print(groceries[index])\n",
        "  if item == 'Dal':\n",
        "    groceries[index] = 'Lentil'\n",
        "  print(index, item)\n",
        "print(groceries)"
      ],
      "metadata": {
        "colab": {
          "base_uri": "https://localhost:8080/"
        },
        "id": "UK2h9sZyHdq9",
        "outputId": "db2f9f32-a6d5-4451-f982-a81142079564"
      },
      "execution_count": null,
      "outputs": [
        {
          "output_type": "stream",
          "name": "stdout",
          "text": [
            "0 Dal\n",
            "1 Rice\n",
            "2 Dal\n",
            "3 Onion\n",
            "4 Dal\n",
            "5 Oil\n",
            "6 Dal\n",
            "7 Dal\n",
            "['Dal', 'Rice', 'Dal', 'Onion', 'Dal', 'Oil', 'Dal', 'Dal']\n"
          ]
        }
      ]
    },
    {
      "cell_type": "markdown",
      "source": [
        "## Indentation"
      ],
      "metadata": {
        "id": "VkYermvCVYV5"
      }
    },
    {
      "cell_type": "code",
      "source": [
        "for i in range(4):\n",
        "  print('Inside block')\n",
        "print('Outside block')\n",
        "if i == 2:\n",
        "  print('Here you go 2')"
      ],
      "metadata": {
        "colab": {
          "base_uri": "https://localhost:8080/"
        },
        "id": "fMTpBPv8VXhO",
        "outputId": "a9216642-d07b-4d5e-ff3d-3f1dc73b8b10"
      },
      "execution_count": null,
      "outputs": [
        {
          "output_type": "stream",
          "name": "stdout",
          "text": [
            "Inside block\n",
            "Inside block\n",
            "Inside block\n",
            "Inside block\n",
            "Outside block\n"
          ]
        }
      ]
    },
    {
      "cell_type": "code",
      "source": [
        "print(i)"
      ],
      "metadata": {
        "colab": {
          "base_uri": "https://localhost:8080/"
        },
        "id": "0cNsZ1OJxmBz",
        "outputId": "6c4b1e6b-5b66-4383-dab2-15193453edba"
      },
      "execution_count": null,
      "outputs": [
        {
          "output_type": "stream",
          "name": "stdout",
          "text": [
            "3\n"
          ]
        }
      ]
    },
    {
      "cell_type": "markdown",
      "source": [
        "## List"
      ],
      "metadata": {
        "id": "rnF53bK4Zg0m"
      }
    },
    {
      "cell_type": "code",
      "execution_count": null,
      "metadata": {
        "id": "L58sPpaBDR_4"
      },
      "outputs": [],
      "source": [
        "groceries = ['Rice', 'Dal', 'Onion', 'Oil']"
      ]
    },
    {
      "cell_type": "markdown",
      "source": [
        "### List manipulation"
      ],
      "metadata": {
        "id": "B__wpfOIboaJ"
      }
    },
    {
      "cell_type": "code",
      "source": [
        "random_obj_list = [1, 'hi', 2.40, groceries]\n",
        "random_obj_list"
      ],
      "metadata": {
        "colab": {
          "base_uri": "https://localhost:8080/"
        },
        "id": "GISEA4K0bn79",
        "outputId": "a705e651-90ab-456d-d651-18e044c59595"
      },
      "execution_count": null,
      "outputs": [
        {
          "output_type": "execute_result",
          "data": {
            "text/plain": [
              "[1, 'hi', 2.4, ['Rice', 'Dal', 'Onion', 'Oil']]"
            ]
          },
          "metadata": {},
          "execution_count": 59
        }
      ]
    },
    {
      "cell_type": "code",
      "source": [
        "range?"
      ],
      "metadata": {
        "id": "dD6Kh1IKVP-x"
      },
      "execution_count": null,
      "outputs": []
    },
    {
      "cell_type": "code",
      "source": [
        "print(range(2, 5, 2))"
      ],
      "metadata": {
        "colab": {
          "base_uri": "https://localhost:8080/"
        },
        "id": "IHwWAtt6U9UV",
        "outputId": "55965501-d5ce-4a99-bbd3-bac5cd616ffb"
      },
      "execution_count": null,
      "outputs": [
        {
          "output_type": "stream",
          "name": "stdout",
          "text": [
            "range(2, 5, 2)\n"
          ]
        }
      ]
    },
    {
      "cell_type": "code",
      "source": [
        "student_marks_of_PP_02 = list(range(5,15,1))\n",
        "# student_marks_of_PP_02 = list(range(5))\n",
        "# student_marks_of_PP_02 = list(range(0, 5, 2))\n",
        "print(student_marks_of_PP_02)"
      ],
      "metadata": {
        "colab": {
          "base_uri": "https://localhost:8080/"
        },
        "id": "rs4584Zce864",
        "outputId": "a79ebe19-7ee9-461a-a5c9-65933791ddaf"
      },
      "execution_count": null,
      "outputs": [
        {
          "output_type": "stream",
          "name": "stdout",
          "text": [
            "[5, 6, 7, 8, 9, 10, 11, 12, 13, 14]\n"
          ]
        }
      ]
    },
    {
      "cell_type": "code",
      "source": [
        "len(student_marks_of_PP_02)"
      ],
      "metadata": {
        "colab": {
          "base_uri": "https://localhost:8080/"
        },
        "id": "tLzilD5UV0Lp",
        "outputId": "cb78929c-3ac8-4de5-f3e1-f7706b6dfaf1"
      },
      "execution_count": null,
      "outputs": [
        {
          "output_type": "execute_result",
          "data": {
            "text/plain": [
              "10"
            ]
          },
          "metadata": {},
          "execution_count": 73
        }
      ]
    },
    {
      "cell_type": "code",
      "source": [
        "student_marks_of_PP_02[4]"
      ],
      "metadata": {
        "colab": {
          "base_uri": "https://localhost:8080/"
        },
        "id": "RrSVj05qfQw6",
        "outputId": "078c88a1-5998-45ed-a267-c791bf614b2b"
      },
      "execution_count": null,
      "outputs": [
        {
          "output_type": "execute_result",
          "data": {
            "text/plain": [
              "9"
            ]
          },
          "metadata": {},
          "execution_count": 74
        }
      ]
    },
    {
      "cell_type": "code",
      "source": [
        "student_marks_of_PP_02[0:4]"
      ],
      "metadata": {
        "colab": {
          "base_uri": "https://localhost:8080/"
        },
        "id": "iE6X9chefnJB",
        "outputId": "d727c4bb-9302-4535-d73a-c490bdb683c3"
      },
      "execution_count": null,
      "outputs": [
        {
          "output_type": "execute_result",
          "data": {
            "text/plain": [
              "[5, 6, 7, 8]"
            ]
          },
          "metadata": {},
          "execution_count": 75
        }
      ]
    },
    {
      "cell_type": "code",
      "source": [
        "student_marks_of_PP_02[-5:-1]"
      ],
      "metadata": {
        "colab": {
          "base_uri": "https://localhost:8080/"
        },
        "id": "dbqtRjyugQya",
        "outputId": "0b8042b9-fc58-48d9-a0e2-30e4a4ce39b3"
      },
      "execution_count": null,
      "outputs": [
        {
          "output_type": "execute_result",
          "data": {
            "text/plain": [
              "[10, 11, 12, 13]"
            ]
          },
          "metadata": {},
          "execution_count": 14
        }
      ]
    },
    {
      "cell_type": "code",
      "source": [
        "student_marks_of_PP_02[-1:-5]"
      ],
      "metadata": {
        "colab": {
          "base_uri": "https://localhost:8080/"
        },
        "id": "WM8Xesv54CX8",
        "outputId": "30727272-4f6f-461b-842c-7d847ee71199"
      },
      "execution_count": null,
      "outputs": [
        {
          "output_type": "execute_result",
          "data": {
            "text/plain": [
              "[]"
            ]
          },
          "metadata": {},
          "execution_count": 77
        }
      ]
    },
    {
      "cell_type": "code",
      "source": [
        "student_marks_of_PP_02[-5:]"
      ],
      "metadata": {
        "colab": {
          "base_uri": "https://localhost:8080/"
        },
        "id": "ImCqwDXdg25R",
        "outputId": "65d9d714-75fd-4889-e400-d18a1551feb5"
      },
      "execution_count": null,
      "outputs": [
        {
          "output_type": "execute_result",
          "data": {
            "text/plain": [
              "[10, 11, 12, 13, 14]"
            ]
          },
          "metadata": {},
          "execution_count": 78
        }
      ]
    },
    {
      "cell_type": "code",
      "source": [
        "student_marks_of_PP_02[:-5]"
      ],
      "metadata": {
        "colab": {
          "base_uri": "https://localhost:8080/"
        },
        "id": "nLpdr234hGmF",
        "outputId": "4de26a50-53bd-45c9-d7cf-b0a17466a21b"
      },
      "execution_count": null,
      "outputs": [
        {
          "output_type": "execute_result",
          "data": {
            "text/plain": [
              "[5, 6, 7, 8, 9]"
            ]
          },
          "metadata": {},
          "execution_count": 79
        }
      ]
    },
    {
      "cell_type": "code",
      "source": [
        "student_marks_of_PP_02[:]"
      ],
      "metadata": {
        "id": "Ksb69ZBihUIe",
        "colab": {
          "base_uri": "https://localhost:8080/"
        },
        "outputId": "cc1febbd-c3df-4292-ef27-662521c1f161"
      },
      "execution_count": null,
      "outputs": [
        {
          "output_type": "execute_result",
          "data": {
            "text/plain": [
              "[5, 6, 7, 8, 9, 10, 11, 12, 13, 14]"
            ]
          },
          "metadata": {},
          "execution_count": 80
        }
      ]
    },
    {
      "cell_type": "code",
      "source": [
        "print(student_marks_of_PP_02)\n",
        "student_marks_of_PP_02[:5:3]"
      ],
      "metadata": {
        "colab": {
          "base_uri": "https://localhost:8080/"
        },
        "id": "JMlUzy9_hh5m",
        "outputId": "1af38e63-457d-4116-a42c-e7b60663817a"
      },
      "execution_count": null,
      "outputs": [
        {
          "output_type": "stream",
          "name": "stdout",
          "text": [
            "[5, 6, 7, 8, 9, 10, 11, 12, 13, 14]\n"
          ]
        },
        {
          "output_type": "execute_result",
          "data": {
            "text/plain": [
              "[5, 8]"
            ]
          },
          "metadata": {},
          "execution_count": 81
        }
      ]
    },
    {
      "cell_type": "code",
      "source": [
        "student_marks_of_PP_02.remove(82)\n",
        "student_marks_of_PP_02.remove(85)\n",
        "student_marks_of_PP_02.remove(87)"
      ],
      "metadata": {
        "id": "g3CIMnCviLD7"
      },
      "execution_count": null,
      "outputs": []
    },
    {
      "cell_type": "code",
      "source": [
        "student_marks_of_PP_02"
      ],
      "metadata": {
        "colab": {
          "base_uri": "https://localhost:8080/"
        },
        "id": "5RRh2mVKiZwM",
        "outputId": "f4811802-2117-4b70-8ac1-5406a49b4757"
      },
      "execution_count": null,
      "outputs": [
        {
          "output_type": "execute_result",
          "data": {
            "text/plain": [
              "[80, 81, 83, 84, 86, 88, 89, 90, 91, 92, 93, 94, 95, 96, 97, 98, 99]"
            ]
          },
          "metadata": {},
          "execution_count": 44
        }
      ]
    },
    {
      "cell_type": "code",
      "source": [
        "82 in student_marks_of_PP_02"
      ],
      "metadata": {
        "colab": {
          "base_uri": "https://localhost:8080/"
        },
        "id": "JK-poSkbigsa",
        "outputId": "f054424c-ba40-45d5-a033-fdf278649395"
      },
      "execution_count": null,
      "outputs": [
        {
          "output_type": "execute_result",
          "data": {
            "text/plain": [
              "False"
            ]
          },
          "metadata": {},
          "execution_count": 46
        }
      ]
    },
    {
      "cell_type": "code",
      "source": [
        "list_1 = student_marks_of_PP_02[0:3]\n",
        "list_2 = student_marks_of_PP_02[-3:]\n",
        "added_list = list_1 + list_2\n",
        "print(list_1, list_2)\n",
        "print(added_list)"
      ],
      "metadata": {
        "colab": {
          "base_uri": "https://localhost:8080/"
        },
        "id": "w9tzdMz5iwLj",
        "outputId": "116a2319-be78-46ac-b803-c139608ecf91"
      },
      "execution_count": null,
      "outputs": [
        {
          "output_type": "stream",
          "name": "stdout",
          "text": [
            "[5, 6, 7] [12, 13, 14]\n",
            "[5, 6, 7, 12, 13, 14]\n"
          ]
        }
      ]
    },
    {
      "cell_type": "code",
      "source": [
        "print(len(student_marks_of_PP_02))\n",
        "print(max(student_marks_of_PP_02))\n",
        "print(min(student_marks_of_PP_02))"
      ],
      "metadata": {
        "colab": {
          "base_uri": "https://localhost:8080/"
        },
        "id": "j13pDZ6fj3Jg",
        "outputId": "a0edd58b-9c73-45d8-d651-d8b72247c62f"
      },
      "execution_count": null,
      "outputs": [
        {
          "output_type": "stream",
          "name": "stdout",
          "text": [
            "5\n",
            "13\n",
            "5\n"
          ]
        }
      ]
    },
    {
      "cell_type": "code",
      "source": [
        "print(student_marks_of_PP_02)\n",
        "student_marks_of_PP_02[2] = 150\n",
        "print(student_marks_of_PP_02)"
      ],
      "metadata": {
        "colab": {
          "base_uri": "https://localhost:8080/"
        },
        "id": "rbFafC4EXfAD",
        "outputId": "5dceaec1-df26-434e-cb5d-e2e4a1a96d2b"
      },
      "execution_count": null,
      "outputs": [
        {
          "output_type": "stream",
          "name": "stdout",
          "text": [
            "[5, 7, 9, 11, 13]\n",
            "[5, 7, 150, 11, 13]\n"
          ]
        }
      ]
    },
    {
      "cell_type": "code",
      "source": [
        "print(student_marks_of_PP_02)\n",
        "student_marks_of_PP_02[2:5] = [57,85,34]\n",
        "student_marks_of_PP_02"
      ],
      "metadata": {
        "colab": {
          "base_uri": "https://localhost:8080/"
        },
        "id": "-rkPg1zckjjZ",
        "outputId": "da933d0e-77f9-49e8-92eb-3bba9c6c7345"
      },
      "execution_count": null,
      "outputs": [
        {
          "output_type": "stream",
          "name": "stdout",
          "text": [
            "[5, 7, 150, 11, 13]\n"
          ]
        },
        {
          "output_type": "execute_result",
          "data": {
            "text/plain": [
              "[5, 7, 57, 85, 34]"
            ]
          },
          "metadata": {},
          "execution_count": 26
        }
      ]
    },
    {
      "cell_type": "code",
      "source": [
        "# student_marks_of_PP_02.sort()\n",
        "student_marks_of_PP_02.sort(reverse = True)\n",
        "print(student_marks_of_PP_02)"
      ],
      "metadata": {
        "id": "D8JUFZkulFqj",
        "colab": {
          "base_uri": "https://localhost:8080/"
        },
        "outputId": "ede990b6-b1ae-40d4-d8f2-a81bd2dd7318"
      },
      "execution_count": null,
      "outputs": [
        {
          "output_type": "stream",
          "name": "stdout",
          "text": [
            "[85, 57, 34, 7, 5]\n"
          ]
        }
      ]
    },
    {
      "cell_type": "code",
      "source": [
        "student_marks_of_PP_02"
      ],
      "metadata": {
        "colab": {
          "base_uri": "https://localhost:8080/"
        },
        "id": "vaC7YBq8lIug",
        "outputId": "ed1854b6-888c-4188-8366-1d2711db39db"
      },
      "execution_count": null,
      "outputs": [
        {
          "output_type": "execute_result",
          "data": {
            "text/plain": [
              "[85, 57, 34, 14, 13, 12, 11, 10, 6, 5]"
            ]
          },
          "metadata": {},
          "execution_count": 91
        }
      ]
    },
    {
      "cell_type": "markdown",
      "source": [
        "## String manipulation with : operator"
      ],
      "metadata": {
        "id": "uUqmLdTOmlSP"
      }
    },
    {
      "cell_type": "code",
      "source": [
        "plain_text = 'My name is Joy'\n",
        "plain_text[:2] + plain_text[-3:]"
      ],
      "metadata": {
        "colab": {
          "base_uri": "https://localhost:8080/",
          "height": 36
        },
        "id": "zeasCsN2ly7U",
        "outputId": "e089564f-2892-461f-e98d-e04984cf6935"
      },
      "execution_count": null,
      "outputs": [
        {
          "output_type": "execute_result",
          "data": {
            "text/plain": [
              "'MyJoy'"
            ],
            "application/vnd.google.colaboratory.intrinsic+json": {
              "type": "string"
            }
          },
          "metadata": {},
          "execution_count": 30
        }
      ]
    },
    {
      "cell_type": "markdown",
      "source": [
        "## Tuple"
      ],
      "metadata": {
        "id": "Z9Vf9Tagm32B"
      }
    },
    {
      "cell_type": "code",
      "source": [
        "my_first_tuple = (3.1416, 9.81, 365, 30, 7, 24)\n",
        "print(my_first_tuple[0])"
      ],
      "metadata": {
        "colab": {
          "base_uri": "https://localhost:8080/"
        },
        "id": "N431d8pWm2_R",
        "outputId": "10bbe6c4-deb4-4273-8060-c2948b1a3534"
      },
      "execution_count": null,
      "outputs": [
        {
          "output_type": "stream",
          "name": "stdout",
          "text": [
            "(3.1416, 9.81, 365, 30, 7, 7, 24)\n"
          ]
        }
      ]
    },
    {
      "cell_type": "code",
      "source": [
        "print(my_first_tuple[0:2])\n",
        "print(my_first_tuple[-2:])"
      ],
      "metadata": {
        "colab": {
          "base_uri": "https://localhost:8080/"
        },
        "id": "3F_Yu5monjDv",
        "outputId": "3ddb4a1f-41c4-41c3-8fc5-303c067a839a"
      },
      "execution_count": null,
      "outputs": [
        {
          "output_type": "stream",
          "name": "stdout",
          "text": [
            "(3.1416, 9.81)\n",
            "(7, 24)\n"
          ]
        }
      ]
    },
    {
      "cell_type": "code",
      "source": [
        "# Tuples are immutable\n",
        "my_first_tuple[1] = 4.9"
      ],
      "metadata": {
        "id": "sNJGF0iYnpfb",
        "colab": {
          "base_uri": "https://localhost:8080/",
          "height": 163
        },
        "outputId": "7363a2af-6e52-44e4-e354-a729cc97d656"
      },
      "execution_count": null,
      "outputs": [
        {
          "output_type": "error",
          "ename": "TypeError",
          "evalue": "'tuple' object does not support item assignment",
          "traceback": [
            "\u001b[0;31m---------------------------------------------------------------------------\u001b[0m",
            "\u001b[0;31mTypeError\u001b[0m                                 Traceback (most recent call last)",
            "\u001b[0;32m<ipython-input-33-e5f6ae60f510>\u001b[0m in \u001b[0;36m<cell line: 2>\u001b[0;34m()\u001b[0m\n\u001b[1;32m      1\u001b[0m \u001b[0;31m# Tuples are immutable\u001b[0m\u001b[0;34m\u001b[0m\u001b[0;34m\u001b[0m\u001b[0m\n\u001b[0;32m----> 2\u001b[0;31m \u001b[0mmy_first_tuple\u001b[0m\u001b[0;34m[\u001b[0m\u001b[0;36m1\u001b[0m\u001b[0;34m]\u001b[0m \u001b[0;34m=\u001b[0m \u001b[0;36m4.9\u001b[0m\u001b[0;34m\u001b[0m\u001b[0;34m\u001b[0m\u001b[0m\n\u001b[0m",
            "\u001b[0;31mTypeError\u001b[0m: 'tuple' object does not support item assignment"
          ]
        }
      ]
    },
    {
      "cell_type": "markdown",
      "source": [
        "## Inputs"
      ],
      "metadata": {
        "id": "Xv0QayqHoNCi"
      }
    },
    {
      "cell_type": "code",
      "source": [
        "name = input(\"What is your name? \")\n",
        "print(f\"Hello! {name}\")"
      ],
      "metadata": {
        "colab": {
          "base_uri": "https://localhost:8080/"
        },
        "id": "OspBMCdToO5_",
        "outputId": "b3b7cf75-3b2a-4446-a0db-31d6a44e972c"
      },
      "execution_count": null,
      "outputs": [
        {
          "output_type": "stream",
          "name": "stdout",
          "text": [
            "What is your name? 10\n",
            "Hello! 10\n"
          ]
        }
      ]
    },
    {
      "cell_type": "code",
      "source": [
        "print(type(name))"
      ],
      "metadata": {
        "colab": {
          "base_uri": "https://localhost:8080/"
        },
        "id": "gkOgZIaRz_Ci",
        "outputId": "24dd44df-b3ba-41c6-af2f-1f633056f149"
      },
      "execution_count": null,
      "outputs": [
        {
          "output_type": "stream",
          "name": "stdout",
          "text": [
            "<class 'str'>\n"
          ]
        }
      ]
    },
    {
      "cell_type": "code",
      "source": [
        "first_num = \"100.1\"\n",
        "second_num = \"200\"\n",
        "first_num_in_int = float(first_num)\n",
        "second_num_in_int = int(second_num)\n",
        "sum = first_num_in_int + second_num_in_int\n",
        "print(type(sum), sum)"
      ],
      "metadata": {
        "colab": {
          "base_uri": "https://localhost:8080/"
        },
        "id": "-GPfK9Fx0NFU",
        "outputId": "445eacf8-f9b2-436d-fad3-264892980455"
      },
      "execution_count": null,
      "outputs": [
        {
          "output_type": "stream",
          "name": "stdout",
          "text": [
            "<class 'float'> 300.1\n"
          ]
        }
      ]
    },
    {
      "cell_type": "code",
      "source": [
        "side_of_square = input(\"Give length of a side of a square: \")\n",
        "print(type(side_of_square))\n",
        "square_area = int(side_of_square) * int(side_of_square)\n",
        "print(f'Here is the area of your square: {square_area}')"
      ],
      "metadata": {
        "colab": {
          "base_uri": "https://localhost:8080/"
        },
        "id": "uodge8R3o0UJ",
        "outputId": "df7ad7c3-2c56-494a-c774-a811bb10c686"
      },
      "execution_count": null,
      "outputs": [
        {
          "output_type": "stream",
          "name": "stdout",
          "text": [
            "Give length of a side of a square: 13\n",
            "<class 'str'>\n",
            "Here is the area of your square: 169\n"
          ]
        }
      ]
    },
    {
      "cell_type": "markdown",
      "source": [
        "# Class_02_continued"
      ],
      "metadata": {
        "id": "KNa3n_2VPdJI"
      }
    },
    {
      "cell_type": "markdown",
      "source": [
        "* print with argument passing\n",
        "* operators & operand\n",
        "* import statement\n",
        "* argument\n",
        "* Errors: syntax, runtime, semantic"
      ],
      "metadata": {
        "id": "42LzBB5QMXsn"
      }
    },
    {
      "cell_type": "markdown",
      "source": [
        "## Print() function"
      ],
      "metadata": {
        "id": "_fdLlEQ8Pqaf"
      }
    },
    {
      "cell_type": "code",
      "execution_count": null,
      "metadata": {
        "colab": {
          "base_uri": "https://localhost:8080/"
        },
        "id": "s4Id5gg-JPXw",
        "outputId": "4e296305-3bdc-4e64-ae71-6c59335377c9"
      },
      "outputs": [
        {
          "output_type": "stream",
          "name": "stdout",
          "text": [
            "10||10.5-->10||10.5\n"
          ]
        }
      ],
      "source": [
        "a = 10\n",
        "b = 10.5\n",
        "c = \" This is a number addition \"\n",
        "name = \"Printer\"\n",
        "print(a, b, sep = \"||\", end=\"-->\")\n",
        "print(a, b, sep = \"||\")\n",
        "# print(a, b, sep=\" + \", end = \"\\n\")\n",
        "# print('=', a+b)"
      ]
    },
    {
      "cell_type": "code",
      "source": [
        "print('Rakib\\'s friend is tonmoy\\n')\n",
        "# print('Rakib\\'s friend is tonmoy\\n', end='')\n",
        "print('Ashik\\'s friend is Rakib')"
      ],
      "metadata": {
        "colab": {
          "base_uri": "https://localhost:8080/"
        },
        "id": "u0fqJsT16Kqp",
        "outputId": "592550a0-f94a-4851-9028-8f87955eb3ac"
      },
      "execution_count": null,
      "outputs": [
        {
          "output_type": "stream",
          "name": "stdout",
          "text": [
            "Rakib's friend is tonmoy\n",
            "\n",
            "Ashik's friend is Rakib\n"
          ]
        }
      ]
    },
    {
      "cell_type": "markdown",
      "source": [
        "## Operators and operands"
      ],
      "metadata": {
        "id": "R6b6bREhRSXL"
      }
    },
    {
      "cell_type": "code",
      "source": [
        "print(2 + 5)\n",
        "print(2 - 5)\n",
        "print(2 * 5)\n",
        "print(2 / 5)"
      ],
      "metadata": {
        "colab": {
          "base_uri": "https://localhost:8080/"
        },
        "id": "4OTmWeBZPwgz",
        "outputId": "b57990bf-5ca0-43c4-9958-1af7c1231f17"
      },
      "execution_count": null,
      "outputs": [
        {
          "output_type": "stream",
          "name": "stdout",
          "text": [
            "7\n",
            "-3\n",
            "10\n",
            "0.4\n"
          ]
        }
      ]
    },
    {
      "cell_type": "code",
      "source": [
        "a = 10\n",
        "b = 3\n",
        "\n",
        "\n",
        "# a = a % b\n",
        "# a %= b\n",
        "a += b\n",
        "\n",
        "print(a)"
      ],
      "metadata": {
        "colab": {
          "base_uri": "https://localhost:8080/"
        },
        "id": "c9w5ZqncTnah",
        "outputId": "d274957f-b334-44ed-985c-773573425f4b"
      },
      "execution_count": null,
      "outputs": [
        {
          "output_type": "stream",
          "name": "stdout",
          "text": [
            "13\n"
          ]
        }
      ]
    },
    {
      "cell_type": "code",
      "source": [
        "a = 10\n",
        "b = 3\n",
        "# a == b\n",
        "# a != b\n",
        "# a > b\n",
        "# a < b\n",
        "a <= b"
      ],
      "metadata": {
        "colab": {
          "base_uri": "https://localhost:8080/"
        },
        "id": "jk_xx8s5UDf3",
        "outputId": "5a2c1727-f078-493a-b824-cde9d9453405"
      },
      "execution_count": null,
      "outputs": [
        {
          "output_type": "execute_result",
          "data": {
            "text/plain": [
              "False"
            ]
          },
          "metadata": {},
          "execution_count": 62
        }
      ]
    },
    {
      "cell_type": "markdown",
      "source": [
        "### Operator and operand"
      ],
      "metadata": {
        "id": "ZgIye1prUw89"
      }
    },
    {
      "cell_type": "markdown",
      "source": [
        "#### Arithmatic operators"
      ],
      "metadata": {
        "id": "SsD-obLRVMX7"
      }
    },
    {
      "cell_type": "code",
      "source": [
        "print(2 + 4)\n",
        "print(2 - 4)\n",
        "print(2 * 4)\n",
        "print(2 / 4)\n",
        "print(5 // 4)\n",
        "\n",
        "# 2^5\n",
        "print(2 ** 5)\n",
        "\n",
        "# 5 mod 2 = 1\n",
        "print(5 % 2)"
      ],
      "metadata": {
        "colab": {
          "base_uri": "https://localhost:8080/"
        },
        "id": "g5DBUxKBUzRN",
        "outputId": "6a1c8486-372c-4da3-f8a2-fe0421ad82ce"
      },
      "execution_count": null,
      "outputs": [
        {
          "output_type": "stream",
          "name": "stdout",
          "text": [
            "6\n",
            "-2\n",
            "8\n",
            "0.5\n",
            "1\n"
          ]
        }
      ]
    },
    {
      "cell_type": "code",
      "source": [
        "# Integer Divison\n",
        "print(9 // 2, type(9//5))"
      ],
      "metadata": {
        "colab": {
          "base_uri": "https://localhost:8080/"
        },
        "id": "Vn8nbwZUgOIx",
        "outputId": "ef572926-0bbe-4a35-9e52-23d2cc9ed10d"
      },
      "execution_count": null,
      "outputs": [
        {
          "output_type": "stream",
          "name": "stdout",
          "text": [
            "4 <class 'int'>\n"
          ]
        }
      ]
    },
    {
      "cell_type": "markdown",
      "source": [
        "## Expressions and statements\n",
        "So far, we’ve seen a few kinds of expressions. An expression can be a single value, like an integer, floating-point number, or string. It can also be a collection of values and operators. And it can include variable names and function calls. Here’s an expression that includes several of these elements."
      ],
      "metadata": {
        "id": "KAazMwFxgbGU"
      }
    },
    {
      "cell_type": "code",
      "source": [
        "n = 17\n",
        "19 + n + 3 * 2"
      ],
      "metadata": {
        "colab": {
          "base_uri": "https://localhost:8080/"
        },
        "id": "1jJzTycFgiaL",
        "outputId": "fbc27ef5-c218-47c7-d575-355cad0848c4"
      },
      "execution_count": null,
      "outputs": [
        {
          "output_type": "execute_result",
          "data": {
            "text/plain": [
              "42"
            ]
          },
          "metadata": {},
          "execution_count": 64
        }
      ]
    },
    {
      "cell_type": "markdown",
      "source": [
        "We have also seen a few kind of statements. A statement is a unit of code that has an effect, but no value. For example, an assignment statement creates a variable and gives it a value, but the statement itself has no value."
      ],
      "metadata": {
        "id": "RSM7J_Fsgodt"
      }
    },
    {
      "cell_type": "code",
      "source": [
        "n = 17"
      ],
      "metadata": {
        "id": "2V7eBt3DgnlA"
      },
      "execution_count": null,
      "outputs": []
    },
    {
      "cell_type": "markdown",
      "source": [
        "\n",
        "Similarly, an import statement has an effect – it imports a module so we can use the variables and functions it contains – but it has no visible effect."
      ],
      "metadata": {
        "id": "MzkG8kzwgy52"
      }
    },
    {
      "cell_type": "code",
      "source": [
        "import math\n",
        "print(math.pi)"
      ],
      "metadata": {
        "colab": {
          "base_uri": "https://localhost:8080/"
        },
        "id": "HsEQ-_UNg4Ix",
        "outputId": "de9bdb75-d727-4fe5-cbaf-1e3fa28922c1"
      },
      "execution_count": null,
      "outputs": [
        {
          "output_type": "stream",
          "name": "stdout",
          "text": [
            "3.141592653589793\n"
          ]
        }
      ]
    },
    {
      "cell_type": "markdown",
      "source": [
        "Computing the value of an expression is called evaluation. Running a statement is called execution."
      ],
      "metadata": {
        "id": "RWwJGY_Yg2DS"
      }
    },
    {
      "cell_type": "code",
      "source": [
        "# Assignment operator\n",
        "# Statement\n",
        "a = 10\n",
        "b = 10.5\n",
        "\n",
        "# Expression\n",
        "print(10/5)"
      ],
      "metadata": {
        "id": "hDGHc6lbgSwu"
      },
      "execution_count": null,
      "outputs": []
    },
    {
      "cell_type": "markdown",
      "source": [
        "#### Logical operator"
      ],
      "metadata": {
        "id": "GI3WGpQPWd_j"
      }
    },
    {
      "cell_type": "code",
      "source": [
        "a = 5\n",
        "b = 6\n",
        "if a > 2 and b<9:\n",
        "  print(\"a > 2 and b is less than 9\")\n",
        "\n",
        "if a > 7 or b<9:\n",
        "  print(\"a > 7 or b is less than 9\")\n",
        "\n",
        "if True and False:\n",
        "  print('Everything is true')\n",
        "\n",
        "if not False or False:\n",
        "  print('Any one is true')"
      ],
      "metadata": {
        "colab": {
          "base_uri": "https://localhost:8080/"
        },
        "id": "XIiPADWmVrih",
        "outputId": "61cd6f01-9df6-4047-95c8-09c6f046903c"
      },
      "execution_count": null,
      "outputs": [
        {
          "output_type": "stream",
          "name": "stdout",
          "text": [
            "a > 2 and b is less than 9\n",
            "a > 7 or b is less than 9\n",
            "Any one is true\n"
          ]
        }
      ]
    },
    {
      "cell_type": "code",
      "source": [
        "x = 4\n",
        "y = 5\n",
        "\n",
        "if x == y:\n",
        "  print(\"x equals y\")\n",
        "\n",
        "if x != y:\n",
        "  print(\"x not equals y\")"
      ],
      "metadata": {
        "colab": {
          "base_uri": "https://localhost:8080/"
        },
        "id": "4DVDfJ1R6aiL",
        "outputId": "bc6640ec-687d-4c95-a88f-71171cf682ba"
      },
      "execution_count": null,
      "outputs": [
        {
          "output_type": "stream",
          "name": "stdout",
          "text": [
            "x not equals y\n"
          ]
        }
      ]
    },
    {
      "cell_type": "code",
      "source": [
        "list_a = [1,2,3]\n",
        "list_b = [1,2,3]\n",
        "\n",
        "list_c = list_a\n",
        "print(list_a, list_b, list_c)\n",
        "\n",
        "if list_a == list_b:\n",
        "  print(\"list_a equals list_b\")"
      ],
      "metadata": {
        "colab": {
          "base_uri": "https://localhost:8080/"
        },
        "id": "68LtYawfWiUy",
        "outputId": "4148f530-7734-4b33-83d9-90de199ae49e"
      },
      "execution_count": null,
      "outputs": [
        {
          "output_type": "stream",
          "name": "stdout",
          "text": [
            "[1, 2, 3] [1, 2, 3] [1, 2, 3]\n",
            "list_a equals list_b\n"
          ]
        }
      ]
    },
    {
      "cell_type": "code",
      "source": [
        "if list_a is list_c:\n",
        "  print(\"same reference\")"
      ],
      "metadata": {
        "colab": {
          "base_uri": "https://localhost:8080/"
        },
        "id": "muBKBxfH6wAg",
        "outputId": "2df1721d-9d1c-4d94-9860-73dcb368be53"
      },
      "execution_count": null,
      "outputs": [
        {
          "output_type": "stream",
          "name": "stdout",
          "text": [
            "same reference\n"
          ]
        }
      ]
    },
    {
      "cell_type": "code",
      "source": [
        "if list_a is list_c:\n",
        "  print(\"List_a and list_c has same address\")\n",
        "\n",
        "if list_a is not list_b:\n",
        "  print(\"List_a and list_b has not same address\")\n",
        "\n",
        "list_c[2] = 100\n",
        "print(list_a, list_c)"
      ],
      "metadata": {
        "colab": {
          "base_uri": "https://localhost:8080/"
        },
        "id": "EVyb1Ix16XGU",
        "outputId": "512702dd-9889-4377-bb2a-659b2491deaf"
      },
      "execution_count": null,
      "outputs": [
        {
          "output_type": "stream",
          "name": "stdout",
          "text": [
            "List_a and list_c has same address\n",
            "List_a and list_b has not same address\n",
            "[1, 2, 100] [1, 2, 100]\n"
          ]
        }
      ]
    },
    {
      "cell_type": "markdown",
      "source": [
        "#### Membership operator"
      ],
      "metadata": {
        "id": "G7EoPb0iZLpg"
      }
    },
    {
      "cell_type": "code",
      "source": [
        "string = \"I am Bangladesh\"\n",
        "search = \"Bangladesh\"\n",
        "list_1 = [1,2,3,4,5]\n",
        "\n",
        "print(search in string)\n",
        "\n",
        "print(6 not in list_1)\n",
        "print(1 in list_1)"
      ],
      "metadata": {
        "colab": {
          "base_uri": "https://localhost:8080/"
        },
        "id": "fPOP-8RwYuhL",
        "outputId": "0bce7325-7682-4b64-8277-797d9cde30f1"
      },
      "execution_count": null,
      "outputs": [
        {
          "output_type": "stream",
          "name": "stdout",
          "text": [
            "True\n",
            "True\n",
            "True\n"
          ]
        }
      ]
    },
    {
      "cell_type": "code",
      "source": [
        "list_1 = [1,2,3,4,5]\n",
        "print(7 not in list_1)"
      ],
      "metadata": {
        "colab": {
          "base_uri": "https://localhost:8080/"
        },
        "outputId": "f0d9a79d-3bd6-42ed-c2d0-88159aa813f2",
        "id": "WuuEjAmpQ0mw"
      },
      "execution_count": null,
      "outputs": [
        {
          "output_type": "stream",
          "name": "stdout",
          "text": [
            "True\n"
          ]
        }
      ]
    },
    {
      "cell_type": "markdown",
      "source": [
        "#### Ternary Operation"
      ],
      "metadata": {
        "id": "gNsQD0Infs8q"
      }
    },
    {
      "cell_type": "code",
      "source": [
        "a = 10\n",
        "b = 10\n",
        "\n",
        "if a == b:\n",
        "  print('a equals b')\n",
        "else:\n",
        "  print('a not equal b')"
      ],
      "metadata": {
        "colab": {
          "base_uri": "https://localhost:8080/"
        },
        "id": "LMY8irf-fsnE",
        "outputId": "faf21cc6-c902-48c4-b652-f96ef4480ddd"
      },
      "execution_count": null,
      "outputs": [
        {
          "output_type": "stream",
          "name": "stdout",
          "text": [
            "a equals b\n"
          ]
        }
      ]
    },
    {
      "cell_type": "code",
      "source": [
        "# Ternary operation\n",
        "print('a equals b') if a == b else print('a not equal b')"
      ],
      "metadata": {
        "colab": {
          "base_uri": "https://localhost:8080/"
        },
        "id": "X9KsLw6G7lm3",
        "outputId": "db8d0fc6-daed-4598-a233-da2c2625f1b8"
      },
      "execution_count": null,
      "outputs": [
        {
          "output_type": "stream",
          "name": "stdout",
          "text": [
            "a equals b\n"
          ]
        }
      ]
    },
    {
      "cell_type": "code",
      "source": [
        "if a == b:\n",
        "  print('a equals b')\n",
        "else:\n",
        "  if a > b:\n",
        "    print('a is greater than b')\n",
        "  else:\n",
        "    print('b is greater than a')"
      ],
      "metadata": {
        "id": "doFGhsbh7n8Q"
      },
      "execution_count": null,
      "outputs": []
    },
    {
      "cell_type": "markdown",
      "source": [
        "## import a module"
      ],
      "metadata": {
        "id": "3_C4S1KFVTIW"
      }
    },
    {
      "cell_type": "code",
      "source": [
        "import math\n",
        "print(math.pi)\n",
        "\n",
        "# 2^5 ==> 2**5\n",
        "print(math.pow(2,5))"
      ],
      "metadata": {
        "colab": {
          "base_uri": "https://localhost:8080/"
        },
        "id": "IAZ-PeYbVSAd",
        "outputId": "9f60cf5b-c26f-44e1-d4fb-5b067961a358"
      },
      "execution_count": null,
      "outputs": [
        {
          "output_type": "stream",
          "name": "stdout",
          "text": [
            "3.141592653589793\n",
            "32.0\n"
          ]
        }
      ]
    },
    {
      "cell_type": "code",
      "source": [
        "print(math.floor(1.22334))"
      ],
      "metadata": {
        "colab": {
          "base_uri": "https://localhost:8080/"
        },
        "id": "BIRkxxEpVe3V",
        "outputId": "53e8b603-5ad8-4e6d-b871-1ab18f436eac"
      },
      "execution_count": null,
      "outputs": [
        {
          "output_type": "stream",
          "name": "stdout",
          "text": [
            "1\n"
          ]
        }
      ]
    },
    {
      "cell_type": "code",
      "source": [
        "print(math.ceil(1.22334))"
      ],
      "metadata": {
        "colab": {
          "base_uri": "https://localhost:8080/"
        },
        "id": "wHDzR6qoWhWh",
        "outputId": "58325beb-23b1-4392-c3a6-cdaee0bf714e"
      },
      "execution_count": null,
      "outputs": [
        {
          "output_type": "stream",
          "name": "stdout",
          "text": [
            "2\n"
          ]
        }
      ]
    },
    {
      "cell_type": "code",
      "source": [
        "import math"
      ],
      "metadata": {
        "id": "MAUuisZDXNsQ"
      },
      "execution_count": null,
      "outputs": []
    },
    {
      "cell_type": "code",
      "source": [
        "print(math.ceil(1.22334))"
      ],
      "metadata": {
        "colab": {
          "base_uri": "https://localhost:8080/"
        },
        "id": "lXQRHd-uW6dS",
        "outputId": "bdd1adb8-5baf-4f31-eb59-db890df6eda1"
      },
      "execution_count": null,
      "outputs": [
        {
          "output_type": "stream",
          "name": "stdout",
          "text": [
            "2\n"
          ]
        }
      ]
    },
    {
      "cell_type": "code",
      "source": [
        "print(math.round(1.22334))"
      ],
      "metadata": {
        "id": "yf1EbGofXHuK",
        "colab": {
          "base_uri": "https://localhost:8080/",
          "height": 145
        },
        "outputId": "fccde17b-4c62-4daa-9713-b2eb58c5ff90"
      },
      "execution_count": null,
      "outputs": [
        {
          "output_type": "error",
          "ename": "AttributeError",
          "evalue": "module 'math' has no attribute 'round'",
          "traceback": [
            "\u001b[0;31m---------------------------------------------------------------------------\u001b[0m",
            "\u001b[0;31mAttributeError\u001b[0m                            Traceback (most recent call last)",
            "\u001b[0;32m<ipython-input-83-60d1ed1fde1b>\u001b[0m in \u001b[0;36m<cell line: 1>\u001b[0;34m()\u001b[0m\n\u001b[0;32m----> 1\u001b[0;31m \u001b[0mprint\u001b[0m\u001b[0;34m(\u001b[0m\u001b[0mmath\u001b[0m\u001b[0;34m.\u001b[0m\u001b[0mround\u001b[0m\u001b[0;34m(\u001b[0m\u001b[0;36m1.22334\u001b[0m\u001b[0;34m)\u001b[0m\u001b[0;34m)\u001b[0m\u001b[0;34m\u001b[0m\u001b[0;34m\u001b[0m\u001b[0m\n\u001b[0m",
            "\u001b[0;31mAttributeError\u001b[0m: module 'math' has no attribute 'round'"
          ]
        }
      ]
    },
    {
      "cell_type": "code",
      "source": [
        "print(round(1.34))\n",
        "print(round(1.54))"
      ],
      "metadata": {
        "colab": {
          "base_uri": "https://localhost:8080/"
        },
        "id": "weNr18V4-h3y",
        "outputId": "4b9cd72c-41ca-47af-9cd2-e9ff6e28eeea"
      },
      "execution_count": null,
      "outputs": [
        {
          "output_type": "stream",
          "name": "stdout",
          "text": [
            "1\n",
            "2\n"
          ]
        }
      ]
    },
    {
      "cell_type": "markdown",
      "source": [
        "## Debugging\n",
        "Three kinds of errors can occur in a program: `syntax errors, runtime errors, and semantic errors`. It is useful to distinguish between them in order to track them down more quickly.\n",
        "\n",
        "**Syntax error:** “Syntax” refers to the structure of a program and the rules about that structure. If there is a syntax error anywhere in your program, Python does not run the program. It displays an error message immediately.\n",
        "\n",
        "**Runtime error**: If there are no syntax errors in your program, it can start running. But if something goes wrong, Python displays an error message and stops. This type of error is called a runtime error. It is also called an exception because it indicates that something exceptional has happened.\n",
        "\n",
        "**Semantic error:** The third type of error is “semantic”, which means related to meaning. If there is a semantic error in your program, it runs without generating error messages, but it does not do what you intended. Identifying semantic errors can be tricky because it requires you to work backward by looking at the output of the program and trying to figure out what it is doing.\n",
        "\n",
        "As we’ve seen, an illegal variable name is a syntax error."
      ],
      "metadata": {
        "id": "NKPQrbsDhk7O"
      }
    },
    {
      "cell_type": "markdown",
      "source": [
        "### Errros"
      ],
      "metadata": {
        "id": "t81TSGnWX6pY"
      }
    },
    {
      "cell_type": "code",
      "source": [
        "million! = 1000000"
      ],
      "metadata": {
        "colab": {
          "base_uri": "https://localhost:8080/",
          "height": 109
        },
        "id": "-48ObyHEhvg7",
        "outputId": "5a5034fb-3215-45dc-c120-2694d1f51ba6"
      },
      "execution_count": null,
      "outputs": [
        {
          "output_type": "error",
          "ename": "SyntaxError",
          "evalue": "invalid syntax (<ipython-input-86-0539b52dc75a>, line 1)",
          "traceback": [
            "\u001b[0;36m  File \u001b[0;32m\"<ipython-input-86-0539b52dc75a>\"\u001b[0;36m, line \u001b[0;32m1\u001b[0m\n\u001b[0;31m    million! = 1000000\u001b[0m\n\u001b[0m           ^\u001b[0m\n\u001b[0;31mSyntaxError\u001b[0m\u001b[0;31m:\u001b[0m invalid syntax\n"
          ]
        }
      ]
    },
    {
      "cell_type": "code",
      "source": [
        "print(i am a student)"
      ],
      "metadata": {
        "colab": {
          "base_uri": "https://localhost:8080/",
          "height": 109
        },
        "id": "IdGDDg_wXYtr",
        "outputId": "7dea00d8-4a85-4996-ba57-73b1c3fe23ba"
      },
      "execution_count": null,
      "outputs": [
        {
          "output_type": "error",
          "ename": "SyntaxError",
          "evalue": "invalid syntax. Perhaps you forgot a comma? (<ipython-input-87-924f08a9d875>, line 1)",
          "traceback": [
            "\u001b[0;36m  File \u001b[0;32m\"<ipython-input-87-924f08a9d875>\"\u001b[0;36m, line \u001b[0;32m1\u001b[0m\n\u001b[0;31m    print(i am a student)\u001b[0m\n\u001b[0m          ^\u001b[0m\n\u001b[0;31mSyntaxError\u001b[0m\u001b[0;31m:\u001b[0m invalid syntax. Perhaps you forgot a comma?\n"
          ]
        }
      ]
    },
    {
      "cell_type": "markdown",
      "source": [
        "If you use an operator with a type/value it doesn’t support, that’s a runtime error."
      ],
      "metadata": {
        "id": "QnImBNKhiCFa"
      }
    },
    {
      "cell_type": "code",
      "source": [
        "print(2/0)"
      ],
      "metadata": {
        "colab": {
          "base_uri": "https://localhost:8080/",
          "height": 145
        },
        "id": "KBRHCb7GX5-N",
        "outputId": "6dbc677f-4d02-4bba-b25a-6a119f9ff1ae"
      },
      "execution_count": null,
      "outputs": [
        {
          "output_type": "error",
          "ename": "ZeroDivisionError",
          "evalue": "division by zero",
          "traceback": [
            "\u001b[0;31m---------------------------------------------------------------------------\u001b[0m",
            "\u001b[0;31mZeroDivisionError\u001b[0m                         Traceback (most recent call last)",
            "\u001b[0;32m<ipython-input-89-d2c0889640ff>\u001b[0m in \u001b[0;36m<cell line: 1>\u001b[0;34m()\u001b[0m\n\u001b[0;32m----> 1\u001b[0;31m \u001b[0mprint\u001b[0m\u001b[0;34m(\u001b[0m\u001b[0;36m2\u001b[0m\u001b[0;34m/\u001b[0m\u001b[0;36m0\u001b[0m\u001b[0;34m)\u001b[0m\u001b[0;34m\u001b[0m\u001b[0;34m\u001b[0m\u001b[0m\n\u001b[0m",
            "\u001b[0;31mZeroDivisionError\u001b[0m: division by zero"
          ]
        }
      ]
    },
    {
      "cell_type": "markdown",
      "source": [
        "Finally, here’s an example of a semantic error."
      ],
      "metadata": {
        "id": "n8tQN2DNh9Yd"
      }
    },
    {
      "cell_type": "code",
      "source": [
        "a = 10\n",
        "b = 5\n",
        "if a != b:\n",
        "  print(\"a is equal b\")"
      ],
      "metadata": {
        "colab": {
          "base_uri": "https://localhost:8080/"
        },
        "id": "u846hQKgYPJM",
        "outputId": "bef81529-5ad3-4f76-9adb-ac35fe3f5ec4"
      },
      "execution_count": null,
      "outputs": [
        {
          "output_type": "stream",
          "name": "stdout",
          "text": [
            "a is equal b\n"
          ]
        }
      ]
    },
    {
      "cell_type": "markdown",
      "source": [
        "## Play with loop"
      ],
      "metadata": {
        "id": "fzomGWMZZ0ZR"
      }
    },
    {
      "cell_type": "code",
      "source": [
        "for i in range(3):\n",
        "  for j in range(3):\n",
        "    print(i,j, end=\" | \")\n",
        "  print()"
      ],
      "metadata": {
        "colab": {
          "base_uri": "https://localhost:8080/"
        },
        "id": "fbkPuoJhZzwp",
        "outputId": "cdb1b2d9-1de3-45fd-dc29-955c2a742c44"
      },
      "execution_count": null,
      "outputs": [
        {
          "output_type": "stream",
          "name": "stdout",
          "text": [
            "0 0 | 0 1 | 0 2 | \n",
            "1 0 | 1 1 | 1 2 | \n",
            "2 0 | 2 1 | 2 2 | \n"
          ]
        }
      ]
    },
    {
      "cell_type": "code",
      "source": [
        "for i in range(3):\n",
        "  for j in range(3):\n",
        "    if i == j:\n",
        "      print(\"*\", end=\"\")\n",
        "    else:\n",
        "      print(\"_\",end=\"\")\n",
        "  print()"
      ],
      "metadata": {
        "colab": {
          "base_uri": "https://localhost:8080/"
        },
        "id": "5vdSv7k-bFCT",
        "outputId": "f9e0bccf-0b27-4a8a-82e7-bb50ad52ec99"
      },
      "execution_count": null,
      "outputs": [
        {
          "output_type": "stream",
          "name": "stdout",
          "text": [
            "*__\n",
            "_*_\n",
            "__*\n"
          ]
        }
      ]
    },
    {
      "cell_type": "markdown",
      "source": [
        "# Class_04"
      ],
      "metadata": {
        "id": "3OJ-bUI-PdkE"
      }
    },
    {
      "cell_type": "markdown",
      "source": [
        "\n",
        "\n",
        "*   Functions\n",
        "*   parameters, arguments, function calling\n",
        "*   function naming\n",
        "*   Solving a problem with function\n",
        "*   local & global var\n",
        "\n"
      ],
      "metadata": {
        "id": "z43kdgTxe_av"
      }
    },
    {
      "cell_type": "code",
      "source": [
        "int?"
      ],
      "metadata": {
        "id": "oRTnapmcArwA"
      },
      "execution_count": null,
      "outputs": []
    },
    {
      "cell_type": "code",
      "execution_count": null,
      "metadata": {
        "colab": {
          "base_uri": "https://localhost:8080/"
        },
        "id": "PUz7h9RcXYBV",
        "outputId": "24c61d79-a28d-4f22-e6a8-5c1b9ec9b554"
      },
      "outputs": [
        {
          "output_type": "stream",
          "name": "stdout",
          "text": [
            "5\n"
          ]
        }
      ],
      "source": [
        "a = 5.6\n",
        "a = int(a)\n",
        "print(a)"
      ]
    },
    {
      "cell_type": "code",
      "source": [
        "def get_name(): #header\n",
        "  # body\n",
        "  # ...\n",
        "  return 'Kausar'"
      ],
      "metadata": {
        "id": "Rb_bPhqSfnfc"
      },
      "execution_count": null,
      "outputs": []
    },
    {
      "cell_type": "code",
      "source": [
        "get_name()"
      ],
      "metadata": {
        "colab": {
          "base_uri": "https://localhost:8080/",
          "height": 36
        },
        "id": "7sgYT7J9gfG_",
        "outputId": "a46ecf23-b7c5-413d-ed04-3cc98a576e12"
      },
      "execution_count": null,
      "outputs": [
        {
          "output_type": "execute_result",
          "data": {
            "text/plain": [
              "'Kausar'"
            ],
            "application/vnd.google.colaboratory.intrinsic+json": {
              "type": "string"
            }
          },
          "metadata": {},
          "execution_count": 4
        }
      ]
    },
    {
      "cell_type": "code",
      "source": [
        "sum?"
      ],
      "metadata": {
        "id": "d5ShXJLvCVcA"
      },
      "execution_count": null,
      "outputs": []
    },
    {
      "cell_type": "code",
      "source": [
        "# parameters\n",
        "def sum(a,b):\n",
        "  return(a+b)"
      ],
      "metadata": {
        "id": "TZ_BIBq2hRnI"
      },
      "execution_count": null,
      "outputs": []
    },
    {
      "cell_type": "code",
      "source": [
        "sum(2, 3)\n",
        "print()"
      ],
      "metadata": {
        "colab": {
          "base_uri": "https://localhost:8080/"
        },
        "id": "J4cTpEIqBwFH",
        "outputId": "891616fe-aa11-4f9b-ddd0-83169153ce21"
      },
      "execution_count": null,
      "outputs": [
        {
          "output_type": "stream",
          "name": "stdout",
          "text": [
            "\n"
          ]
        }
      ]
    },
    {
      "cell_type": "code",
      "source": [
        "def sum_of_three(a,b,c):\n",
        "  sum_of_two = sum(a,b)\n",
        "  sum_of_all = sum(sum_of_two, c)\n",
        "  return(sum_of_all)"
      ],
      "metadata": {
        "id": "y88ZEA03huHL"
      },
      "execution_count": null,
      "outputs": []
    },
    {
      "cell_type": "code",
      "source": [
        "# arguments\n",
        "total_sum = sum_of_three(5,100,-45)\n",
        "print(total_sum)"
      ],
      "metadata": {
        "colab": {
          "base_uri": "https://localhost:8080/"
        },
        "id": "mZ4aH9wKhXSb",
        "outputId": "b7fadc13-a1cf-46ef-956a-5bcb61531c3c"
      },
      "execution_count": null,
      "outputs": [
        {
          "output_type": "stream",
          "name": "stdout",
          "text": [
            "60\n"
          ]
        }
      ]
    },
    {
      "cell_type": "code",
      "source": [
        "return_val = sum(1,2)\n",
        "print('return_val', return_val)"
      ],
      "metadata": {
        "colab": {
          "base_uri": "https://localhost:8080/"
        },
        "id": "xJZgKIpA0DCJ",
        "outputId": "10fdd4c6-07d4-4263-d29d-4da4b1acecb9"
      },
      "execution_count": null,
      "outputs": [
        {
          "output_type": "stream",
          "name": "stdout",
          "text": [
            "return_val 3\n"
          ]
        }
      ]
    },
    {
      "cell_type": "markdown",
      "source": [
        "## Local & global variable"
      ],
      "metadata": {
        "id": "ohgZADLM22o9"
      }
    },
    {
      "cell_type": "code",
      "source": [
        "x = 10"
      ],
      "metadata": {
        "id": "SAibH1gDDZ5V"
      },
      "execution_count": null,
      "outputs": []
    },
    {
      "cell_type": "code",
      "source": [
        "def sum(a,b):\n",
        "  c = a+b+x\n",
        "  # print(f\"c = {c}\")\n",
        "  return c"
      ],
      "metadata": {
        "id": "_XtBahMxgns7"
      },
      "execution_count": null,
      "outputs": []
    },
    {
      "cell_type": "code",
      "source": [
        "total = sum(1,2)\n",
        "# print(f\"c = {c}\")\n",
        "print(f\"total = {total}\")"
      ],
      "metadata": {
        "id": "hcUsLtdWztKB",
        "colab": {
          "base_uri": "https://localhost:8080/"
        },
        "outputId": "06825654-77c7-4a7b-dee3-f83899a1cdd9"
      },
      "execution_count": null,
      "outputs": [
        {
          "output_type": "stream",
          "name": "stdout",
          "text": [
            "total = 13\n"
          ]
        }
      ]
    },
    {
      "cell_type": "code",
      "source": [
        "def sum_with_pi(a):\n",
        "  c = a+pi\n",
        "  print(f\"c = {c}\")"
      ],
      "metadata": {
        "id": "7BqNEwGd3Mzn"
      },
      "execution_count": null,
      "outputs": []
    },
    {
      "cell_type": "code",
      "source": [
        "pi = 3.1416\n",
        "sum_with_pi(100)"
      ],
      "metadata": {
        "colab": {
          "base_uri": "https://localhost:8080/"
        },
        "id": "AIG48-zd3KjX",
        "outputId": "71a664fb-08a2-4b22-f0ff-83fde900a4ef"
      },
      "execution_count": null,
      "outputs": [
        {
          "output_type": "stream",
          "name": "stdout",
          "text": [
            "c = 103.1416\n"
          ]
        }
      ]
    },
    {
      "cell_type": "markdown",
      "source": [
        "## Function naming(same as var naming)"
      ],
      "metadata": {
        "id": "6lPvDGWlOl1p"
      }
    },
    {
      "cell_type": "code",
      "source": [
        "def sum():\n",
        "  return 0\n",
        "\n",
        "# def sum 1():\n",
        "#   return 0\n",
        "\n",
        "\n",
        "# def 1sum():\n",
        "#   return 0"
      ],
      "metadata": {
        "id": "M0UFOlDy8pIm"
      },
      "execution_count": null,
      "outputs": []
    },
    {
      "cell_type": "code",
      "source": [
        "def conditionalCheck(n, m):\n",
        "  if n < m:\n",
        "    print(\"n is smaller\")\n",
        "  if m < n:\n",
        "    print(\"m is smaller\")"
      ],
      "metadata": {
        "id": "6OuZrxWIE4qm"
      },
      "execution_count": null,
      "outputs": []
    },
    {
      "cell_type": "markdown",
      "source": [
        "## keywords are not valid for any kinds of naming(var, fun...)\n",
        "**Keywords in Python include:** *False, True, None, and, as, assert, async, await, def, del, elif, else, break, class, continue, except, finally, for, from, global, if, import, in, is, lambda, nonlocal, not, or, pass, raise, return, try, while, with and yield.*"
      ],
      "metadata": {
        "id": "XvMhNjrv9N6S"
      }
    },
    {
      "cell_type": "code",
      "source": [
        "def True():\n",
        "  return 0"
      ],
      "metadata": {
        "colab": {
          "base_uri": "https://localhost:8080/",
          "height": 106
        },
        "id": "P1QGsmjC9F3z",
        "outputId": "dcd90a6b-4dee-4a87-def8-4dfc2ddc75b3"
      },
      "execution_count": null,
      "outputs": [
        {
          "output_type": "error",
          "ename": "SyntaxError",
          "evalue": "invalid syntax (<ipython-input-40-e61b58b8e1e5>, line 1)",
          "traceback": [
            "\u001b[0;36m  File \u001b[0;32m\"<ipython-input-40-e61b58b8e1e5>\"\u001b[0;36m, line \u001b[0;32m1\u001b[0m\n\u001b[0;31m    def True():\u001b[0m\n\u001b[0m        ^\u001b[0m\n\u001b[0;31mSyntaxError\u001b[0m\u001b[0;31m:\u001b[0m invalid syntax\n"
          ]
        }
      ]
    },
    {
      "cell_type": "markdown",
      "source": [
        "# Class_04_exercise"
      ],
      "metadata": {
        "id": "I4FVP2xEPdPH"
      }
    },
    {
      "cell_type": "markdown",
      "source": [
        "* break & continue\n",
        "* else clause for loops\n",
        "* string manipulation with methods\n",
        "* split\n",
        "* Taking multiple user input at once\n",
        "* **Exercise**:\n",
        "```python\n",
        "distance(x1,y1,x2,y2),\n",
        "isDivisible(dividend, divisor),\n",
        "factorial(n),\n",
        "find_num_index(num_list, n)\n",
        "count_odd_numbers(num_list),\n",
        "```\n",
        "* **Project**: Make a calculator by taking user input"
      ],
      "metadata": {
        "id": "78tN6jmTRHtJ"
      }
    },
    {
      "cell_type": "markdown",
      "source": [
        "## factorial()"
      ],
      "metadata": {
        "id": "FHa_rriPRHtK"
      }
    },
    {
      "cell_type": "code",
      "source": [
        "# 5! = 5*4*3*2*1\n",
        "def factorial(n):\n",
        "  factorial_val = 1\n",
        "  for i in range(n, 0):\n",
        "    factorial_val *= i\n",
        "    print('inside loop:', i)\n",
        "  return factorial_val"
      ],
      "metadata": {
        "id": "GlWlfUMERHtK"
      },
      "execution_count": null,
      "outputs": []
    },
    {
      "cell_type": "code",
      "source": [
        "i = 0\n",
        "while i < 5:\n",
        "  print(i)\n",
        "  i+=1\n",
        "  print('Does the loop ends here?')\n",
        "print('Or does the loop ends here???')\n"
      ],
      "metadata": {
        "colab": {
          "base_uri": "https://localhost:8080/"
        },
        "outputId": "ffebbc04-cf6f-4de6-9e6c-677115084d72",
        "id": "ZlTd553YRHtK"
      },
      "execution_count": null,
      "outputs": [
        {
          "output_type": "stream",
          "name": "stdout",
          "text": [
            "0\n",
            "Does the loop ends here?\n",
            "1\n",
            "Does the loop ends here?\n",
            "2\n",
            "Does the loop ends here?\n",
            "3\n",
            "Does the loop ends here?\n",
            "4\n",
            "Does the loop ends here?\n",
            "Or does the loop ends here???\n"
          ]
        }
      ]
    },
    {
      "cell_type": "code",
      "source": [
        "result = factorial(5)\n",
        "print(result)"
      ],
      "metadata": {
        "colab": {
          "base_uri": "https://localhost:8080/"
        },
        "outputId": "f79e0c30-d2ad-414b-dadf-9cbc08b21e95",
        "id": "A1KpjoVsRHtK"
      },
      "execution_count": null,
      "outputs": [
        {
          "output_type": "stream",
          "name": "stdout",
          "text": [
            "1\n"
          ]
        }
      ]
    },
    {
      "cell_type": "code",
      "source": [
        "x = 2\n",
        "if x % 2 == 0:\n",
        "  print(f'x = {x} is a even number')"
      ],
      "metadata": {
        "id": "8lczCY2_RHtL"
      },
      "execution_count": null,
      "outputs": []
    },
    {
      "cell_type": "markdown",
      "source": [
        "## break and continue statement"
      ],
      "metadata": {
        "id": "apgq4pOyYP_X"
      }
    },
    {
      "cell_type": "code",
      "source": [
        "num_list = [\n",
        "    951, 402, 984, 651, 360, 69, 408, 319, 601, 485, 980, 507, 725, 547, 544,\n",
        "    615, 83, 165, 141, 501, 263, 617, 865, 575, 219, 390, 984, 592, 236, 105, 942, 941,\n",
        "    386, 462, 47, 418, 907, 344, 236, 375, 823, 566, 597, 978, 328, 615, 953, 345,\n",
        "    399, 162, 758, 219, 918, 237, 412, 566, 826, 248, 866, 950, 626, 949, 687, 217,\n",
        "    815, 67, 104, 58, 512, 24, 892, 894, 767, 553, 81, 379, 843, 831, 445, 742, 717,\n",
        "    958, 609, 842, 451, 688, 753, 854, 685, 93, 857, 440, 380, 126, 721, 328, 753, 470,\n",
        "    743, 527\n",
        "]\n",
        "print(len(num_list))"
      ],
      "metadata": {
        "colab": {
          "base_uri": "https://localhost:8080/"
        },
        "id": "VK_ajlq1YTMJ",
        "outputId": "d2474641-e087-4a07-8a51-0e529537a18c"
      },
      "execution_count": null,
      "outputs": [
        {
          "output_type": "stream",
          "name": "stdout",
          "text": [
            "100\n"
          ]
        }
      ]
    },
    {
      "cell_type": "code",
      "source": [
        "# TASK#01: Find out the first index of 412 from the num_list => find_num_index(n)\n",
        "def find_num_index(search_num):\n",
        "  index = 0\n",
        "  for num in num_list:\n",
        "    print(index)\n",
        "    if num == search_num:\n",
        "      print(f\"{search_num} index in the list: {index}\")\n",
        "      break\n",
        "    index += 1"
      ],
      "metadata": {
        "id": "TAO-IgZodG_Y"
      },
      "execution_count": null,
      "outputs": []
    },
    {
      "cell_type": "code",
      "source": [
        "find_num_index(412)"
      ],
      "metadata": {
        "id": "eKFnM5Tmd0N_"
      },
      "execution_count": null,
      "outputs": []
    },
    {
      "cell_type": "code",
      "source": [
        "# TASK#02: Find out count of odd numbers num_list\n",
        "num_list = range(2,8)\n",
        "print(*num_list)\n",
        "\n",
        "def count_odd_num():\n",
        "  count = 0\n",
        "  for num in num_list:\n",
        "    print(num)\n",
        "    if num % 2 == 0:\n",
        "      print(num, 'Before continue')\n",
        "      continue\n",
        "      print('After continue')\n",
        "\n",
        "    print('Outside if clause')\n",
        "\n",
        "    count += 1\n",
        "  return count\n",
        "\n",
        "count = count_odd_num()\n",
        "\n",
        "print('# of Odd numbers in list: ', count)"
      ],
      "metadata": {
        "colab": {
          "base_uri": "https://localhost:8080/"
        },
        "id": "WjwGCDGgzS8l",
        "outputId": "931bcb0b-e04e-4df4-e15f-cce0bc51e121"
      },
      "execution_count": null,
      "outputs": [
        {
          "output_type": "stream",
          "name": "stdout",
          "text": [
            "2 3 4 5 6 7\n",
            "2\n",
            "2 Before continue\n",
            "3\n",
            "Outside if clause\n",
            "4\n",
            "4 Before continue\n",
            "5\n",
            "Outside if clause\n",
            "6\n",
            "6 Before continue\n",
            "7\n",
            "Outside if clause\n",
            "# of Odd numbers in list:  3\n"
          ]
        }
      ]
    },
    {
      "cell_type": "code",
      "source": [
        "# else clause in for loops\n",
        "for i in range(1,3):\n",
        "  print(i)\n",
        "  # continue\n",
        "else:\n",
        "  print('For ends and now else is in run')"
      ],
      "metadata": {
        "colab": {
          "base_uri": "https://localhost:8080/"
        },
        "id": "ER63my-B3JyJ",
        "outputId": "ab611cf3-07a3-43d4-cb43-63fb6f37f100"
      },
      "execution_count": null,
      "outputs": [
        {
          "output_type": "stream",
          "name": "stdout",
          "text": [
            "1\n",
            "2\n",
            "For ends and now else is in run\n"
          ]
        }
      ]
    },
    {
      "cell_type": "markdown",
      "source": [
        "## split function\n"
      ],
      "metadata": {
        "id": "iqGX0v0kWVVx"
      }
    },
    {
      "cell_type": "code",
      "source": [
        "random_str = \"I am python. I am almost 28 years old.\"\n",
        "# print(type(random_str))\n",
        "# print(random_str[2:5])\n",
        "# print('pythn' in random_str)\n",
        "# print(random_str[::-1])\n",
        "# print(random_str.startswith('I'))\n",
        "# print(random_str.endswith('old'))\n",
        "print(random_str.split(\".\"))"
      ],
      "metadata": {
        "id": "bnXDrQXIbcfr",
        "colab": {
          "base_uri": "https://localhost:8080/"
        },
        "outputId": "43e7bc5e-776e-4121-88a9-261bb2e08661"
      },
      "execution_count": null,
      "outputs": [
        {
          "output_type": "stream",
          "name": "stdout",
          "text": [
            "['I am python', ' I am almost 28 years old', '']\n"
          ]
        }
      ]
    },
    {
      "cell_type": "markdown",
      "source": [
        "## Task#03: Make a calculator taking user inputs"
      ],
      "metadata": {
        "id": "Kickj4N2LqYb"
      }
    },
    {
      "cell_type": "code",
      "source": [
        "operation = input('Enter +,-,/,*: ')\n",
        "inputs = input('Enter two numbers: ')"
      ],
      "metadata": {
        "colab": {
          "base_uri": "https://localhost:8080/"
        },
        "outputId": "b63d7aa5-87fc-48ec-8907-9f43309ceafd",
        "id": "5WrMpZcKRHtM"
      },
      "execution_count": null,
      "outputs": [
        {
          "name": "stdout",
          "output_type": "stream",
          "text": [
            "Enter +,-,/,*: +\n",
            "Enter two numbers: 2 4\n"
          ]
        }
      ]
    },
    {
      "cell_type": "code",
      "source": [
        "print(operation, inputs)"
      ],
      "metadata": {
        "colab": {
          "base_uri": "https://localhost:8080/"
        },
        "outputId": "0a5b9f89-468d-4746-d3b8-0321ffa4f4d6",
        "id": "l25D6l9eRHtM"
      },
      "execution_count": null,
      "outputs": [
        {
          "output_type": "stream",
          "name": "stdout",
          "text": [
            "+ 2 4\n"
          ]
        }
      ]
    },
    {
      "cell_type": "code",
      "source": [
        "numbers = inputs.split(' ')\n",
        "x = int(numbers[0])\n",
        "y = int(numbers[1])\n",
        "x,y"
      ],
      "metadata": {
        "colab": {
          "base_uri": "https://localhost:8080/"
        },
        "outputId": "0d2741f9-df2d-4932-c4c1-e7737d6c9c4c",
        "id": "ww5FI8mKRHtN"
      },
      "execution_count": null,
      "outputs": [
        {
          "output_type": "execute_result",
          "data": {
            "text/plain": [
              "(2, 3)"
            ]
          },
          "metadata": {},
          "execution_count": 50
        }
      ]
    },
    {
      "cell_type": "markdown",
      "source": [
        "\n",
        "# Class_04_continued"
      ],
      "metadata": {
        "id": "mwj5Z0OJVuNy"
      }
    },
    {
      "cell_type": "markdown",
      "source": [
        "* map\n",
        "* returning multiple value from a function\n",
        "* packing and unpacking arguments\n",
        "* Recursion with countdown function\n",
        "* Now, print a string n times with recursion without using for loop"
      ],
      "metadata": {
        "id": "VTEwgoDfRpSR"
      }
    },
    {
      "cell_type": "markdown",
      "source": [
        "## processing user input with map"
      ],
      "metadata": {
        "id": "PEKLG_X3ot3V"
      }
    },
    {
      "cell_type": "code",
      "source": [
        "operation = input('Enter +,-,/,*: ')\n",
        "inputs = input('Enter two numbers: ')"
      ],
      "metadata": {
        "colab": {
          "base_uri": "https://localhost:8080/"
        },
        "id": "wGdO-q0O4-Rf",
        "outputId": "51a3f168-ce75-4161-ce30-f71b4485552f"
      },
      "execution_count": null,
      "outputs": [
        {
          "name": "stdout",
          "output_type": "stream",
          "text": [
            "Enter +,-,/,*: +\n",
            "Enter two numbers: 123 45\n"
          ]
        }
      ]
    },
    {
      "cell_type": "code",
      "source": [
        "print(operation, inputs)\n",
        "print(type(inputs))"
      ],
      "metadata": {
        "colab": {
          "base_uri": "https://localhost:8080/"
        },
        "id": "Af-yI-Vg6cBl",
        "outputId": "7f4656fa-9a1f-4a5c-8244-49f32fb806e6"
      },
      "execution_count": null,
      "outputs": [
        {
          "output_type": "stream",
          "name": "stdout",
          "text": [
            "+ 123 45\n",
            "<class 'str'>\n"
          ]
        }
      ]
    },
    {
      "cell_type": "code",
      "source": [
        "# @title input porcessing with type-casting\n",
        "numbers = inputs.split(' ')\n",
        "x = int(numbers[0])\n",
        "y = int(numbers[1])\n",
        "x,y, type(x)"
      ],
      "metadata": {
        "id": "6GcRCBUv6n1K",
        "colab": {
          "base_uri": "https://localhost:8080/"
        },
        "outputId": "d433d7ad-a4f5-4836-ad23-895029e05fdd"
      },
      "execution_count": null,
      "outputs": [
        {
          "output_type": "execute_result",
          "data": {
            "text/plain": [
              "(123, 45, int)"
            ]
          },
          "metadata": {},
          "execution_count": 7
        }
      ]
    },
    {
      "cell_type": "code",
      "source": [
        "type(inputs), inputs.split()"
      ],
      "metadata": {
        "colab": {
          "base_uri": "https://localhost:8080/"
        },
        "id": "YKURhGj0tOJD",
        "outputId": "364f831e-157b-4706-970c-9f2b0d252e99"
      },
      "execution_count": null,
      "outputs": [
        {
          "output_type": "execute_result",
          "data": {
            "text/plain": [
              "(str, ['123', '45'])"
            ]
          },
          "metadata": {},
          "execution_count": 8
        }
      ]
    },
    {
      "cell_type": "code",
      "source": [
        "user_input = input(\"Input as many number as you want: \")\n",
        "print(user_input.split(\" \"))"
      ],
      "metadata": {
        "colab": {
          "base_uri": "https://localhost:8080/"
        },
        "id": "TUFN2w9fK-m2",
        "outputId": "3903183d-1455-4c38-c5c0-87e8edffa712"
      },
      "execution_count": null,
      "outputs": [
        {
          "output_type": "stream",
          "name": "stdout",
          "text": [
            "Input as many number as you want: 345 45 2\n",
            "['345', '45', '2']\n"
          ]
        }
      ]
    },
    {
      "cell_type": "code",
      "source": [
        "user_input_list = user_input.split(\" \")\n",
        "print(user_input_list)"
      ],
      "metadata": {
        "colab": {
          "base_uri": "https://localhost:8080/"
        },
        "id": "RN5kRCyQPtOe",
        "outputId": "75d500d4-1a75-4b08-db64-d30ca8bdf3e4"
      },
      "execution_count": null,
      "outputs": [
        {
          "output_type": "stream",
          "name": "stdout",
          "text": [
            "['345', '45', '2']\n"
          ]
        }
      ]
    },
    {
      "cell_type": "code",
      "source": [
        "int_list = []\n",
        "for num in user_input_list:\n",
        "  a = int(num)\n",
        "  int_list.append(a)\n",
        "  print(a, type(a))\n",
        "print(int_list)"
      ],
      "metadata": {
        "colab": {
          "base_uri": "https://localhost:8080/"
        },
        "id": "pC44BQMbP3Jk",
        "outputId": "a686dc2f-edd6-4b0b-9f53-4fb72457cfe8"
      },
      "execution_count": null,
      "outputs": [
        {
          "output_type": "stream",
          "name": "stdout",
          "text": [
            "345 <class 'int'>\n",
            "45 <class 'int'>\n",
            "2 <class 'int'>\n",
            "[345, 45, 2]\n"
          ]
        }
      ]
    },
    {
      "cell_type": "code",
      "source": [
        "map_obj = map(int, user_input_list)\n",
        "print(map_obj)"
      ],
      "metadata": {
        "colab": {
          "base_uri": "https://localhost:8080/"
        },
        "id": "bA4o0ao4Qcgt",
        "outputId": "456abb5a-8afb-4e02-8d69-7ae927079897"
      },
      "execution_count": null,
      "outputs": [
        {
          "output_type": "stream",
          "name": "stdout",
          "text": [
            "<map object at 0x7f9f357bdde0>\n"
          ]
        }
      ]
    },
    {
      "cell_type": "code",
      "source": [
        "print(list(map_obj))"
      ],
      "metadata": {
        "colab": {
          "base_uri": "https://localhost:8080/"
        },
        "id": "FgXwpPnnQkdu",
        "outputId": "6d9a1e54-95d2-4682-bd53-d1c8e4de5c04"
      },
      "execution_count": null,
      "outputs": [
        {
          "output_type": "stream",
          "name": "stdout",
          "text": [
            "[345, 45, 2]\n"
          ]
        }
      ]
    },
    {
      "cell_type": "code",
      "source": [
        "list(map(int, user_input.split()))"
      ],
      "metadata": {
        "colab": {
          "base_uri": "https://localhost:8080/"
        },
        "id": "Bxox-DfLLeZN",
        "outputId": "22d464e1-7f7a-4a6c-d40d-42d436347abb"
      },
      "execution_count": null,
      "outputs": [
        {
          "output_type": "execute_result",
          "data": {
            "text/plain": [
              "[2, 3, 5, 7, 5]"
            ]
          },
          "metadata": {},
          "execution_count": 24
        }
      ]
    },
    {
      "cell_type": "code",
      "source": [
        "# inputs, type(inputs)\n",
        "input_list = map(int, inputs.split())\n",
        "print(type(input_list), list(input_list))"
      ],
      "metadata": {
        "colab": {
          "base_uri": "https://localhost:8080/"
        },
        "id": "1IZjAHUUrdWX",
        "outputId": "2b255e82-c7eb-48dc-a2e7-9f59cfacc1be"
      },
      "execution_count": null,
      "outputs": [
        {
          "output_type": "stream",
          "name": "stdout",
          "text": [
            "<class 'map'> [234, 56]\n"
          ]
        }
      ]
    },
    {
      "cell_type": "code",
      "source": [
        "def character_count(word):\n",
        "  return len(word)"
      ],
      "metadata": {
        "id": "BSFIG1u_sDPn"
      },
      "execution_count": null,
      "outputs": []
    },
    {
      "cell_type": "code",
      "source": [
        "print(character_count('This'))"
      ],
      "metadata": {
        "colab": {
          "base_uri": "https://localhost:8080/"
        },
        "id": "IVGeiJpUuGao",
        "outputId": "ca938773-7810-43d9-8dc5-ace60650a32d"
      },
      "execution_count": null,
      "outputs": [
        {
          "output_type": "stream",
          "name": "stdout",
          "text": [
            "4\n"
          ]
        }
      ]
    },
    {
      "cell_type": "code",
      "source": [
        "a_random_string = \"This is class of pp02\""
      ],
      "metadata": {
        "id": "mn9n893SQ2rJ"
      },
      "execution_count": null,
      "outputs": []
    },
    {
      "cell_type": "code",
      "source": [
        "word_list_of_random_string = a_random_string.split(\" \")\n",
        "print(word_list_of_random_string)"
      ],
      "metadata": {
        "colab": {
          "base_uri": "https://localhost:8080/"
        },
        "id": "bBcaMh72RDmy",
        "outputId": "266d70b0-2251-4c93-935e-0d5f026f1cca"
      },
      "execution_count": null,
      "outputs": [
        {
          "output_type": "stream",
          "name": "stdout",
          "text": [
            "['This', 'is', 'class', 'of', 'pp02']\n"
          ]
        }
      ]
    },
    {
      "cell_type": "code",
      "source": [
        "for word in word_list_of_random_string:\n",
        "  print(character_count(word))"
      ],
      "metadata": {
        "colab": {
          "base_uri": "https://localhost:8080/"
        },
        "id": "YHQFO-MoNMd_",
        "outputId": "4bc90e18-cb22-4407-f2d5-80b42845dfcf"
      },
      "execution_count": null,
      "outputs": [
        {
          "output_type": "stream",
          "name": "stdout",
          "text": [
            "4\n",
            "2\n",
            "5\n",
            "2\n",
            "4\n"
          ]
        }
      ]
    },
    {
      "cell_type": "code",
      "source": [
        "char_count_of_random_string = map(character_count, word_list_of_random_string)\n",
        "print(char_count_of_random_string)"
      ],
      "metadata": {
        "colab": {
          "base_uri": "https://localhost:8080/"
        },
        "id": "s1dI_ixJNOGc",
        "outputId": "858f0733-3368-42c5-d112-42eefa297986"
      },
      "execution_count": null,
      "outputs": [
        {
          "output_type": "stream",
          "name": "stdout",
          "text": [
            "<map object at 0x7f9f35827a60>\n"
          ]
        }
      ]
    },
    {
      "cell_type": "code",
      "source": [
        "print(list(char_count_of_random_string))"
      ],
      "metadata": {
        "colab": {
          "base_uri": "https://localhost:8080/"
        },
        "id": "Af78oko0Rf_-",
        "outputId": "9e18daa4-3c5a-4691-d5cf-afd8582f89b7"
      },
      "execution_count": null,
      "outputs": [
        {
          "output_type": "stream",
          "name": "stdout",
          "text": [
            "[4, 2, 5, 2, 4]\n"
          ]
        }
      ]
    },
    {
      "cell_type": "code",
      "source": [
        "user_input = input(\"Enter three numbers: \")\n",
        "print(user_input, type(user_input))\n",
        "user_input_list = list(map(int, user_input.split(\" \")))\n",
        "print(user_input_list)"
      ],
      "metadata": {
        "colab": {
          "base_uri": "https://localhost:8080/"
        },
        "id": "pN20eSZIxUtJ",
        "outputId": "d8b96e27-f8fc-4af6-d102-fc5b28ccbac0"
      },
      "execution_count": null,
      "outputs": [
        {
          "output_type": "stream",
          "name": "stdout",
          "text": [
            "Enter three numbers: 34 54 23\n",
            "34 54 23 <class 'str'>\n",
            "[34, 54, 23]\n"
          ]
        }
      ]
    },
    {
      "cell_type": "markdown",
      "source": [
        "## unpacking\n"
      ],
      "metadata": {
        "id": "d9vhHfnP0Fuh"
      }
    },
    {
      "cell_type": "code",
      "source": [
        "def sum(a, b , c):\n",
        "  return a+b+c"
      ],
      "metadata": {
        "id": "kXM0EP0myc-1"
      },
      "execution_count": null,
      "outputs": []
    },
    {
      "cell_type": "code",
      "source": [
        "user_input_list = [1, 5, 9]\n",
        "first_num, *rest = user_input_list\n",
        "print(first_num, rest)"
      ],
      "metadata": {
        "colab": {
          "base_uri": "https://localhost:8080/"
        },
        "id": "AvgBEu4Xbbav",
        "outputId": "3fe7935f-acdf-4cd4-fa5e-7369d2cf12b2"
      },
      "execution_count": null,
      "outputs": [
        {
          "output_type": "stream",
          "name": "stdout",
          "text": [
            "1 [5, 9]\n"
          ]
        }
      ]
    },
    {
      "cell_type": "code",
      "source": [
        "user_input_list = [1, 5, 9]\n",
        "total = sum(*user_input_list)"
      ],
      "metadata": {
        "id": "PK3qhpMdylCM"
      },
      "execution_count": null,
      "outputs": []
    },
    {
      "cell_type": "code",
      "source": [
        "total"
      ],
      "metadata": {
        "colab": {
          "base_uri": "https://localhost:8080/"
        },
        "id": "racfzRKay6qE",
        "outputId": "086034c8-d063-4eb1-aba4-4ac1f7f4c006"
      },
      "execution_count": null,
      "outputs": [
        {
          "output_type": "execute_result",
          "data": {
            "text/plain": [
              "15"
            ]
          },
          "metadata": {},
          "execution_count": 48
        }
      ]
    },
    {
      "cell_type": "code",
      "source": [
        "print(user_input_list, *user_input_list)"
      ],
      "metadata": {
        "colab": {
          "base_uri": "https://localhost:8080/"
        },
        "id": "yjSgUdpUzQwI",
        "outputId": "903c2564-5368-4123-e83f-4e1f6b4683cd"
      },
      "execution_count": null,
      "outputs": [
        {
          "output_type": "stream",
          "name": "stdout",
          "text": [
            "[34, 65, 1] 34 65 1\n"
          ]
        }
      ]
    },
    {
      "cell_type": "code",
      "source": [
        "fruits_list = [\"banana\", \"apple\", \"Licchi\"]\n",
        "first_one, *rest = fruits_list\n",
        "print(first_one, rest)"
      ],
      "metadata": {
        "colab": {
          "base_uri": "https://localhost:8080/"
        },
        "id": "5MCwY-EmzY95",
        "outputId": "82adcb5b-4495-416f-f647-00bd24864f68"
      },
      "execution_count": null,
      "outputs": [
        {
          "output_type": "stream",
          "name": "stdout",
          "text": [
            "banana ['apple', 'Licchi']\n"
          ]
        }
      ]
    },
    {
      "cell_type": "markdown",
      "source": [
        "## packing"
      ],
      "metadata": {
        "id": "5hyGtdb204Bw"
      }
    },
    {
      "cell_type": "code",
      "source": [
        "user_input = input(\"Enter as many numbers as you wish: \")\n",
        "user_input_list = list(map(int, user_input.split(\" \")))\n",
        "print(user_input_list)"
      ],
      "metadata": {
        "colab": {
          "base_uri": "https://localhost:8080/"
        },
        "id": "SGVANQkb1CYC",
        "outputId": "c9899277-8c04-482a-9002-593db4908d0e"
      },
      "execution_count": null,
      "outputs": [
        {
          "output_type": "stream",
          "name": "stdout",
          "text": [
            "Enter as many numbers as you wish: 1 2 3 4 5\n",
            "[1, 2, 3, 4, 5]\n"
          ]
        }
      ]
    },
    {
      "cell_type": "code",
      "source": [
        "def sumOfTwo(a,b):\n",
        "  return a+b"
      ],
      "metadata": {
        "id": "-CHH4JCJZxFV"
      },
      "execution_count": null,
      "outputs": []
    },
    {
      "cell_type": "code",
      "source": [
        "def sum(a, b, *any_num_args):\n",
        "  print(type(any_num_args), any_num_args)\n",
        "  total = 0\n",
        "  for num in any_num_args:\n",
        "    print('Current num:', num)\n",
        "    total += num\n",
        "  return total"
      ],
      "metadata": {
        "id": "w74kg1Cw03In"
      },
      "execution_count": null,
      "outputs": []
    },
    {
      "cell_type": "code",
      "source": [
        "sum(1,4,5)"
      ],
      "metadata": {
        "colab": {
          "base_uri": "https://localhost:8080/"
        },
        "id": "EmuGBmTzZ-XA",
        "outputId": "65c33181-723b-43a9-a19d-353b1dbb403f"
      },
      "execution_count": null,
      "outputs": [
        {
          "output_type": "stream",
          "name": "stdout",
          "text": [
            "<class 'tuple'> (5,)\n",
            "Current num: 5\n"
          ]
        },
        {
          "output_type": "execute_result",
          "data": {
            "text/plain": [
              "5"
            ]
          },
          "metadata": {},
          "execution_count": 61
        }
      ]
    },
    {
      "cell_type": "code",
      "source": [
        "sum(*user_input_list)\n",
        "print('Hey, I am back!!!!!!!!!!!!!!')"
      ],
      "metadata": {
        "colab": {
          "base_uri": "https://localhost:8080/"
        },
        "id": "zM8zyTws1c4a",
        "outputId": "39fddd7a-ec03-4add-8d8f-f69348e07f5a"
      },
      "execution_count": null,
      "outputs": [
        {
          "output_type": "stream",
          "name": "stdout",
          "text": [
            "Hey!, you called the sum() function\n",
            "<class 'tuple'> (1, 2, 3, 4, 5)\n",
            "Current num: 1\n",
            "Current num: 2\n",
            "Current num: 3\n",
            "Current num: 4\n",
            "Current num: 5\n",
            "Hey!, I am still in the sum() function\n",
            "Hey, I am back!!!!!!!!!!!!!!\n"
          ]
        }
      ]
    },
    {
      "cell_type": "markdown",
      "source": [
        "## returning multiple value from a function"
      ],
      "metadata": {
        "id": "rU4Z06qMDtjz"
      }
    },
    {
      "cell_type": "code",
      "source": [
        "def user_input_for_calculation():\n",
        "  operator = input('Enter +,-,*,/: ')\n",
        "  numbers = input('Enter numbers: ')\n",
        "  return operator, numbers, 10"
      ],
      "metadata": {
        "id": "mXFtKhR8D6LC"
      },
      "execution_count": null,
      "outputs": []
    },
    {
      "cell_type": "code",
      "source": [
        "operation, *return_val = user_input_for_calculation()\n",
        "print(operation, return_val)"
      ],
      "metadata": {
        "colab": {
          "base_uri": "https://localhost:8080/"
        },
        "id": "g5peKyNREO4u",
        "outputId": "5c381f89-6574-45c8-fe16-81457e44fed9"
      },
      "execution_count": null,
      "outputs": [
        {
          "output_type": "stream",
          "name": "stdout",
          "text": [
            "Enter +,-,*,/: +\n",
            "Enter numbers: 34 56 78\n",
            "+ ['34 56 78', 10]\n"
          ]
        }
      ]
    },
    {
      "cell_type": "code",
      "source": [
        "operator, numbers"
      ],
      "metadata": {
        "colab": {
          "base_uri": "https://localhost:8080/"
        },
        "id": "ksyQHUSuEXjJ",
        "outputId": "a7975823-baaf-42ed-ad89-7280554c1aea"
      },
      "execution_count": null,
      "outputs": [
        {
          "output_type": "execute_result",
          "data": {
            "text/plain": [
              "('+', '1 2 3 4 ')"
            ]
          },
          "metadata": {},
          "execution_count": 64
        }
      ]
    },
    {
      "cell_type": "markdown",
      "source": [
        "# Class_05"
      ],
      "metadata": {
        "id": "S1nxxLfvV7F1"
      }
    },
    {
      "cell_type": "markdown",
      "source": [
        "* set, dict\n",
        "* exception handling while taking inputs"
      ],
      "metadata": {
        "id": "nxkkwwMXV9aw"
      }
    },
    {
      "cell_type": "markdown",
      "source": [
        "## Dictionary"
      ],
      "metadata": {
        "id": "is-yf2ZAC_ER"
      }
    },
    {
      "cell_type": "code",
      "source": [
        "PDS_10_dict = {\n",
        "    'title': 'Python class of PDS10 batch',\n",
        "    'no_of_students' : 25,\n",
        "    'location': 'IICT,SUST',\n",
        "    'id': [1, 2, 3]\n",
        "}"
      ],
      "metadata": {
        "id": "OCKevL0etyKV"
      },
      "execution_count": null,
      "outputs": []
    },
    {
      "cell_type": "code",
      "source": [
        "PDS_10_dict"
      ],
      "metadata": {
        "id": "iBUylGeAvCuV",
        "colab": {
          "base_uri": "https://localhost:8080/"
        },
        "outputId": "b61016d6-d12e-4056-e4a6-15f6a701605d"
      },
      "execution_count": null,
      "outputs": [
        {
          "output_type": "execute_result",
          "data": {
            "text/plain": [
              "{'title': 'Python class of PDS10 batch',\n",
              " 'no_of_students': 25,\n",
              " 'location': 'IICT,SUST',\n",
              " 'id': [1, 2, 3]}"
            ]
          },
          "metadata": {},
          "execution_count": 20
        }
      ]
    },
    {
      "cell_type": "code",
      "source": [
        "my_dict = dict(name = 'PP02', age = '9', birth_place =  'IICT, SUST')"
      ],
      "metadata": {
        "id": "t7d_nBkPvG_G"
      },
      "execution_count": null,
      "outputs": []
    },
    {
      "cell_type": "code",
      "source": [
        "my_dict"
      ],
      "metadata": {
        "id": "erpEUzI3v1x8",
        "colab": {
          "base_uri": "https://localhost:8080/"
        },
        "outputId": "0421f844-e793-4a4f-83de-a2666939898d"
      },
      "execution_count": null,
      "outputs": [
        {
          "output_type": "execute_result",
          "data": {
            "text/plain": [
              "{'name': 'PP02', 'age': '9', 'birth_place': 'IICT, SUST'}"
            ]
          },
          "metadata": {},
          "execution_count": 17
        }
      ]
    },
    {
      "cell_type": "markdown",
      "source": [
        "### Accessing dict value by keys"
      ],
      "metadata": {
        "id": "MudOs_SkyOSZ"
      }
    },
    {
      "cell_type": "code",
      "source": [
        "print(my_dict['no_of_students'])"
      ],
      "metadata": {
        "id": "_z3XBuuAwIso"
      },
      "execution_count": null,
      "outputs": []
    },
    {
      "cell_type": "code",
      "source": [
        "name = my_dict.get('name', -1)\n",
        "print(name)"
      ],
      "metadata": {
        "id": "QBYzKQCMxF6i",
        "colab": {
          "base_uri": "https://localhost:8080/"
        },
        "outputId": "f5accf07-ff64-45b6-97db-f92951fc301f"
      },
      "execution_count": null,
      "outputs": [
        {
          "output_type": "stream",
          "name": "stdout",
          "text": [
            "PP02\n"
          ]
        }
      ]
    },
    {
      "cell_type": "markdown",
      "source": [
        "### Modifying dict"
      ],
      "metadata": {
        "id": "JtRnYvyX0Dqu"
      }
    },
    {
      "cell_type": "code",
      "source": [
        "my_dict['start_date'] = '17-12-24'\n",
        "print(my_dict)"
      ],
      "metadata": {
        "id": "XGI4KsFqyYjh",
        "colab": {
          "base_uri": "https://localhost:8080/"
        },
        "outputId": "d53e14b0-b0d6-4b43-8ed0-af1c137fd669"
      },
      "execution_count": null,
      "outputs": [
        {
          "output_type": "stream",
          "name": "stdout",
          "text": [
            "{'name': 'PP02', 'age': '9', 'birth_place': 'IICT, SUST', 'start_date': '17-12-24'}\n"
          ]
        }
      ]
    },
    {
      "cell_type": "code",
      "source": [
        "my_dict['no_of_students'] = 25\n",
        "print(my_dict)"
      ],
      "metadata": {
        "id": "96erbowCy4i8",
        "colab": {
          "base_uri": "https://localhost:8080/"
        },
        "outputId": "48718906-bde9-48b8-c054-65f94938a09b"
      },
      "execution_count": null,
      "outputs": [
        {
          "output_type": "stream",
          "name": "stdout",
          "text": [
            "{'name': 'PP02', 'age': '9', 'birth_place': 'IICT, SUST', 'start_date': '17-12-24', 'no_of_students': 25}\n"
          ]
        }
      ]
    },
    {
      "cell_type": "code",
      "source": [
        "my_dict"
      ],
      "metadata": {
        "colab": {
          "base_uri": "https://localhost:8080/"
        },
        "id": "5RWVMIB6hUNf",
        "outputId": "e4eabf03-6b84-45e1-93e0-0e63349748cf"
      },
      "execution_count": null,
      "outputs": [
        {
          "output_type": "execute_result",
          "data": {
            "text/plain": [
              "{'name': 'PP02', 'age': '9', 'birth_place': 'IICT, SUST'}"
            ]
          },
          "metadata": {},
          "execution_count": 38
        }
      ]
    },
    {
      "cell_type": "code",
      "source": [
        "deleted_name = my_dict.pop()\n",
        "print(deleted_name)"
      ],
      "metadata": {
        "id": "b7CeYMkizPcN",
        "colab": {
          "base_uri": "https://localhost:8080/",
          "height": 163
        },
        "outputId": "d146846d-e322-4f0f-9924-084cb47da9f7"
      },
      "execution_count": null,
      "outputs": [
        {
          "output_type": "error",
          "ename": "TypeError",
          "evalue": "pop expected at least 1 argument, got 0",
          "traceback": [
            "\u001b[0;31m---------------------------------------------------------------------------\u001b[0m",
            "\u001b[0;31mTypeError\u001b[0m                                 Traceback (most recent call last)",
            "\u001b[0;32m<ipython-input-40-7b94a66cbf03>\u001b[0m in \u001b[0;36m<cell line: 1>\u001b[0;34m()\u001b[0m\n\u001b[0;32m----> 1\u001b[0;31m \u001b[0mdeleted_name\u001b[0m \u001b[0;34m=\u001b[0m \u001b[0mmy_dict\u001b[0m\u001b[0;34m.\u001b[0m\u001b[0mpop\u001b[0m\u001b[0;34m(\u001b[0m\u001b[0;34m)\u001b[0m\u001b[0;34m\u001b[0m\u001b[0;34m\u001b[0m\u001b[0m\n\u001b[0m\u001b[1;32m      2\u001b[0m \u001b[0mprint\u001b[0m\u001b[0;34m(\u001b[0m\u001b[0mdeleted_name\u001b[0m\u001b[0;34m)\u001b[0m\u001b[0;34m\u001b[0m\u001b[0;34m\u001b[0m\u001b[0m\n",
            "\u001b[0;31mTypeError\u001b[0m: pop expected at least 1 argument, got 0"
          ]
        }
      ]
    },
    {
      "cell_type": "code",
      "source": [
        "my_dict"
      ],
      "metadata": {
        "colab": {
          "base_uri": "https://localhost:8080/"
        },
        "id": "_2Tg3Y3Ngx1q",
        "outputId": "6af2d2bb-55ae-4501-ac19-5d675d4b78ed"
      },
      "execution_count": null,
      "outputs": [
        {
          "output_type": "execute_result",
          "data": {
            "text/plain": [
              "{'birth_place': 'IICT, SUST', 'start_date': '17-12-24'}"
            ]
          },
          "metadata": {},
          "execution_count": 35
        }
      ]
    },
    {
      "cell_type": "code",
      "source": [
        "del my_dict['start_date']\n",
        "print(my_dict)"
      ],
      "metadata": {
        "id": "e7FZk2s9zqNa",
        "colab": {
          "base_uri": "https://localhost:8080/"
        },
        "outputId": "15a7f9aa-e105-4fef-f8bc-e52c0ab06dd9"
      },
      "execution_count": null,
      "outputs": [
        {
          "output_type": "stream",
          "name": "stdout",
          "text": [
            "{'birth_place': 'IICT, SUST'}\n"
          ]
        }
      ]
    },
    {
      "cell_type": "markdown",
      "source": [
        "### dict methods"
      ],
      "metadata": {
        "id": "oNVEZkoC0I_W"
      }
    },
    {
      "cell_type": "code",
      "source": [
        "print(PDS_10_dict)"
      ],
      "metadata": {
        "colab": {
          "base_uri": "https://localhost:8080/"
        },
        "id": "chj6LBqZ0LKH",
        "outputId": "da6bb5ba-5144-41d2-903a-1cc004bf6166"
      },
      "execution_count": null,
      "outputs": [
        {
          "output_type": "stream",
          "name": "stdout",
          "text": [
            "{'title': 'Python class of PDS10 batch', 'no_of_students': 25, 'location': 'IICT,SUST', 'id': [1, 2, 3]}\n"
          ]
        }
      ]
    },
    {
      "cell_type": "code",
      "source": [
        "keys = PDS_10_dict.keys()\n",
        "keys"
      ],
      "metadata": {
        "colab": {
          "base_uri": "https://localhost:8080/"
        },
        "id": "ADTn0nAkhwIJ",
        "outputId": "b49b587f-4d64-4fc0-f002-11f622f023db"
      },
      "execution_count": null,
      "outputs": [
        {
          "output_type": "execute_result",
          "data": {
            "text/plain": [
              "dict_keys(['title', 'no_of_students', 'location', 'id'])"
            ]
          },
          "metadata": {},
          "execution_count": 42
        }
      ]
    },
    {
      "cell_type": "code",
      "source": [
        "values = PDS_10_dict.values()\n",
        "values, type(values)"
      ],
      "metadata": {
        "colab": {
          "base_uri": "https://localhost:8080/"
        },
        "id": "_xNNpNHah6Yg",
        "outputId": "bc1ad78b-4eff-455b-e7a2-6a3aa87b0c93"
      },
      "execution_count": null,
      "outputs": [
        {
          "output_type": "execute_result",
          "data": {
            "text/plain": [
              "(dict_values(['Python class of PDS10 batch', 25, 'IICT,SUST', [1, 2, 3]]),\n",
              " dict_values)"
            ]
          },
          "metadata": {},
          "execution_count": 45
        }
      ]
    },
    {
      "cell_type": "code",
      "source": [
        "items = PDS_10_dict.items()\n",
        "items"
      ],
      "metadata": {
        "colab": {
          "base_uri": "https://localhost:8080/"
        },
        "id": "q0SlzuzgiAxH",
        "outputId": "b29ce992-5eae-4398-91b9-5258a2072aba"
      },
      "execution_count": null,
      "outputs": [
        {
          "output_type": "execute_result",
          "data": {
            "text/plain": [
              "dict_items([('title', 'Python class of PDS10 batch'), ('no_of_students', 25), ('location', 'IICT,SUST'), ('id', [1, 2, 3])])"
            ]
          },
          "metadata": {},
          "execution_count": 46
        }
      ]
    },
    {
      "cell_type": "code",
      "source": [
        "for key in PDS_10_dict.keys():\n",
        "  print(key,':', PDS_10_dict[key])"
      ],
      "metadata": {
        "colab": {
          "base_uri": "https://localhost:8080/"
        },
        "id": "wfUcB-pniUdQ",
        "outputId": "c266f978-37db-4a68-e2d4-d65c89bf9c8b"
      },
      "execution_count": null,
      "outputs": [
        {
          "output_type": "stream",
          "name": "stdout",
          "text": [
            "title : Python class of PDS10 batch\n",
            "no_of_students : 25\n",
            "location : IICT,SUST\n",
            "id : [1, 2, 3]\n"
          ]
        }
      ]
    },
    {
      "cell_type": "code",
      "source": [
        "for item in PDS_10_dict.items():\n",
        "  print(item, type(item))"
      ],
      "metadata": {
        "colab": {
          "base_uri": "https://localhost:8080/"
        },
        "id": "kFCHzVdMioa-",
        "outputId": "9c54e66f-8423-4bb7-8fd8-7b47b66c3d36"
      },
      "execution_count": null,
      "outputs": [
        {
          "output_type": "stream",
          "name": "stdout",
          "text": [
            "('title', 'Python class of PDS10 batch') <class 'tuple'>\n",
            "('no_of_students', 25) <class 'tuple'>\n",
            "('location', 'IICT,SUST') <class 'tuple'>\n",
            "('id', [1, 2, 3]) <class 'tuple'>\n"
          ]
        }
      ]
    },
    {
      "cell_type": "code",
      "source": [
        "PDS_10_dict"
      ],
      "metadata": {
        "colab": {
          "base_uri": "https://localhost:8080/"
        },
        "id": "EOEOKIz7i5eZ",
        "outputId": "5ae1ae34-57d8-499b-e794-1b1625785a1e"
      },
      "execution_count": null,
      "outputs": [
        {
          "output_type": "execute_result",
          "data": {
            "text/plain": [
              "{'title': 'Python class of PDS10 batch',\n",
              " 'no_of_students': 25,\n",
              " 'location': 'IICT,SUST',\n",
              " 'id': [1, 2, 3]}"
            ]
          },
          "metadata": {},
          "execution_count": 52
        }
      ]
    },
    {
      "cell_type": "code",
      "source": [
        "PDS_10_dict.update({'title': 'PDS-10 ', 'location': 'SUST'})\n",
        "print(PDS_10_dict)"
      ],
      "metadata": {
        "colab": {
          "base_uri": "https://localhost:8080/"
        },
        "id": "aAYI-rdn0UZK",
        "outputId": "f20a5127-569c-48d9-ba5a-8108d1652ef3"
      },
      "execution_count": null,
      "outputs": [
        {
          "output_type": "stream",
          "name": "stdout",
          "text": [
            "{'title': 'PDS-10 ', 'no_of_students': 25, 'location': 'SUST', 'id': [1, 2, 3]}\n"
          ]
        }
      ]
    },
    {
      "cell_type": "code",
      "source": [
        "# Iterating over the keys\n",
        "for key in PDS_10_dict.keys():\n",
        "  print(f\"{key} : {PDS_10_dict[key]}\")"
      ],
      "metadata": {
        "colab": {
          "base_uri": "https://localhost:8080/"
        },
        "id": "kPxQ3IN-2ScS",
        "outputId": "87d78cdd-3f74-4799-91b8-8a76566bdeda"
      },
      "execution_count": null,
      "outputs": [
        {
          "output_type": "stream",
          "name": "stdout",
          "text": [
            "title : PDS-10 \n",
            "no_of_students : 25\n",
            "location : SUST\n",
            "id : [1, 2, 3]\n"
          ]
        }
      ]
    },
    {
      "cell_type": "code",
      "source": [
        "# iteraing over values of dict\n",
        "for value in PDS_10_dict.values():\n",
        "  print(f\"{value}\")"
      ],
      "metadata": {
        "colab": {
          "base_uri": "https://localhost:8080/"
        },
        "id": "V_-oG95t3QFK",
        "outputId": "6f393b4e-8c9d-4417-8166-e2dd6311120b"
      },
      "execution_count": null,
      "outputs": [
        {
          "output_type": "stream",
          "name": "stdout",
          "text": [
            "PDS-10 \n",
            "25\n",
            "SUST\n",
            "[1, 2, 3]\n"
          ]
        }
      ]
    },
    {
      "cell_type": "code",
      "source": [
        "PDS_10_dict.items?"
      ],
      "metadata": {
        "id": "bAH7qjz6kXq0"
      },
      "execution_count": null,
      "outputs": []
    },
    {
      "cell_type": "code",
      "source": [
        "PDS_10_dict.items()"
      ],
      "metadata": {
        "colab": {
          "base_uri": "https://localhost:8080/"
        },
        "id": "ceVBMNH7kLgx",
        "outputId": "00af8a97-6643-496e-e84b-f8b05299fd82"
      },
      "execution_count": null,
      "outputs": [
        {
          "output_type": "execute_result",
          "data": {
            "text/plain": [
              "dict_items([('title', 'PDS-10 '), ('no_of_students', 25), ('location', 'SUST'), ('id', [1, 2, 3])])"
            ]
          },
          "metadata": {},
          "execution_count": 58
        }
      ]
    },
    {
      "cell_type": "code",
      "source": [
        "for item in PDS_10_dict.items():\n",
        "  print(item)"
      ],
      "metadata": {
        "colab": {
          "base_uri": "https://localhost:8080/"
        },
        "id": "jafpcD-ijkbV",
        "outputId": "ab46fa8d-a0d7-42cb-cac4-d3127cf75122"
      },
      "execution_count": null,
      "outputs": [
        {
          "output_type": "stream",
          "name": "stdout",
          "text": [
            "('title', 'PDS-10 ')\n",
            "('no_of_students', 25)\n",
            "('location', 'SUST')\n",
            "('id', [1, 2, 3])\n"
          ]
        }
      ]
    },
    {
      "cell_type": "code",
      "source": [
        "for key, value in PDS_10_dict.items():\n",
        "  print(key, value)"
      ],
      "metadata": {
        "colab": {
          "base_uri": "https://localhost:8080/"
        },
        "id": "AeXbuCUG3vzF",
        "outputId": "b4536757-4efa-4e38-aa06-1f3818e428c3"
      },
      "execution_count": null,
      "outputs": [
        {
          "output_type": "stream",
          "name": "stdout",
          "text": [
            "title PDS-10 \n",
            "no_of_students 25\n",
            "location SUST\n",
            "id [1, 2, 3]\n"
          ]
        }
      ]
    },
    {
      "cell_type": "markdown",
      "source": [
        "### Problem 1: Analyzing Employee Attendance  \n",
        "**Problem Statement:**  \n",
        "You are the HR manager of a company. A CSV file, `attendance.csv`, contains data on employee attendance. The file has the following columns: `EmployeeID`, `Date`, and `Status` (where Status is either \"Present\" or \"Absent\"). Write a Python program to calculate the following:  \n",
        "1. Total days each employee was present.  \n",
        "2. The employee with the highest attendance.  \n",
        "3. The percentage of days attended for each employee.  \n",
        "\n",
        "Use a dictionary to store results, and ensure you handle any errors in reading the file.  \n",
        "\n",
        "---\n",
        "\n",
        "### Problem 2: Sales Performance Tracker  \n",
        "**Problem Statement:**  \n",
        "You are tasked with analyzing sales data from a CSV file, `sales_data.csv`. The file has columns: `ProductID`, `Region`, `SalesAmount`, and `Date`. Write a Python program to:  \n",
        "1. Calculate the total sales for each product.  \n",
        "2. Determine the region with the highest total sales.  \n",
        "3. Find the product with the highest sales in a specific region provided by the user.  \n",
        "\n",
        "Ensure you handle missing data appropriately and prompt the user for any required inputs. Display results in a user-friendly format."
      ],
      "metadata": {
        "id": "tV6yApiclGvh"
      }
    },
    {
      "cell_type": "code",
      "source": [
        "import csv"
      ],
      "metadata": {
        "id": "JNFP76b1mQ58"
      },
      "execution_count": null,
      "outputs": []
    },
    {
      "cell_type": "code",
      "source": [
        "attendance_list = []"
      ],
      "metadata": {
        "id": "zUAblr5xqmlj"
      },
      "execution_count": null,
      "outputs": []
    },
    {
      "cell_type": "code",
      "source": [
        "for i in range(5):\n",
        "  attendance_list.append(i)"
      ],
      "metadata": {
        "id": "ILe2P5WqqtlU"
      },
      "execution_count": null,
      "outputs": []
    },
    {
      "cell_type": "code",
      "source": [
        "attendance_list"
      ],
      "metadata": {
        "colab": {
          "base_uri": "https://localhost:8080/"
        },
        "id": "7ygOsJ2Oq1Ae",
        "outputId": "4248a782-7e67-4a4c-aaf7-0f2e03e00593"
      },
      "execution_count": null,
      "outputs": [
        {
          "output_type": "execute_result",
          "data": {
            "text/plain": [
              "[0, 1, 2, 3, 4]"
            ]
          },
          "metadata": {},
          "execution_count": 70
        }
      ]
    },
    {
      "cell_type": "code",
      "source": [
        "attendance_list = []"
      ],
      "metadata": {
        "id": "YhDI_NLqsGX4"
      },
      "execution_count": null,
      "outputs": []
    },
    {
      "cell_type": "code",
      "source": [
        "with open('/content/attendance.csv', 'r') as f:\n",
        "  file_data = csv.reader(f)\n",
        "  for row in file_data:\n",
        "    attendance_list.append(row)\n",
        "    print(row)"
      ],
      "metadata": {
        "id": "b04AeDdTmUPK"
      },
      "execution_count": null,
      "outputs": []
    },
    {
      "cell_type": "code",
      "source": [
        "len(attendance_list)"
      ],
      "metadata": {
        "colab": {
          "base_uri": "https://localhost:8080/"
        },
        "id": "7dWvQvsMsbYL",
        "outputId": "728691b2-d2e1-42ba-dc36-16834f422472"
      },
      "execution_count": null,
      "outputs": [
        {
          "output_type": "execute_result",
          "data": {
            "text/plain": [
              "101"
            ]
          },
          "metadata": {},
          "execution_count": 4
        }
      ]
    },
    {
      "cell_type": "code",
      "source": [
        "present_count = 0\n",
        "absent_count = 0\n",
        "for row in attendance_list:\n",
        "  if row[0] == 'E012' and row[2] == 'Absent':\n",
        "    absent_count = absent_count + 1\n",
        "  elif row[0] == 'E012' and row[2] == 'Present':\n",
        "    present_count = present_count + 1\n",
        "\n",
        "present_count, absent_count"
      ],
      "metadata": {
        "colab": {
          "base_uri": "https://localhost:8080/"
        },
        "id": "R7h5Jw4otJCL",
        "outputId": "cc9978b3-d3fd-43fc-db7f-477370d16f32"
      },
      "execution_count": null,
      "outputs": [
        {
          "output_type": "execute_result",
          "data": {
            "text/plain": [
              "(7, 1)"
            ]
          },
          "metadata": {},
          "execution_count": 79
        }
      ]
    },
    {
      "cell_type": "code",
      "source": [
        "attendance_list[0:5]"
      ],
      "metadata": {
        "colab": {
          "base_uri": "https://localhost:8080/"
        },
        "id": "x6DKJ61AwrH2",
        "outputId": "0d38e11a-b351-43a4-a75d-2b2ba09f7286"
      },
      "execution_count": null,
      "outputs": [
        {
          "output_type": "execute_result",
          "data": {
            "text/plain": [
              "[['EmployeeID', 'Date', 'Status'],\n",
              " ['E007', '2025-04-09', 'Absent'],\n",
              " ['E020', '2025-02-13', 'Present'],\n",
              " ['E015', '2025-03-27', 'Present'],\n",
              " ['E011', '2025-04-01', 'Present']]"
            ]
          },
          "metadata": {},
          "execution_count": 26
        }
      ]
    },
    {
      "cell_type": "code",
      "source": [
        "# Calculating each empolyees total attandance storing in a dict\n",
        "employee_attendance = {}\n",
        "index = 0\n",
        "for row in attendance_list:\n",
        "  if index == 0: # Skipping header\n",
        "    index = index + 1\n",
        "    continue\n",
        "  print(row)\n",
        "  if row[0] in employee_attendance.keys():\n",
        "    if row[2] == 'Present':\n",
        "      employee_attendance[row[0]] = employee_attendance[row[0]] + 1\n",
        "  else:\n",
        "    if row[2] == 'Present':\n",
        "      employee_attendance[row[0]] = 1"
      ],
      "metadata": {
        "id": "9id_ShAYlALo"
      },
      "execution_count": null,
      "outputs": []
    },
    {
      "cell_type": "code",
      "source": [
        "employee_attendance"
      ],
      "metadata": {
        "id": "MdoYTb8TlUMg"
      },
      "execution_count": null,
      "outputs": []
    },
    {
      "cell_type": "code",
      "source": [
        "len(num_list)"
      ],
      "metadata": {
        "colab": {
          "base_uri": "https://localhost:8080/"
        },
        "id": "iM_2PmGP5DKv",
        "outputId": "8e2ea0c0-5004-4667-f72a-8de60c714939"
      },
      "execution_count": null,
      "outputs": [
        {
          "output_type": "execute_result",
          "data": {
            "text/plain": [
              "8"
            ]
          },
          "metadata": {},
          "execution_count": 82
        }
      ]
    },
    {
      "cell_type": "code",
      "source": [
        "num_list = [1, 1, 2, 3, 6, 4, 3]"
      ],
      "metadata": {
        "id": "wY3msW3FoHGj"
      },
      "execution_count": null,
      "outputs": []
    },
    {
      "cell_type": "code",
      "source": [
        "unique_list = []\n",
        "for num in num_list:\n",
        "  if num not in unique_list:\n",
        "    unique_list.append(num)"
      ],
      "metadata": {
        "id": "1bRZx2C65Qsd"
      },
      "execution_count": null,
      "outputs": []
    },
    {
      "cell_type": "code",
      "source": [
        "unique_list"
      ],
      "metadata": {
        "colab": {
          "base_uri": "https://localhost:8080/"
        },
        "id": "lXdqvvco5jPn",
        "outputId": "047935e8-fd33-484b-9728-0ef30daf8bb3"
      },
      "execution_count": null,
      "outputs": [
        {
          "output_type": "execute_result",
          "data": {
            "text/plain": [
              "[1, 2, 3, 4, 6, 9]"
            ]
          },
          "metadata": {},
          "execution_count": 84
        }
      ]
    },
    {
      "cell_type": "code",
      "source": [
        "num_list = [1, 2, 1, 3, 4, 6, 6, 9]"
      ],
      "metadata": {
        "id": "emSukM_G46SX"
      },
      "execution_count": null,
      "outputs": []
    },
    {
      "cell_type": "code",
      "source": [
        "count_dict = {}"
      ],
      "metadata": {
        "id": "D-t9q4477H6x"
      },
      "execution_count": null,
      "outputs": []
    },
    {
      "cell_type": "code",
      "source": [
        "count_dict.keys()"
      ],
      "metadata": {
        "colab": {
          "base_uri": "https://localhost:8080/"
        },
        "id": "tjiXPcdB8Ogc",
        "outputId": "48b76013-3c22-46e4-c7b9-53323573cbe9"
      },
      "execution_count": null,
      "outputs": [
        {
          "output_type": "execute_result",
          "data": {
            "text/plain": [
              "dict_keys([])"
            ]
          },
          "metadata": {},
          "execution_count": 99
        }
      ]
    },
    {
      "cell_type": "code",
      "source": [
        "2 in count_dict.keys()"
      ],
      "metadata": {
        "colab": {
          "base_uri": "https://localhost:8080/"
        },
        "id": "kYmpsAiM7Kp7",
        "outputId": "59cc67ce-7a2c-46e6-ef18-ccfffb00f424"
      },
      "execution_count": null,
      "outputs": [
        {
          "output_type": "execute_result",
          "data": {
            "text/plain": [
              "False"
            ]
          },
          "metadata": {},
          "execution_count": 100
        }
      ]
    },
    {
      "cell_type": "code",
      "source": [
        "count_dict[2] = 1"
      ],
      "metadata": {
        "id": "OEIJxcAy8slh"
      },
      "execution_count": null,
      "outputs": []
    },
    {
      "cell_type": "code",
      "source": [
        "for num in num_list:\n",
        "  print(num)\n",
        "  if num in count_dict.keys():\n",
        "    count_dict[num] = count_dict[num] + 1\n",
        "  else:\n",
        "    count_dict[num] = 1"
      ],
      "metadata": {
        "colab": {
          "base_uri": "https://localhost:8080/"
        },
        "id": "ip2yP8o87cUV",
        "outputId": "0014ebcf-de14-4d04-ac04-3cd648e41d82"
      },
      "execution_count": null,
      "outputs": [
        {
          "output_type": "stream",
          "name": "stdout",
          "text": [
            "1\n",
            "2\n",
            "1\n",
            "3\n",
            "4\n",
            "6\n",
            "6\n",
            "9\n"
          ]
        }
      ]
    },
    {
      "cell_type": "code",
      "source": [
        "count_dict"
      ],
      "metadata": {
        "colab": {
          "base_uri": "https://localhost:8080/"
        },
        "id": "DV32SyFt9B3l",
        "outputId": "5e6a08d1-883c-46ea-b17d-fa6476914d38"
      },
      "execution_count": null,
      "outputs": [
        {
          "output_type": "execute_result",
          "data": {
            "text/plain": [
              "{1: 2, 2: 1, 3: 1, 4: 1, 6: 2, 9: 1}"
            ]
          },
          "metadata": {},
          "execution_count": 24
        }
      ]
    },
    {
      "cell_type": "code",
      "source": [
        "count = 0\n",
        "for unique_item in unique_list:\n",
        "  count = 0\n",
        "  print(unique_item, end = \" \")\n",
        "  for num in num_list:\n",
        "    if unique_item == num:\n",
        "      count = count + 1\n",
        "  print(\"found(times): \", count)"
      ],
      "metadata": {
        "colab": {
          "base_uri": "https://localhost:8080/"
        },
        "id": "tNBMmoML6NIV",
        "outputId": "3d78f734-91a2-43f9-8ca9-45d25f0e2a77"
      },
      "execution_count": null,
      "outputs": [
        {
          "output_type": "stream",
          "name": "stdout",
          "text": [
            "1 found(times):  2\n",
            "2 found(times):  1\n",
            "3 found(times):  1\n",
            "4 found(times):  1\n",
            "6 found(times):  2\n",
            "9 found(times):  1\n"
          ]
        }
      ]
    },
    {
      "cell_type": "markdown",
      "source": [
        "# Class_06"
      ],
      "metadata": {
        "id": "T2lmKopeksT4"
      }
    },
    {
      "cell_type": "markdown",
      "source": [
        "## Set"
      ],
      "metadata": {
        "id": "W82p4cfbDEyP"
      }
    },
    {
      "cell_type": "markdown",
      "source": [
        "\n",
        "\n",
        "![set](https://media.geeksforgeeks.org/wp-content/uploads/20240619161350/Set-Operations.webp)"
      ],
      "metadata": {
        "id": "Rnx2aXNVRq4c"
      }
    },
    {
      "cell_type": "code",
      "source": [
        "first_set = {1,2,3,4}\n",
        "print(first_set, type(first_set))"
      ],
      "metadata": {
        "colab": {
          "base_uri": "https://localhost:8080/"
        },
        "id": "rIDPtRPfzdxC",
        "outputId": "d778b5ce-c1a9-47d0-ad83-1f61a2f43132"
      },
      "execution_count": null,
      "outputs": [
        {
          "output_type": "stream",
          "name": "stdout",
          "text": [
            "{1, 2, 3, 4} <class 'set'>\n"
          ]
        }
      ]
    },
    {
      "cell_type": "code",
      "source": [
        "duplicate_item_in_set = {1, 1, 2, 4}\n",
        "print(duplicate_item_in_set, type(duplicate_item_in_set))"
      ],
      "metadata": {
        "colab": {
          "base_uri": "https://localhost:8080/"
        },
        "id": "3r2b5gkpz3-T",
        "outputId": "1ddb97d5-2911-4e61-aa76-f52855de6f7d"
      },
      "execution_count": null,
      "outputs": [
        {
          "output_type": "stream",
          "name": "stdout",
          "text": [
            "{1, 2, 4} <class 'set'>\n"
          ]
        }
      ]
    },
    {
      "cell_type": "code",
      "source": [
        "unq_set = {4, 1, 2, 3, 4, 5}\n",
        "print(unq_set, type(unq_set))\n",
        "\n",
        "my_set = set(['a', 'b', 'c', 'd'])\n",
        "print(my_set)"
      ],
      "metadata": {
        "colab": {
          "base_uri": "https://localhost:8080/"
        },
        "id": "qTJW1WdrDGqE",
        "outputId": "4984cb4f-1aea-4629-847d-3ed2f78d0d23"
      },
      "execution_count": null,
      "outputs": [
        {
          "output_type": "stream",
          "name": "stdout",
          "text": [
            "{1, 2, 3, 4, 5} <class 'set'>\n",
            "{'c', 'b', 'd', 'a'}\n"
          ]
        }
      ]
    },
    {
      "cell_type": "code",
      "source": [
        "unq_set = {1, 2, 65, 129, 3, 4}\n",
        "print(unq_set)"
      ],
      "metadata": {
        "colab": {
          "base_uri": "https://localhost:8080/"
        },
        "id": "MT9WmbPT0a_P",
        "outputId": "022aec14-e783-4eab-fef1-d59c01d615cb"
      },
      "execution_count": null,
      "outputs": [
        {
          "output_type": "stream",
          "name": "stdout",
          "text": [
            "{65, 2, 3, 129, 1, 4}\n"
          ]
        }
      ]
    },
    {
      "cell_type": "markdown",
      "source": [
        "### Set manipulation"
      ],
      "metadata": {
        "id": "uOrcOW_vGSNN"
      }
    },
    {
      "cell_type": "markdown",
      "source": [
        "![Set in py](https://pynative.com/wp-content/uploads/2021/03/python-sets.jpg)"
      ],
      "metadata": {
        "id": "hUsqIYZLSp5q"
      }
    },
    {
      "cell_type": "code",
      "source": [
        "unq_set[0] = 5\n",
        "print(unq_set)"
      ],
      "metadata": {
        "colab": {
          "base_uri": "https://localhost:8080/",
          "height": 165
        },
        "id": "A8_nioho08EN",
        "outputId": "f8e66193-8726-4c5c-b398-8e32534ad3f7"
      },
      "execution_count": null,
      "outputs": [
        {
          "output_type": "error",
          "ename": "TypeError",
          "evalue": "'set' object does not support item assignment",
          "traceback": [
            "\u001b[0;31m---------------------------------------------------------------------------\u001b[0m",
            "\u001b[0;31mTypeError\u001b[0m                                 Traceback (most recent call last)",
            "\u001b[0;32m<ipython-input-35-f5516ace9099>\u001b[0m in \u001b[0;36m<cell line: 1>\u001b[0;34m()\u001b[0m\n\u001b[0;32m----> 1\u001b[0;31m \u001b[0munq_set\u001b[0m\u001b[0;34m[\u001b[0m\u001b[0;36m0\u001b[0m\u001b[0;34m]\u001b[0m \u001b[0;34m=\u001b[0m \u001b[0;36m5\u001b[0m\u001b[0;34m\u001b[0m\u001b[0;34m\u001b[0m\u001b[0m\n\u001b[0m\u001b[1;32m      2\u001b[0m \u001b[0mprint\u001b[0m\u001b[0;34m(\u001b[0m\u001b[0munq_set\u001b[0m\u001b[0;34m)\u001b[0m\u001b[0;34m\u001b[0m\u001b[0;34m\u001b[0m\u001b[0m\n",
            "\u001b[0;31mTypeError\u001b[0m: 'set' object does not support item assignment"
          ]
        }
      ]
    },
    {
      "cell_type": "code",
      "source": [
        "num_set = {1, 2, 3, 4, 67}\n",
        "print(\"First print:\", num_set)"
      ],
      "metadata": {
        "colab": {
          "base_uri": "https://localhost:8080/"
        },
        "id": "QdubAbowS8xv",
        "outputId": "f344cc99-d531-4037-a575-b34faa9f69d0"
      },
      "execution_count": null,
      "outputs": [
        {
          "output_type": "stream",
          "name": "stdout",
          "text": [
            "First print: {1, 2, 3, 67, 4}\n"
          ]
        }
      ]
    },
    {
      "cell_type": "code",
      "source": [
        "my_set.add('e')\n",
        "my_set"
      ],
      "metadata": {
        "colab": {
          "base_uri": "https://localhost:8080/"
        },
        "id": "seZoqJCPEsgE",
        "outputId": "97cb9a54-fc3c-4f13-9a5b-8e3c7a416f32"
      },
      "execution_count": null,
      "outputs": [
        {
          "output_type": "execute_result",
          "data": {
            "text/plain": [
              "{'a', 'b', 'c', 'd', 'e'}"
            ]
          },
          "metadata": {},
          "execution_count": 39
        }
      ]
    },
    {
      "cell_type": "code",
      "source": [
        "my_set.add('e')\n",
        "my_set"
      ],
      "metadata": {
        "colab": {
          "base_uri": "https://localhost:8080/"
        },
        "id": "mhbLMgTI2QpZ",
        "outputId": "1e8786e5-dc91-4b35-a46a-bd97535e7db1"
      },
      "execution_count": null,
      "outputs": [
        {
          "output_type": "execute_result",
          "data": {
            "text/plain": [
              "{'a', 'b', 'c', 'd', 'e'}"
            ]
          },
          "metadata": {},
          "execution_count": 40
        }
      ]
    },
    {
      "cell_type": "code",
      "source": [
        "my_set.update(['f','e','n'])\n",
        "my_set"
      ],
      "metadata": {
        "colab": {
          "base_uri": "https://localhost:8080/"
        },
        "id": "RbCLgZkfFKFf",
        "outputId": "92f2f7b2-a151-4981-992a-b65d3309cc95"
      },
      "execution_count": null,
      "outputs": [
        {
          "output_type": "execute_result",
          "data": {
            "text/plain": [
              "{'a', 'b', 'c', 'd', 'e', 'f', 'n'}"
            ]
          },
          "metadata": {},
          "execution_count": 41
        }
      ]
    },
    {
      "cell_type": "code",
      "source": [
        "my_set.remove('c')"
      ],
      "metadata": {
        "id": "f0yxEIbpFXfj"
      },
      "execution_count": null,
      "outputs": []
    },
    {
      "cell_type": "code",
      "source": [
        "my_set"
      ],
      "metadata": {
        "colab": {
          "base_uri": "https://localhost:8080/"
        },
        "id": "T2s411u6Fc3A",
        "outputId": "5097ed03-eecb-4b98-84c7-83009ced6528"
      },
      "execution_count": null,
      "outputs": [
        {
          "output_type": "execute_result",
          "data": {
            "text/plain": [
              "{'a', 'b', 'd', 'e', 'f', 'n'}"
            ]
          },
          "metadata": {},
          "execution_count": 43
        }
      ]
    },
    {
      "cell_type": "code",
      "source": [
        "my_set.remove('c')\n",
        "my_set"
      ],
      "metadata": {
        "colab": {
          "base_uri": "https://localhost:8080/",
          "height": 165
        },
        "id": "1Mrij2f42eLv",
        "outputId": "c51a7493-f370-44bd-9583-629546a7d2cb"
      },
      "execution_count": null,
      "outputs": [
        {
          "output_type": "error",
          "ename": "KeyError",
          "evalue": "'c'",
          "traceback": [
            "\u001b[0;31m---------------------------------------------------------------------------\u001b[0m",
            "\u001b[0;31mKeyError\u001b[0m                                  Traceback (most recent call last)",
            "\u001b[0;32m<ipython-input-44-a36148668681>\u001b[0m in \u001b[0;36m<cell line: 1>\u001b[0;34m()\u001b[0m\n\u001b[0;32m----> 1\u001b[0;31m \u001b[0mmy_set\u001b[0m\u001b[0;34m.\u001b[0m\u001b[0mremove\u001b[0m\u001b[0;34m(\u001b[0m\u001b[0;34m'c'\u001b[0m\u001b[0;34m)\u001b[0m\u001b[0;34m\u001b[0m\u001b[0;34m\u001b[0m\u001b[0m\n\u001b[0m\u001b[1;32m      2\u001b[0m \u001b[0mmy_set\u001b[0m\u001b[0;34m\u001b[0m\u001b[0;34m\u001b[0m\u001b[0m\n",
            "\u001b[0;31mKeyError\u001b[0m: 'c'"
          ]
        }
      ]
    },
    {
      "cell_type": "code",
      "source": [
        "my_set.discard('b')\n",
        "my_set"
      ],
      "metadata": {
        "colab": {
          "base_uri": "https://localhost:8080/"
        },
        "id": "4AtIyy8gFtbt",
        "outputId": "cf2dacd3-78bb-445c-bc8c-9dd95993a545"
      },
      "execution_count": null,
      "outputs": [
        {
          "output_type": "execute_result",
          "data": {
            "text/plain": [
              "{'a', 'd', 'e', 'f', 'n'}"
            ]
          },
          "metadata": {},
          "execution_count": 45
        }
      ]
    },
    {
      "cell_type": "code",
      "source": [
        "my_set.discard('c')\n",
        "my_set"
      ],
      "metadata": {
        "colab": {
          "base_uri": "https://localhost:8080/"
        },
        "id": "_a4Ewp0EF0s4",
        "outputId": "c47b6407-2380-49a5-b661-62333fd67457"
      },
      "execution_count": null,
      "outputs": [
        {
          "output_type": "execute_result",
          "data": {
            "text/plain": [
              "{'a', 'd', 'e', 'f', 'n'}"
            ]
          },
          "metadata": {},
          "execution_count": 46
        }
      ]
    },
    {
      "cell_type": "code",
      "source": [
        "my_set.clear()\n",
        "my_set"
      ],
      "metadata": {
        "colab": {
          "base_uri": "https://localhost:8080/"
        },
        "id": "vKwHkID_GBB5",
        "outputId": "a97f1730-5471-4017-9815-73287718c017"
      },
      "execution_count": null,
      "outputs": [
        {
          "output_type": "execute_result",
          "data": {
            "text/plain": [
              "set()"
            ]
          },
          "metadata": {},
          "execution_count": 47
        }
      ]
    },
    {
      "cell_type": "code",
      "source": [
        "my_set"
      ],
      "metadata": {
        "colab": {
          "base_uri": "https://localhost:8080/"
        },
        "id": "ZbB42ieI22Sn",
        "outputId": "a81104d9-2832-452c-b231-4ff489e2fa80"
      },
      "execution_count": null,
      "outputs": [
        {
          "output_type": "execute_result",
          "data": {
            "text/plain": [
              "set()"
            ]
          },
          "metadata": {},
          "execution_count": 48
        }
      ]
    },
    {
      "cell_type": "markdown",
      "source": [
        "### Set operation"
      ],
      "metadata": {
        "id": "pFZqGS2kGVwR"
      }
    },
    {
      "cell_type": "code",
      "source": [
        "A = {1,2,3}\n",
        "B = {3,4,5}"
      ],
      "metadata": {
        "id": "0y2ehmNp28Ot"
      },
      "execution_count": null,
      "outputs": []
    },
    {
      "cell_type": "code",
      "source": [
        "A_union_B = A.union(B)\n",
        "print(A_union_B)"
      ],
      "metadata": {
        "colab": {
          "base_uri": "https://localhost:8080/"
        },
        "id": "bCndD9rk2-Im",
        "outputId": "45183ca9-502b-425b-bd6e-bf86262a38e4"
      },
      "execution_count": null,
      "outputs": [
        {
          "output_type": "stream",
          "name": "stdout",
          "text": [
            "{1, 2, 3, 4, 5}\n"
          ]
        }
      ]
    },
    {
      "cell_type": "code",
      "source": [
        "A_intersect_B = A.intersection(B)\n",
        "print(A_intersect_B)"
      ],
      "metadata": {
        "colab": {
          "base_uri": "https://localhost:8080/"
        },
        "id": "R5Cq-KBA3FVk",
        "outputId": "4157c952-38f6-40c2-eb4f-eee5558b8267"
      },
      "execution_count": null,
      "outputs": [
        {
          "output_type": "stream",
          "name": "stdout",
          "text": [
            "{3}\n"
          ]
        }
      ]
    },
    {
      "cell_type": "code",
      "source": [
        "A_difference_B = A.difference(B)\n",
        "print(A_difference_B)"
      ],
      "metadata": {
        "colab": {
          "base_uri": "https://localhost:8080/"
        },
        "id": "u6EbcGggGXm5",
        "outputId": "c7c5c9d1-b4e2-4118-c769-971d17424443"
      },
      "execution_count": null,
      "outputs": [
        {
          "output_type": "stream",
          "name": "stdout",
          "text": [
            "{1, 2}\n"
          ]
        }
      ]
    },
    {
      "cell_type": "markdown",
      "source": [
        "### Set comaprisions"
      ],
      "metadata": {
        "id": "0tW8FA3rHJo5"
      }
    },
    {
      "cell_type": "code",
      "source": [
        "A = {1,2,3}\n",
        "B = {1,2}\n",
        "print(B.issubset(A))\n",
        "print(A.issuperset(B))\n",
        "print(A == B)"
      ],
      "metadata": {
        "colab": {
          "base_uri": "https://localhost:8080/"
        },
        "id": "E70xCp4rHM13",
        "outputId": "6225a352-02aa-404f-dc22-4413d41923ed"
      },
      "execution_count": null,
      "outputs": [
        {
          "output_type": "stream",
          "name": "stdout",
          "text": [
            "True\n",
            "True\n",
            "False\n"
          ]
        }
      ]
    },
    {
      "cell_type": "markdown",
      "source": [
        "### Accessing set items"
      ],
      "metadata": {
        "id": "J0n8kgpJH-ja"
      }
    },
    {
      "cell_type": "code",
      "source": [
        "my_set = set(['a', 'b', 'c', 'd'])\n",
        "print(my_set)\n",
        "\n",
        "for item in my_set:\n",
        "  print(item)"
      ],
      "metadata": {
        "colab": {
          "base_uri": "https://localhost:8080/"
        },
        "id": "NaoMhhfxH7--",
        "outputId": "273eda93-7e10-4bb2-874d-25ba9cccdd3f"
      },
      "execution_count": null,
      "outputs": [
        {
          "output_type": "stream",
          "name": "stdout",
          "text": [
            "{'c', 'b', 'd', 'a'}\n",
            "c\n",
            "b\n",
            "d\n",
            "a\n"
          ]
        }
      ]
    },
    {
      "cell_type": "code",
      "source": [],
      "metadata": {
        "id": "6HJwL3PEkeSO"
      },
      "execution_count": null,
      "outputs": []
    },
    {
      "cell_type": "markdown",
      "source": [
        "## Exercise"
      ],
      "metadata": {
        "id": "rHDJd3K4tqh0"
      }
    },
    {
      "cell_type": "markdown",
      "source": [
        "Problem Statement-01\n",
        "\n",
        "You have two sets of email addresses: one from a newsletter signup form and another from a purchase form on your website. Write a program to find and print the email addresses that appear in both sets.\n",
        "\n",
        "`email_subs_inqilab = {}`\n",
        "\n",
        "`email_subs_jonokontho = {}`"
      ],
      "metadata": {
        "id": "9B5cVngq33u6"
      }
    },
    {
      "cell_type": "markdown",
      "source": [
        "### Problem Statement-02\n",
        "\n",
        "**Student Grades Analyzer**\n",
        "\n",
        "Write a Python program to help a teacher analyze student grades. The program should:\n",
        "\n",
        "1. **Input Student Data:**\n",
        "   - Ask for the number of students.\n",
        "   - For each student, input their name and a list of at least 3 grades separated by spaces.\n",
        "\n",
        "2. **Calculate Average Grade:**\n",
        "   - Create a function `calculate_average(grades)` to return the average of a list of grades.\n",
        "\n",
        "3. **Determine Pass/Fail:**\n",
        "   - Create a function `determine_pass_fail(average)` to return \"Pass\" if the average is 60 or above, otherwise \"Fail\".\n",
        "\n",
        "4. **Find Highest and Lowest Grades:**\n",
        "   - Create a function `find_highest_lowest(grades)` to return the highest and lowest grades as a tuple.\n",
        "\n",
        "5. **Display Results:**\n",
        "   - For each student, print their name, average grade, pass/fail status, highest grade, and lowest grade.\n",
        "\n",
        "### Example Interaction\n",
        "\n",
        "```\n",
        "Enter the number of students: 2\n",
        "Enter the name of student 1: Alice\n",
        "Enter the grades for Alice (separated by spaces): 75 88 92\n",
        "Enter the name of student 2: Bob\n",
        "Enter the grades for Bob (separated by spaces): 59 61 65\n",
        "\n",
        "Student: Alice\n",
        "Average Grade: 85.0\n",
        "Status: Pass\n",
        "Highest Grade: 92\n",
        "Lowest Grade: 75\n",
        "\n",
        "Student: Bob\n",
        "Average Grade: 61.67\n",
        "Status: Pass\n",
        "Highest Grade: 65\n",
        "Lowest Grade: 59\n",
        "```\n",
        "\n",
        "### Requirements\n",
        "\n",
        "1. Use a dict to store student info(imagine that all the students have unique name)\n",
        "2. Use lists to store grades.\n",
        "2. Use tuples for the highest and lowest grades.\n",
        "3. Implement and use `calculate_average`, `determine_pass_fail`, and `find_highest_lowest` functions.\n",
        "4. Use for and while loops."
      ],
      "metadata": {
        "id": "U_b5GTcdcnFi"
      }
    },
    {
      "cell_type": "markdown",
      "source": [
        "### Problem Statement-03\n",
        "You are organizing a coding competition. Write a program that takes a list of participants, where each participant is represented by a dictionary with keys \"name\" and \"score\". Calculate the average score and print a congratulatory message for participants who scored above the average.\n",
        "\n",
        "```\n",
        "Enter the number of participants: 5\n",
        "\n",
        "Enter the name of participant 1: Alice\n",
        "Enter the score of Alice: 85\n",
        "\n",
        "Enter the name of participant 2: Bob\n",
        "Enter the score of Bob: 78\n",
        "\n",
        "Enter the name of participant 3: Charlie\n",
        "Enter the score of Charlie: 92\n",
        "\n",
        "Enter the name of participant 4: Diana\n",
        "Enter the score of Diana: 68\n",
        "\n",
        "Enter the name of participant 5: Eve\n",
        "Enter the score of Eve: 74\n",
        "\n",
        "The average score is: 79.40\n",
        "\n",
        "Congratulations to the participants who scored above the average:\n",
        "Congratulations Alice! Your score of 85 is above the average.\n",
        "Congratulations Charlie! Your score of 92 is above the average.\n",
        "```\n"
      ],
      "metadata": {
        "id": "jM-pEoPrf3sU"
      }
    },
    {
      "cell_type": "markdown",
      "source": [
        "# Class_05_continued"
      ],
      "metadata": {
        "id": "cWAegm93s0h5"
      }
    },
    {
      "cell_type": "markdown",
      "source": [
        "*   Recap of print with format method\n",
        "*   Operator & Operand\n",
        "*   Basic Operator in Python\n",
        "*   Ternary Operator\n",
        "*   Python membership and identity operator | in, not in, is, is not\n",
        "*   Difference between == and is operator\n",
        "\n",
        "\n",
        "\n"
      ],
      "metadata": {
        "id": "HVLHkVvAs3Dd"
      }
    },
    {
      "cell_type": "markdown",
      "source": [
        "### print function recap"
      ],
      "metadata": {
        "id": "jeozZwaBUtwp"
      }
    },
    {
      "cell_type": "code",
      "source": [
        "region = \"Sylhet\"\n",
        "country = \"Bangladesh\"\n",
        "print(\"We are from Sylhet, Bangladesh\")\n",
        "print(f\"We are from {region}, {country}\")\n",
        "print(\"We are from {}, {}\".format(region, country))\n",
        "print(\"We are from {1}, {0}\".format(region, country))\n",
        "print(\"We are from {place}, {0}, {1}\".format(region, country, place = \"Akhalia\"))"
      ],
      "metadata": {
        "colab": {
          "base_uri": "https://localhost:8080/"
        },
        "id": "IMptJNRkQHlJ",
        "outputId": "ffe2b1e9-b951-43e6-a99d-d2eabe582b12"
      },
      "execution_count": null,
      "outputs": [
        {
          "output_type": "stream",
          "name": "stdout",
          "text": [
            "We are from Sylhet, Bangladesh\n",
            "We are from Sylhet, Bangladesh\n",
            "We are from Sylhet, Bangladesh\n",
            "We are from Bangladesh, Sylhet\n",
            "We are from Akhalia, Sylhet, Bangladesh\n"
          ]
        }
      ]
    },
    {
      "cell_type": "code",
      "source": [
        "net_balance = 12345.68910000\n",
        "balance = 45.61\n",
        "result = 1/3\n",
        "print(result)\n",
        "\n",
        "print(\"Your net balance is:{:.2f}\".format(net_balance))\n",
        "print(\"Your net balance is:{0:10.2f}\".format(net_balance))\n",
        "try:\n",
        "  print(\"Your net balance is:{3:5.4f}\".format(net_balance, balance, result))\n",
        "except IndexError:\n",
        "  print(\"Index Error\")\n",
        "except:\n",
        "  print(\"Some another error\")\n",
        "print(\"Your net balance is:{0:10.4f}\".format(net_balance))"
      ],
      "metadata": {
        "colab": {
          "base_uri": "https://localhost:8080/"
        },
        "id": "IsVIgeQbSJnl",
        "outputId": "547e5f59-21a5-4b3d-d1e9-07c0bdd8213d"
      },
      "execution_count": null,
      "outputs": [
        {
          "output_type": "stream",
          "name": "stdout",
          "text": [
            "0.3333333333333333\n",
            "Your net balance is:12345.69\n",
            "Your net balance is:  12345.69\n",
            "Index Error\n",
            "Your net balance is:12345.6891\n"
          ]
        }
      ]
    },
    {
      "cell_type": "markdown",
      "source": [
        "### Exception handling"
      ],
      "metadata": {
        "id": "MnxlRW-FkCJH"
      }
    },
    {
      "cell_type": "code",
      "source": [
        "a = int(input(\"Enter the numerator:\"))\n",
        "b = int(input(\"Enter the denominator:\"))\n",
        "\n",
        "try:\n",
        "  dividend = a/b\n",
        "  print(dividend)\n",
        "except:\n",
        "  print(\"Denomenetor can't be zero\")"
      ],
      "metadata": {
        "id": "eIsCln7JnX1W",
        "colab": {
          "base_uri": "https://localhost:8080/"
        },
        "outputId": "db9f4c79-c754-4534-bd16-4667546f6cea"
      },
      "execution_count": null,
      "outputs": [
        {
          "output_type": "stream",
          "name": "stdout",
          "text": [
            "Enter the numerator:2\n",
            "Enter the denominator:0\n",
            "Denomenetor can't be zero\n"
          ]
        }
      ]
    },
    {
      "cell_type": "code",
      "source": [
        "try:\n",
        "  a = int(input(\"Enter the numerator:\"))\n",
        "  b = int(input(\"Enter the denominator:\"))\n",
        "  dividend = a/b\n",
        "  print(dividend)\n",
        "except ZeroDivisionError:\n",
        "  print(\"Denomenetor can't be zero\")\n",
        "except:\n",
        "  print(\"Please enter some real numbers\")"
      ],
      "metadata": {
        "colab": {
          "base_uri": "https://localhost:8080/"
        },
        "id": "i_V2aEXjkJ5p",
        "outputId": "1ee7b3d3-7903-45bc-f4d7-da56af3ef00e"
      },
      "execution_count": null,
      "outputs": [
        {
          "output_type": "stream",
          "name": "stdout",
          "text": [
            "Enter the numerator:12\n",
            "Enter the denominator:a\n",
            "Please enter some real numbers\n"
          ]
        }
      ]
    },
    {
      "cell_type": "code",
      "source": [
        "list_5_numbers = list([1,2,3,4,5])\n",
        "list_5_numbers[6]"
      ],
      "metadata": {
        "colab": {
          "base_uri": "https://localhost:8080/",
          "height": 165
        },
        "id": "2ABczfJR8hdw",
        "outputId": "3d214e1b-ec81-4b30-ca78-873d0dc2b105"
      },
      "execution_count": null,
      "outputs": [
        {
          "output_type": "error",
          "ename": "IndexError",
          "evalue": "list index out of range",
          "traceback": [
            "\u001b[0;31m---------------------------------------------------------------------------\u001b[0m",
            "\u001b[0;31mIndexError\u001b[0m                                Traceback (most recent call last)",
            "\u001b[0;32m<ipython-input-66-e2402b56c6c7>\u001b[0m in \u001b[0;36m<cell line: 2>\u001b[0;34m()\u001b[0m\n\u001b[1;32m      1\u001b[0m \u001b[0mlist_5_numbers\u001b[0m \u001b[0;34m=\u001b[0m \u001b[0mlist\u001b[0m\u001b[0;34m(\u001b[0m\u001b[0;34m[\u001b[0m\u001b[0;36m1\u001b[0m\u001b[0;34m,\u001b[0m\u001b[0;36m2\u001b[0m\u001b[0;34m,\u001b[0m\u001b[0;36m3\u001b[0m\u001b[0;34m,\u001b[0m\u001b[0;36m4\u001b[0m\u001b[0;34m,\u001b[0m\u001b[0;36m5\u001b[0m\u001b[0;34m]\u001b[0m\u001b[0;34m)\u001b[0m\u001b[0;34m\u001b[0m\u001b[0;34m\u001b[0m\u001b[0m\n\u001b[0;32m----> 2\u001b[0;31m \u001b[0mlist_5_numbers\u001b[0m\u001b[0;34m[\u001b[0m\u001b[0;36m6\u001b[0m\u001b[0;34m]\u001b[0m\u001b[0;34m\u001b[0m\u001b[0;34m\u001b[0m\u001b[0m\n\u001b[0m",
            "\u001b[0;31mIndexError\u001b[0m: list index out of range"
          ]
        }
      ]
    },
    {
      "cell_type": "code",
      "source": [
        "list_a = list(map(int, input(\"Enter 5 numbers:\").split()))\n",
        "dividend = sum(list_a)/list_a[4]"
      ],
      "metadata": {
        "colab": {
          "base_uri": "https://localhost:8080/",
          "height": 183
        },
        "id": "rz2FgiKBodqz",
        "outputId": "2e82fe8e-eaa8-4118-f827-db5a6219eb87"
      },
      "execution_count": null,
      "outputs": [
        {
          "name": "stdout",
          "output_type": "stream",
          "text": [
            "Enter 5 numbers:1 2 3\n"
          ]
        },
        {
          "output_type": "error",
          "ename": "IndexError",
          "evalue": "list index out of range",
          "traceback": [
            "\u001b[0;31m---------------------------------------------------------------------------\u001b[0m",
            "\u001b[0;31mIndexError\u001b[0m                                Traceback (most recent call last)",
            "\u001b[0;32m<ipython-input-67-d4da8351b203>\u001b[0m in \u001b[0;36m<cell line: 2>\u001b[0;34m()\u001b[0m\n\u001b[1;32m      1\u001b[0m \u001b[0mlist_a\u001b[0m \u001b[0;34m=\u001b[0m \u001b[0mlist\u001b[0m\u001b[0;34m(\u001b[0m\u001b[0mmap\u001b[0m\u001b[0;34m(\u001b[0m\u001b[0mint\u001b[0m\u001b[0;34m,\u001b[0m \u001b[0minput\u001b[0m\u001b[0;34m(\u001b[0m\u001b[0;34m\"Enter 5 numbers:\"\u001b[0m\u001b[0;34m)\u001b[0m\u001b[0;34m.\u001b[0m\u001b[0msplit\u001b[0m\u001b[0;34m(\u001b[0m\u001b[0;34m)\u001b[0m\u001b[0;34m)\u001b[0m\u001b[0;34m)\u001b[0m\u001b[0;34m\u001b[0m\u001b[0;34m\u001b[0m\u001b[0m\n\u001b[0;32m----> 2\u001b[0;31m \u001b[0mdividend\u001b[0m \u001b[0;34m=\u001b[0m \u001b[0msum\u001b[0m\u001b[0;34m(\u001b[0m\u001b[0mlist_a\u001b[0m\u001b[0;34m)\u001b[0m\u001b[0;34m/\u001b[0m\u001b[0mlist_a\u001b[0m\u001b[0;34m[\u001b[0m\u001b[0;36m4\u001b[0m\u001b[0;34m]\u001b[0m\u001b[0;34m\u001b[0m\u001b[0;34m\u001b[0m\u001b[0m\n\u001b[0m",
            "\u001b[0;31mIndexError\u001b[0m: list index out of range"
          ]
        }
      ]
    },
    {
      "cell_type": "code",
      "source": [
        "try:\n",
        "  list_a = list(map(int, input(\"Enter 5 numbers:\").split()))\n",
        "  # print(\"The last element from list:\", list_a[4])\n",
        "  dividend = sum(list_a)/list_a[4]\n",
        "\n",
        "except ZeroDivisionError:\n",
        "  print(\"Denomenetor can't be zero\")\n",
        "except IndexError:\n",
        "  print(\"Please enter five numbers!\")\n",
        "except:\n",
        "  print(\"Please enter some real numbers\")"
      ],
      "metadata": {
        "colab": {
          "base_uri": "https://localhost:8080/"
        },
        "id": "ENrvp2Tgndss",
        "outputId": "7271bd97-e11c-47e6-9d18-2c6b50f81283"
      },
      "execution_count": null,
      "outputs": [
        {
          "output_type": "stream",
          "name": "stdout",
          "text": [
            "Enter 5 numbers:1 2 3\n",
            "Please enter five numbers!\n"
          ]
        }
      ]
    },
    {
      "cell_type": "code",
      "source": [
        "try:\n",
        "  list_a = list(map(int, input(\"Enter 5 numbers:\").split()))\n",
        "  assert len(list_a) == 5\n",
        "  dividend = sum(list_a)/list_a[4]\n",
        "  print(dividend)\n",
        "except ZeroDivisionError:\n",
        "  print(\"Denomenetor can't be zero\")\n",
        "except IndexError:\n",
        "  print(\"Please enter five numbers!\")\n",
        "except AssertionError:\n",
        "  print(\"Max 5 numbers\")\n",
        "except:\n",
        "  print(\"Please enter some real numbers\")\n",
        "finally:\n",
        "  print(\"Thank you!\")"
      ],
      "metadata": {
        "colab": {
          "base_uri": "https://localhost:8080/"
        },
        "id": "-ZAxN2FUo9X1",
        "outputId": "3ac337c8-3f75-4113-90b2-4674c149c469"
      },
      "execution_count": null,
      "outputs": [
        {
          "output_type": "stream",
          "name": "stdout",
          "text": [
            "Enter 5 numbers:1 2 3 4 5 6\n",
            "Max 5 numbers\n",
            "Thank you!\n"
          ]
        }
      ]
    },
    {
      "cell_type": "code",
      "source": [],
      "metadata": {
        "id": "Se056Ywfkhyn"
      },
      "execution_count": null,
      "outputs": []
    },
    {
      "cell_type": "markdown",
      "source": [
        "# Class_06_continued"
      ],
      "metadata": {
        "id": "YD351_lAkl-4"
      }
    },
    {
      "cell_type": "markdown",
      "source": [
        "## Numpy\n",
        "\n",
        "### What is NumPy?\n",
        "- NumPy (Numerical Python) is a library used for numerical and matrix operations.\n",
        "- It provides high-performance multidimensional arrays.\n",
        "- Key Features:\n",
        "  - Supports vectorized operations (faster than loops).\n",
        "  - Ideal for mathematical and scientific computing.\n"
      ],
      "metadata": {
        "id": "9nHIeMjIisaM"
      }
    },
    {
      "cell_type": "markdown",
      "source": [
        "![numpy array](https://encrypted-tbn0.gstatic.com/images?q=tbn:ANd9GcSlS7G6ucV3VG3OQblbSREwxsHqVjdS31WzOAU3tky_Dj1FLA9qBRHVLsAI-DVTuaOa0EA&usqp=CAU)"
      ],
      "metadata": {
        "id": "iPg65CLg-8gY"
      }
    },
    {
      "cell_type": "markdown",
      "source": [
        "### Creating Arrays"
      ],
      "metadata": {
        "id": "FBBz83Z9i3qo"
      }
    },
    {
      "cell_type": "code",
      "source": [
        "import numpy as np"
      ],
      "metadata": {
        "id": "pbsrlAM4CFfy"
      },
      "execution_count": null,
      "outputs": []
    },
    {
      "cell_type": "code",
      "source": [
        "# Creating a 1D array\n",
        "arr1 = np.array([1, 2, 3])\n",
        "print(\"1D Array:\", arr1)"
      ],
      "metadata": {
        "colab": {
          "base_uri": "https://localhost:8080/"
        },
        "id": "gQP039lACVB5",
        "outputId": "600699df-1214-46d4-8ed9-08cc18761dcd"
      },
      "execution_count": null,
      "outputs": [
        {
          "output_type": "stream",
          "name": "stdout",
          "text": [
            "1D Array: [1 2 3]\n"
          ]
        }
      ]
    },
    {
      "cell_type": "code",
      "source": [
        "type(arr1), arr1.shape"
      ],
      "metadata": {
        "colab": {
          "base_uri": "https://localhost:8080/"
        },
        "id": "O4ol-bstCfjG",
        "outputId": "5d611648-922b-4d0b-9d0a-cab31f257c63"
      },
      "execution_count": null,
      "outputs": [
        {
          "output_type": "execute_result",
          "data": {
            "text/plain": [
              "(numpy.ndarray, (3,))"
            ]
          },
          "metadata": {},
          "execution_count": 84
        }
      ]
    },
    {
      "cell_type": "code",
      "source": [
        "# Creating a 2D array\n",
        "arr2 = np.array([[1, 2], [3, 4],[4, 5], [5, 6]])\n",
        "print(\"2D Array:\\n\", arr2, arr2.shape, arr2.ndim)"
      ],
      "metadata": {
        "id": "5c4NsXa2isAK",
        "colab": {
          "base_uri": "https://localhost:8080/"
        },
        "outputId": "92c5e4fe-cac1-45f2-e5b0-1afe879c3868"
      },
      "execution_count": null,
      "outputs": [
        {
          "output_type": "stream",
          "name": "stdout",
          "text": [
            "2D Array:\n",
            " [[1 2]\n",
            " [3 4]\n",
            " [4 5]\n",
            " [5 6]] (4, 2) 2\n"
          ]
        }
      ]
    },
    {
      "cell_type": "markdown",
      "source": [
        "### ndarray\n",
        "The `ndarray` is the core data structure of NumPy. It represents a multidimensional, homogeneous array of fixed-size items.\n",
        "\n",
        "Key Properties:\n",
        "1. `ndim`: Number of dimensions.\n",
        "2. `shape`: Shape (size of each dimension).\n",
        "3. `dtype`: Data type of the array elements."
      ],
      "metadata": {
        "id": "4If7xsZ1vuQC"
      }
    },
    {
      "cell_type": "code",
      "source": [
        "# Creating an ndarray\n",
        "arr = np.array([[[1,2, 3], [2,3, 4]], [[3,4, 5], [4,5, 6]]])\n",
        "print(\"Array:\\n\", arr)\n",
        "\n",
        "# Properties of ndarray\n",
        "print(\"Number of Dimensions:\", arr.ndim)\n",
        "print(\"Shape of Array:\", arr.shape)\n",
        "print(\"Data Type:\", arr.dtype)\n"
      ],
      "metadata": {
        "id": "Cb5T6Z5tvwsT",
        "colab": {
          "base_uri": "https://localhost:8080/"
        },
        "outputId": "209507d6-c2d3-48ff-d7e8-d86faca52a30"
      },
      "execution_count": null,
      "outputs": [
        {
          "output_type": "stream",
          "name": "stdout",
          "text": [
            "Array:\n",
            " [[[1 2 3]\n",
            "  [2 3 4]]\n",
            "\n",
            " [[3 4 5]\n",
            "  [4 5 6]]]\n",
            "Number of Dimensions: 3\n",
            "Shape of Array: (2, 2, 3)\n",
            "Data Type: int64\n"
          ]
        }
      ]
    },
    {
      "cell_type": "markdown",
      "source": [
        "### Data Type Objects (`dtype`)\n",
        "The `dtype` object specifies the type of data stored in an array (e.g., integer, float, etc.).\n",
        "\n",
        "Key Features:\n",
        "1. Allows custom data types.\n",
        "2. Supports advanced types like complex numbers and fixed-length strings."
      ],
      "metadata": {
        "id": "_8_w9Dd-v4_-"
      }
    },
    {
      "cell_type": "code",
      "source": [
        "# Array with default integer dtype\n",
        "arr = np.array([1, 2, 3], dtype=\"float64\")\n",
        "print(\"Default dtype:\", arr, arr.dtype)"
      ],
      "metadata": {
        "colab": {
          "base_uri": "https://localhost:8080/"
        },
        "id": "8sDxRJaMEi4_",
        "outputId": "c5c72d63-132a-4d2c-a1a3-3a9705ef25fe"
      },
      "execution_count": null,
      "outputs": [
        {
          "output_type": "stream",
          "name": "stdout",
          "text": [
            "Default dtype: [1. 2. 3.] float64\n"
          ]
        }
      ]
    },
    {
      "cell_type": "code",
      "source": [
        "# Complex dtype\n",
        "arr_complex = np.array([1 + 2j, 3 + 4j])\n",
        "print(\"Complex dtype:\", arr_complex.dtype)"
      ],
      "metadata": {
        "id": "pZgnpT0Xv4sJ",
        "colab": {
          "base_uri": "https://localhost:8080/"
        },
        "outputId": "c40e2a07-a6fe-43f5-8732-5a5e2172633f"
      },
      "execution_count": null,
      "outputs": [
        {
          "output_type": "stream",
          "name": "stdout",
          "text": [
            "Complex dtype: complex128\n"
          ]
        }
      ]
    },
    {
      "cell_type": "markdown",
      "source": [
        "### Array Operations"
      ],
      "metadata": {
        "id": "5EMBJrFKi5Ul"
      }
    },
    {
      "cell_type": "code",
      "source": [
        "arr = np.array([1, 2, 3, 4])"
      ],
      "metadata": {
        "id": "4v1vTxIsFEyu"
      },
      "execution_count": null,
      "outputs": []
    },
    {
      "cell_type": "code",
      "source": [
        "# Scaler operations\n",
        "print(\"Array + 10:\", arr + 10)\n",
        "print(\"Array * 2:\", arr * 2)"
      ],
      "metadata": {
        "colab": {
          "base_uri": "https://localhost:8080/"
        },
        "id": "ZCHVPdkxFITK",
        "outputId": "3a21ee8c-1647-4f9b-ad56-dbce31d4bfc9"
      },
      "execution_count": null,
      "outputs": [
        {
          "output_type": "stream",
          "name": "stdout",
          "text": [
            "Array + 10: [11 12 13 14]\n",
            "Array * 2: [2 4 6 8]\n"
          ]
        }
      ]
    },
    {
      "cell_type": "code",
      "source": [
        "arr = np.array([1, 2, 3, 4])\n",
        "\n",
        "# Mathematical operations\n",
        "print(\"Sum:\", arr.sum())\n",
        "print(\"Mean:\", arr.mean())\n",
        "print(\"Max:\", arr.max())"
      ],
      "metadata": {
        "colab": {
          "base_uri": "https://localhost:8080/"
        },
        "id": "c8vB6AdLFeXF",
        "outputId": "7aca3ed1-84c3-46fd-af6b-c19545799b9e"
      },
      "execution_count": null,
      "outputs": [
        {
          "output_type": "stream",
          "name": "stdout",
          "text": [
            "Sum: 10\n",
            "Mean: 2.5\n",
            "Max: 4\n"
          ]
        }
      ]
    },
    {
      "cell_type": "code",
      "source": [
        "arr = np.array([1, 2, 3, 4])\n",
        "arr2 = np.array([5, 6, 7, 8])"
      ],
      "metadata": {
        "id": "gMsFrW9FFqtH"
      },
      "execution_count": null,
      "outputs": []
    },
    {
      "cell_type": "code",
      "source": [
        "# Element-wise operations\n",
        "print(\"Addition:\", arr + arr2)\n",
        "print(\"Multiplication:\", arr * arr2)"
      ],
      "metadata": {
        "colab": {
          "base_uri": "https://localhost:8080/"
        },
        "id": "ciFT1E0nFnlJ",
        "outputId": "9e4fd454-9df9-4493-920b-1bbd583aa875"
      },
      "execution_count": null,
      "outputs": [
        {
          "output_type": "stream",
          "name": "stdout",
          "text": [
            "Addition: [ 6  8 10 12]\n",
            "Multiplication: [ 5 12 21 32]\n"
          ]
        }
      ]
    },
    {
      "cell_type": "code",
      "source": [
        "\n",
        "\n",
        "# Scaler operations\n",
        "print(\"Array + 10:\", arr + 10)\n",
        "print(\"Array * 2:\", arr * 2)\n",
        "\n",
        "# Mathematical operations\n",
        "print(\"Sum:\", arr.sum())\n",
        "print(\"Mean:\", arr.mean())\n",
        "print(\"Max:\", arr.max())\n",
        "\n",
        "# Element-wise operations\n",
        "print(\"Addition:\", arr + arr2)\n",
        "print(\"Multiplication:\", arr * arr2)"
      ],
      "metadata": {
        "id": "qvzE1zTuiynh",
        "colab": {
          "base_uri": "https://localhost:8080/"
        },
        "outputId": "9e1c9548-5861-4a20-d08d-3089b5e518fa"
      },
      "execution_count": null,
      "outputs": [
        {
          "output_type": "stream",
          "name": "stdout",
          "text": [
            "Array + 10: [11 12 13 14]\n",
            "Array * 2: [2 4 6 8]\n",
            "Sum: 10\n",
            "Mean: 2.5\n",
            "Max: 4\n",
            "Addition: [ 6  8 10 12]\n",
            "Multiplication: [ 5 12 21 32]\n"
          ]
        }
      ]
    },
    {
      "cell_type": "markdown",
      "source": [
        "### Array Slicing"
      ],
      "metadata": {
        "id": "VTarqgBGjC3p"
      }
    },
    {
      "cell_type": "code",
      "source": [
        "arr = np.array([10, 20, 30, 40, 50])\n",
        "print(\"Original Array:\", arr)"
      ],
      "metadata": {
        "colab": {
          "base_uri": "https://localhost:8080/"
        },
        "id": "xq7skWtHL_9W",
        "outputId": "cd4ee3c0-e8c1-4bc4-8e44-c084bcc9348a"
      },
      "execution_count": null,
      "outputs": [
        {
          "output_type": "stream",
          "name": "stdout",
          "text": [
            "Original Array: [10 20 30 40 50]\n"
          ]
        }
      ]
    },
    {
      "cell_type": "code",
      "source": [
        "# Accessing elements\n",
        "print(\"First Element:\", arr[0])\n",
        "print(\"Last Element:\", arr[-1])"
      ],
      "metadata": {
        "colab": {
          "base_uri": "https://localhost:8080/"
        },
        "id": "ROnJHZFFMBTO",
        "outputId": "660f30cf-1c6d-4289-c817-3210fdcb6380"
      },
      "execution_count": null,
      "outputs": [
        {
          "output_type": "stream",
          "name": "stdout",
          "text": [
            "First Element: 10\n",
            "Last Element: 50\n"
          ]
        }
      ]
    },
    {
      "cell_type": "code",
      "source": [
        "# Slicing\n",
        "print(\"First 3 Elements:\", arr[1:3])\n",
        "print(\"Last 2 Elements:\", arr[-2:])"
      ],
      "metadata": {
        "id": "cMgsmXKxi99q",
        "colab": {
          "base_uri": "https://localhost:8080/"
        },
        "outputId": "16d894ea-c47b-4458-ebcf-3c442e195356"
      },
      "execution_count": null,
      "outputs": [
        {
          "output_type": "stream",
          "name": "stdout",
          "text": [
            "First 3 Elements: [20 30]\n",
            "Last 2 Elements: [40 50]\n"
          ]
        }
      ]
    },
    {
      "cell_type": "code",
      "source": [
        "arr = np.array([[10, 25],\n",
        "                [15, 40],\n",
        "                [50, 60]])\n",
        "arr[0][0] = 20"
      ],
      "metadata": {
        "id": "XmmD1rR0MgWX"
      },
      "execution_count": null,
      "outputs": []
    },
    {
      "cell_type": "code",
      "source": [
        "arr"
      ],
      "metadata": {
        "colab": {
          "base_uri": "https://localhost:8080/"
        },
        "id": "MpfSgLPLNE2E",
        "outputId": "3e4305d8-b59e-4273-e06a-5c11cf0d540e"
      },
      "execution_count": null,
      "outputs": [
        {
          "output_type": "execute_result",
          "data": {
            "text/plain": [
              "array([[20, 25],\n",
              "       [15, 40],\n",
              "       [50, 60]])"
            ]
          },
          "metadata": {},
          "execution_count": 120
        }
      ]
    },
    {
      "cell_type": "markdown",
      "source": [
        "### Advanced Indexing"
      ],
      "metadata": {
        "id": "BH4vl747wKC-"
      }
    },
    {
      "cell_type": "code",
      "source": [
        "arr = np.array([[10, 25],\n",
        "                [15, 40],\n",
        "                [50, 60]])\n",
        "\n",
        "print(arr.ndim)\n",
        "print(arr.shape)\n",
        "\n",
        "print(\"Specific Elements: \", arr[-1])"
      ],
      "metadata": {
        "colab": {
          "base_uri": "https://localhost:8080/"
        },
        "id": "vRAJfpB9NNjd",
        "outputId": "dcc7e895-1fbd-4523-9ecc-bc9a8b6dea1b"
      },
      "execution_count": null,
      "outputs": [
        {
          "output_type": "stream",
          "name": "stdout",
          "text": [
            "2\n",
            "(3, 2)\n",
            "Specific Elements:  [50 60]\n"
          ]
        }
      ]
    },
    {
      "cell_type": "code",
      "source": [
        "arr"
      ],
      "metadata": {
        "colab": {
          "base_uri": "https://localhost:8080/"
        },
        "id": "bf4EKy9hNSrE",
        "outputId": "b602b600-bf08-4fdb-a23a-ec76329c0c39"
      },
      "execution_count": null,
      "outputs": [
        {
          "output_type": "execute_result",
          "data": {
            "text/plain": [
              "array([[10, 25],\n",
              "       [15, 40],\n",
              "       [50, 60]])"
            ]
          },
          "metadata": {},
          "execution_count": 122
        }
      ]
    },
    {
      "cell_type": "code",
      "source": [
        "print(\"Boolean Masking:\\n\", arr > 20)"
      ],
      "metadata": {
        "colab": {
          "base_uri": "https://localhost:8080/"
        },
        "id": "mFUoIoGANQpX",
        "outputId": "9839b045-2d46-407b-f0ed-f12fbc759862"
      },
      "execution_count": null,
      "outputs": [
        {
          "output_type": "stream",
          "name": "stdout",
          "text": [
            "Boolean Masking:\n",
            " [[False  True]\n",
            " [False  True]\n",
            " [ True  True]]\n"
          ]
        }
      ]
    },
    {
      "cell_type": "code",
      "source": [
        "print(\"Boolean Masking Result:\", arr[True].shape)"
      ],
      "metadata": {
        "id": "E3xQDqYxwNBw",
        "colab": {
          "base_uri": "https://localhost:8080/"
        },
        "outputId": "4b1f63df-44e9-47ff-c8d8-84798656f61f"
      },
      "execution_count": null,
      "outputs": [
        {
          "output_type": "stream",
          "name": "stdout",
          "text": [
            "Boolean Masking Result: (1, 3, 2)\n"
          ]
        }
      ]
    },
    {
      "cell_type": "code",
      "source": [
        "for row in arr:\n",
        "  for element in row:\n",
        "    print(element, end=\" \")\n",
        "  print()"
      ],
      "metadata": {
        "colab": {
          "base_uri": "https://localhost:8080/"
        },
        "id": "u71mGeN8AIE9",
        "outputId": "510c8f1f-1b34-4685-ee70-9fb42a0a9025"
      },
      "execution_count": null,
      "outputs": [
        {
          "output_type": "stream",
          "name": "stdout",
          "text": [
            "10 25 \n",
            "15 40 \n",
            "50 60 \n"
          ]
        }
      ]
    },
    {
      "cell_type": "code",
      "source": [
        "arr > 20"
      ],
      "metadata": {
        "id": "tcMTQUtYze0T"
      },
      "execution_count": null,
      "outputs": []
    },
    {
      "cell_type": "markdown",
      "source": [
        "### Exercise\n",
        "1. Create a NumPy array of numbers from 1 to 10.\n",
        "2. Multiply every element by 3.\n",
        "3. Find the mean and maximum of the array."
      ],
      "metadata": {
        "id": "5UCSHf8ejKEB"
      }
    },
    {
      "cell_type": "markdown",
      "source": [
        "## numpy_continued"
      ],
      "metadata": {
        "id": "JDn1KGYr9fmC"
      }
    },
    {
      "cell_type": "code",
      "source": [
        "a = np.zeros((2,2))   # Create an array of all zeros\n",
        "print(a)              # Prints \"[[ 0.  0.]\n",
        "                      #          [ 0.  0.]]\""
      ],
      "metadata": {
        "colab": {
          "base_uri": "https://localhost:8080/"
        },
        "id": "kWyVg-j1E0p-",
        "outputId": "60b3f7d0-d2be-4293-af0e-0ae72ad7d7b7"
      },
      "execution_count": null,
      "outputs": [
        {
          "output_type": "stream",
          "name": "stdout",
          "text": [
            "[[0. 0.]\n",
            " [0. 0.]]\n"
          ]
        }
      ]
    },
    {
      "cell_type": "code",
      "source": [
        "b = np.ones((1,2))    # Create an array of all ones\n",
        "print(b)              # Prints \"[[ 1.  1.]]\""
      ],
      "metadata": {
        "colab": {
          "base_uri": "https://localhost:8080/"
        },
        "id": "cnrJ1B1GE82n",
        "outputId": "a65ac5f3-b597-4cc6-f5ab-5f66844c2983"
      },
      "execution_count": null,
      "outputs": [
        {
          "output_type": "stream",
          "name": "stdout",
          "text": [
            "[[1. 1.]]\n"
          ]
        }
      ]
    },
    {
      "cell_type": "code",
      "source": [
        "c = np.full((2,2), 7)  # Create a constant array\n",
        "print(c)               # Prints \"[[ 7.  7.]\n",
        "                       #          [ 7.  7.]]\""
      ],
      "metadata": {
        "colab": {
          "base_uri": "https://localhost:8080/"
        },
        "id": "nYtBYvgZFCp1",
        "outputId": "8a5b5acb-7d69-45c0-c09b-80d409289de7"
      },
      "execution_count": null,
      "outputs": [
        {
          "output_type": "stream",
          "name": "stdout",
          "text": [
            "[[7 7]\n",
            " [7 7]]\n"
          ]
        }
      ]
    },
    {
      "cell_type": "code",
      "source": [
        "d = np.eye(2)         # Create a 2x2 identity matrix\n",
        "print(d)              # Prints \"[[ 1.  0.]\n",
        "                      #          [ 0.  1.]]\""
      ],
      "metadata": {
        "colab": {
          "base_uri": "https://localhost:8080/"
        },
        "id": "TkM6UhPmFI9b",
        "outputId": "156dbcc8-a234-49c7-f4c7-a116e54973b5"
      },
      "execution_count": null,
      "outputs": [
        {
          "output_type": "stream",
          "name": "stdout",
          "text": [
            "[[1. 0.]\n",
            " [0. 1.]]\n"
          ]
        }
      ]
    },
    {
      "cell_type": "code",
      "source": [
        "e = np.random.random((2,2))  # Create an array filled with random values\n",
        "print(e)                     # Might print \"[[ 0.91940167  0.08143941]\n",
        "                             #               [ 0.68744134  0.87236687]]\""
      ],
      "metadata": {
        "colab": {
          "base_uri": "https://localhost:8080/"
        },
        "id": "mfQ3ztqr9fKB",
        "outputId": "a9d61b4b-d3bb-40b7-af25-f97e5a7b8fce"
      },
      "execution_count": null,
      "outputs": [
        {
          "output_type": "stream",
          "name": "stdout",
          "text": [
            "[[0.9726669  0.74282692]\n",
            " [0.04831467 0.85364121]]\n"
          ]
        }
      ]
    },
    {
      "cell_type": "code",
      "source": [
        "np.random.randint(10, size=(2, 4))"
      ],
      "metadata": {
        "colab": {
          "base_uri": "https://localhost:8080/"
        },
        "id": "0xu3LRfmFtPq",
        "outputId": "bb0816d0-7344-4a78-a169-c66f1f4085eb"
      },
      "execution_count": null,
      "outputs": [
        {
          "output_type": "execute_result",
          "data": {
            "text/plain": [
              "array([[5, 3, 6, 0],\n",
              "       [0, 2, 5, 7]])"
            ]
          },
          "metadata": {},
          "execution_count": 26
        }
      ]
    },
    {
      "cell_type": "code",
      "source": [
        "# Create the following rank 2 array with shape (3, 4)\n",
        "# [[ 1  2  3  4]\n",
        "#  [ 5  6  7  8]\n",
        "#  [ 9 10 11 12]]\n",
        "a = np.array([[1,2,3,4], [5,6,7,8], [9,10,11,12]])"
      ],
      "metadata": {
        "id": "X5TJBFf2F6tO"
      },
      "execution_count": null,
      "outputs": []
    },
    {
      "cell_type": "code",
      "source": [
        "a"
      ],
      "metadata": {
        "colab": {
          "base_uri": "https://localhost:8080/"
        },
        "id": "7wxi82m_F7_O",
        "outputId": "7bf7ac06-dbdb-4358-97dd-0a96afd5249b"
      },
      "execution_count": null,
      "outputs": [
        {
          "output_type": "execute_result",
          "data": {
            "text/plain": [
              "array([[ 1,  2,  3,  4],\n",
              "       [ 5,  6,  7,  8],\n",
              "       [ 9, 10, 11, 12]])"
            ]
          },
          "metadata": {},
          "execution_count": 28
        }
      ]
    },
    {
      "cell_type": "code",
      "source": [
        "a[1]"
      ],
      "metadata": {
        "colab": {
          "base_uri": "https://localhost:8080/"
        },
        "id": "KAG2gnjdGFTr",
        "outputId": "162b1067-8661-48c7-de2d-5cb50dd65f6a"
      },
      "execution_count": null,
      "outputs": [
        {
          "output_type": "execute_result",
          "data": {
            "text/plain": [
              "array([5, 6, 7, 8])"
            ]
          },
          "metadata": {},
          "execution_count": 29
        }
      ]
    },
    {
      "cell_type": "code",
      "source": [
        "a[1:3]"
      ],
      "metadata": {
        "colab": {
          "base_uri": "https://localhost:8080/"
        },
        "id": "nMo2AHeAGM_O",
        "outputId": "6ca9679f-5964-4a5b-a509-4cabc3253bbb"
      },
      "execution_count": null,
      "outputs": [
        {
          "output_type": "execute_result",
          "data": {
            "text/plain": [
              "array([[ 5,  6,  7,  8],\n",
              "       [ 9, 10, 11, 12]])"
            ]
          },
          "metadata": {},
          "execution_count": 31
        }
      ]
    },
    {
      "cell_type": "code",
      "source": [
        "# Accessing the data in the middle row of the array.\n",
        "row_r1 = a[1, :]    # Rank 1 view of the second row of a\n",
        "row_r2 = a[1:2, :]  # Rank 2 view of the second row of a\n",
        "print(row_r1, row_r1.shape)  # Prints \"[5 6 7 8] (4,)\"\n",
        "print(row_r2, row_r2.shape)  # Prints \"[[5 6 7 8]] (1, 4)\""
      ],
      "metadata": {
        "colab": {
          "base_uri": "https://localhost:8080/"
        },
        "id": "K84MjKoHF_gO",
        "outputId": "cd36e2b0-dbd3-48f9-de2c-d95f4540347e"
      },
      "execution_count": null,
      "outputs": [
        {
          "output_type": "stream",
          "name": "stdout",
          "text": [
            "[5 6 7 8] (4,)\n",
            "[[5 6 7 8]] (1, 4)\n"
          ]
        }
      ]
    },
    {
      "cell_type": "code",
      "source": [
        "a[:, 1:3]"
      ],
      "metadata": {
        "colab": {
          "base_uri": "https://localhost:8080/"
        },
        "id": "sBqfcZawGojf",
        "outputId": "375606fd-7b94-44b6-fd71-bfc711a5c3b2"
      },
      "execution_count": null,
      "outputs": [
        {
          "output_type": "execute_result",
          "data": {
            "text/plain": [
              "array([[ 2,  3],\n",
              "       [ 6,  7],\n",
              "       [10, 11]])"
            ]
          },
          "metadata": {},
          "execution_count": 35
        }
      ]
    },
    {
      "cell_type": "code",
      "source": [
        "# We can make the same distinction when accessing columns of an array:\n",
        "col_r1 = a[:, 1]\n",
        "col_r2 = a[:, 1:2]\n",
        "print(col_r1, col_r1.shape)  # Prints \"[ 2  6 10] (3,)\"\n",
        "print(col_r2, col_r2.shape)  # Prints \"[[ 2]\n",
        "                             #          [ 6]\n",
        "                             #          [10]] (3, 1)\""
      ],
      "metadata": {
        "id": "cVPGvOBL92Li",
        "colab": {
          "base_uri": "https://localhost:8080/"
        },
        "outputId": "d7a5d8f8-5d3b-49d6-c2f5-99e0b84740e3"
      },
      "execution_count": null,
      "outputs": [
        {
          "output_type": "stream",
          "name": "stdout",
          "text": [
            "[ 2  6 10] (3,)\n",
            "[[ 2]\n",
            " [ 6]\n",
            " [10]] (3, 1)\n"
          ]
        }
      ]
    },
    {
      "cell_type": "code",
      "source": [
        "nums = np.arange(1, 11)\n",
        "nums*3"
      ],
      "metadata": {
        "colab": {
          "base_uri": "https://localhost:8080/"
        },
        "id": "vH9CmW2AHn5Z",
        "outputId": "dee75129-e47b-4bbb-a259-18b58d7c3020"
      },
      "execution_count": null,
      "outputs": [
        {
          "output_type": "execute_result",
          "data": {
            "text/plain": [
              "array([ 3,  6,  9, 12, 15, 18, 21, 24, 27, 30])"
            ]
          },
          "metadata": {},
          "execution_count": 38
        }
      ]
    },
    {
      "cell_type": "code",
      "source": [
        "nums = nums*3"
      ],
      "metadata": {
        "id": "dOGVgmriIMqU"
      },
      "execution_count": null,
      "outputs": []
    },
    {
      "cell_type": "code",
      "source": [
        "nums"
      ],
      "metadata": {
        "colab": {
          "base_uri": "https://localhost:8080/"
        },
        "id": "-NwcWnCJIWVu",
        "outputId": "ba277c91-868d-45bf-8724-128aab82ebe1"
      },
      "execution_count": null,
      "outputs": [
        {
          "output_type": "execute_result",
          "data": {
            "text/plain": [
              "array([ 3,  6,  9, 12, 15, 18, 21, 24, 27, 30])"
            ]
          },
          "metadata": {},
          "execution_count": 41
        }
      ]
    },
    {
      "cell_type": "code",
      "source": [
        "nums = np.arange(1, 11)\n",
        "\n",
        "mult_nums = nums * 3\n",
        "\n",
        "print(mult_nums.mean())\n",
        "print(mult_nums.max())"
      ],
      "metadata": {
        "id": "9LGLEne7jfNf",
        "colab": {
          "base_uri": "https://localhost:8080/"
        },
        "outputId": "b5d50590-93c2-4f8a-9767-e064920deb41"
      },
      "execution_count": null,
      "outputs": [
        {
          "output_type": "stream",
          "name": "stdout",
          "text": [
            "16.5\n",
            "30\n"
          ]
        }
      ]
    },
    {
      "cell_type": "code",
      "source": [
        "nums = np.arange(1, 11).reshape(2, 5)\n",
        "nums.shape, nums"
      ],
      "metadata": {
        "colab": {
          "base_uri": "https://localhost:8080/"
        },
        "id": "aWZyB0lLLOkd",
        "outputId": "f5009005-afa5-4e30-f7a6-d5b789fbfcd5"
      },
      "execution_count": null,
      "outputs": [
        {
          "output_type": "execute_result",
          "data": {
            "text/plain": [
              "((2, 5),\n",
              " array([[ 1,  2,  3,  4,  5],\n",
              "        [ 6,  7,  8,  9, 10]]))"
            ]
          },
          "metadata": {},
          "execution_count": 44
        }
      ]
    },
    {
      "cell_type": "code",
      "source": [
        "np.sum(nums, axis=0)"
      ],
      "metadata": {
        "colab": {
          "base_uri": "https://localhost:8080/"
        },
        "id": "dBIcMltELSdV",
        "outputId": "e7122415-2df3-4414-b346-b67c8619d5b3"
      },
      "execution_count": null,
      "outputs": [
        {
          "output_type": "execute_result",
          "data": {
            "text/plain": [
              "array([ 7,  9, 11, 13, 15])"
            ]
          },
          "metadata": {},
          "execution_count": 46
        }
      ]
    },
    {
      "cell_type": "markdown",
      "source": [
        "### Iterating Over Arrays\n",
        "You can iterate over an ndarray using Python loops. For multidimensional arrays:\n",
        "1. Iterate row by row.\n",
        "2. Use `nditer` for element-wise iteration."
      ],
      "metadata": {
        "id": "cZP2NWpiw0ep"
      }
    },
    {
      "cell_type": "code",
      "source": [
        "arr = np.array([[1, 2, 3], [4, 5, 6]])\n",
        "\n",
        "# Row-wise iteration\n",
        "for row in arr:\n",
        "    print(\"Row:\", row)\n",
        "\n",
        "# Element-wise iteration\n",
        "for element in np.nditer(arr):\n",
        "    print(\"Element:\", element)"
      ],
      "metadata": {
        "id": "nhEmrQb2w0PA",
        "colab": {
          "base_uri": "https://localhost:8080/"
        },
        "outputId": "8c5586ed-b780-4f06-8294-d0eeac505f28"
      },
      "execution_count": null,
      "outputs": [
        {
          "output_type": "stream",
          "name": "stdout",
          "text": [
            "Row: [1 2 3]\n",
            "Row: [4 5 6]\n",
            "Element: 1\n",
            "Element: 2\n",
            "Element: 3\n",
            "Element: 4\n",
            "Element: 5\n",
            "Element: 6\n"
          ]
        }
      ]
    },
    {
      "cell_type": "markdown",
      "source": [
        "### Linear Algebra\n",
        "NumPy provides linear algebra functions like dot products, matrix multiplication, and determinants."
      ],
      "metadata": {
        "id": "5_G1fN8axXWT"
      }
    },
    {
      "cell_type": "markdown",
      "source": [
        "![Determinant](data:image/png;base64,iVBORw0KGgoAAAANSUhEUgAAAQIAAADDCAMAAABeUu/HAAAB5lBMVEX////8/PwzMzOkpKTQ0NCurq7Dw8Ps7Oz///6enp7IyMhpaWmFhYXo6OhiYmJVVVWWlpYAAAAAUgD8//8ASQD///r4+Pji7efh4eHQ39cAUADa493//P729vZaWloAYSgveU9kmHsAZjGmxLPs9PD///ZMTEzW1taNsp22zcASbz9ynoSDq5QAZS5CflkAWhcAXB03gVnx//+Mu1bU89RSjWvG2M6bvKm3t7cAQgBZkHCzy72kwK+86ef/++UpKSnq+uqC4YK3xHWt6N4ic0ZtooVHi2YALgBcjm8AOADI3rLb8u3f5sOn18ObzJaazaOQuxbF9P9qtT3y7sEdoTQqoAypxEeF19R3uS2KzJN1u15Vt3RmxKHI251TsVRcvIWu0Y1Ps2GB0bSv7fff57NQpwBhs2Ly568AqV680HIOrnOAsCk0nimNuUz/99h6x5rT2IJs1sXX2JVbwKN7wXlszK8yq0kAs4mT4uKwwi22ylnc4Id01dHA0GZNx58sqjoQqme4472zlXaFr8xdPEYAmRRzXV6Ed2ClyeN8UC1TfqbYvJgAEWBmTStbV22yoYCjflRuSjrG3+iCkqFO2U6g6aBo3Wgw0y+V5JVSR3K777zKq5obGzOJl7lsu4V0cJKVxm2z1LJsPdmPAAARwElEQVR4nO2djWPTRn/H7yAQFUhLfZEVx0ptJxLIlu04bmzTJDZ5IMuyOrwkaUJJSWhIeChvoaSFso6HlHbdw55tz7bnKQ+sz9at/+l+d5IdSZZsJeAYm/u2EOV0Ot199LvfvehOIMTFxcW1nzp8yNDBk43jnqrE7Wt+vvZR7/QY6htoHLenEvdQ8/O1jzq4l4s4AswRvCUIxvPe17wlCJIF72s6E4Gkx4Zs4VoyqYftUSdmkkF20JkIEhOhhM30tUh8IqJYQwrR0FiMHXUmAknKR21moGkIjdigpEJIGWdHHYkgODKi5ewIwBfMxK0hAagXmB11JIJ8AqHouDVcyyGSkqwh0Qk0NM2OOhJBMBGdGksELeFaYiqVtMUMpUYiIXbUkQgQAStXBNsZRXHGlYjxszMR7EocAUfAESCOAHEEiCNAHAFqUwShXNzjzA6C2q6QU4o5em5LBHr/iMeZHQSFpEeUipTEmHHQjghIQA9I7qcqCJTgkAOB4pxWDyXauIM8nlISHs/YRKANjkzZYgSnownNFpPkIn9jHLUjgrSO9EHjMMm0UzgDgZRS0JgNgaYjErFbjjRlHrQhAmk4rsQDxhRQjEmvnjMQDEEtn7AhmI5OT6fss8jtjEDLpDKpiO56zkAQT9MJU2t4TlOUcXsb0cYIyFRSURRtkBUozZSrTg0YCJTIRD5jQxBPhIbs06conDAP2g9BvpfWaamXdQ2GmHbmyCrTpzE9bzf7eE53dBSUCfOg/RAkc+xHzrUmvDW9Q29xBBwBR4A4AsQRII4AcQSII0DeCOJDNUGSOVZ+WxBotfMLSmXtTWcikPRk3DZGKMS0mGPFVWcjwAktPmx77oXI+FDKPnXWxiPFujKXWNTMFxRiCDlmjTobwfiYcwaZ/pZ6mxCEBwlK22ZL3zoESEslRmwINB2hYQeClHnQkQiUOEL6RIOoVXUkApyIxaYavlCrqCMRoGA+FKwf0aLORLA7dRaCdwZA3fC/DyOg8Vj0zkJw6h1Dx7saxz1UietjKxcXFxcXFxcXFxcXF9frl/dgpMfH9xY6Qt5D+SM9+5iNVooj4Ag4AsQRII4AcQTIgSBkfbnlG0G+8nokGLKfkOJKiJ0jzk1LUuVGxFioPBCq7klyxsyH63zzBcVZ+jgUxCHcIJtxrwhWBOHAlOU3vwikjLmVBoX+lthORDKhQaOIMcd3W2KV5TSa8dWOfABpKeQimkbKY7sPvWOClUvpl6R+71iGdK9tUVYEycSwhbhfBOnqa0Jiz0UogFDCeP7SsP1Fmm6u1q6E54eR4lqEUICgQtrz3uZ3QYLDkvMOtVIa7ZyiCQ3GpywLyRshCM1Ec+M0k0Gwn1haV5AUs90yHYlJU4XYiA62MW3fgqTHtGgMLD9Jt6NpOX0ig+L2h0S0tB7XlBykoQQqdUSqxonnpuCGIbqZIT4zM5SRpMxQLu2wNSWZput4WFJw5Zj7fhErgniAFFI773scCLqNr69Vfw9m9JAGmdPS9GHq8dwgCX9kvWAgmRlSohltPKXTL9XYEcAF03CvKGRazwxpkRQqJGwxYqmJ5PAUommgRKVooV7zIN+fzCdm2A6AeCA5lKBWkBgqBGw+h6RH4slACOmRiWQGUh8fbIgAKCn9O4k4EBx4n6m7WkKN7jOJoxkooA5ZIZF4uJftQyHEcDxQEQjdkaZB8fPG5pPKKT1NLx7HkEGF7mdKZlDB8EPYiCH1g2vVp1hlQrq5dRGclXkwAiH5aTQCqVPDDfWCL4BkzAUcGDOfFB+GH7kYu4EOCELD7jXBspF0OK3HImPV3xtYARhgIpLJozRkI52IRkcCmoEgGOj9aLyCIDFuWIB5ezjFcslcU7oQ7A2jUP8A8wUGgvDf9X5E25U8Ley4iSDJnIEyNgPVYobVhYxhF3SHH31oA2AFtKbn2MnkR70Z+lOLRKPRwalwANMtQIA14GixahAUBjWtoAeqXsWBoOvwkSNHDh+ptixxKLI0GDcQ6OFwOKSYVgDHShVB3ESQkaynqDsk0QkDAa3PFQQYYtBbhPppGSoI2I6XoKbpmYLGHGBmgjXBDME483QSZZxjfBVIgyGYCjP1Q4K0mkkNrSBBvYWSqfr3BhWBmncIrI+WBiwWKYN5E0FFVgTxQZvD1hNBuDgMlQeMj37cKFKpCKYkqNZkKmogGKu42WpFyE3T9ou1rSPAZ6jfiqD6kCjcXFIZBkhRQJDPuDcaVQT5XmYmuarPaNAihALp6UQiCoWjG40TeiYHVmyLke8FBzFOP93DvmBkVSwSyQWAHTXrQu/YyOAwi2VRoX8E7NhwgJGKgwpV/K0Uiebg8Q8BtvBwdCYCVkC3h6XtrUpsWJ8CH8SSmqpxybUIpDyx/GiMAIW0eDBcIEoGrC44lASfM2DvxynwK+0dSsB20PZJJxSW8hqNPE7LndfiEFWyV1QSjkuFEZZkqPr0dm6gTBToF4JocykVJpRQMJjHNFl7FuPJCYV2V+LSRJR9Nqo+ghr57RppscZx8gn3cJLw6P0qiSH4Y9h1THOPA0p6NPX2pApIgZYpFPGI8BqGSYlGXVN4AO6+GJ7wlMeJwnAkY1QeyQMfVTDhY/nWhJGUj68rOOV/pCg0juIp4nXCHGG9DpH6SfHBMkfAESCOANVb4Nj1tiDg4uLi4uLi4uLi4uJ6ZfmcJhKckQW5CZnZTwmCWRpRxKJnJFlEIkFYJRCP0GgyEivvX0RRfJVJtpZL+LhcyX+QeD5OIuLZc1B2Ujp/vizQmUG8eSFrnsTEE1176MNi5ejiXJ2iiPNFAcsLnzz9eNG4YOlS9dGLn841MYPN14fFhcvLn5UR2Vy8QlZWP8tuXL46e3n53uerZxH9FQo6u7pWXFi8RgR0ex2hjbOl5dVzpetXs3C6LH6+em128YHw+eo9snH5Sem3WbnR2pg3Th8Wb3yRvXkJEbCChavKypUbt7I3bom3L22ulT7JbpyViXq9uPmFOF8WZPVOVoAC3j1bmi8vrW/eI1/e3/pKvV38dG7rCbl5f+ubrCoR1HbVAhA8QCuXIOMX526uff31ta37CEKW1kur2TMP72UJXviGVpLlrIjUO2UibD5dzaIzj5bWxZXL1x//PdgF+nRu6RFaeLJ1CWFRlNsWAS3m1ldo4dzWNRPBWuka2nqCxNLDLDz+5Sw0hN8+QOjb+x/OobvFpXU49w+Pf/cI3Sx+Wr75GG09AASCgHHbVYS7Z288QSv3oSIsXRXvbj8sUyt4QhE8zN5+uH1WENHW9vY5dZ42AOrd7cWrZOHO9hVycX3zzurX303Ob98iF6+U5rfXymfuI7jIu2l9QyVCcw8OTAYTZv/DbyKWMYGegCxDi0+7C7R2y7TtJxBRRnAO09/pVYIsUNPHGHoXAibQPorY823aGyqsCgJRIfNQCloAgfaQBEKLLlIQAi2YKAsEC7SHRAgSIAIWaLlFdgG9lsgioVWAohDarZ8EDw/J7Cfr8wpGz9cMgT8iPHR6ztohNs8J9O2pYP5n/CCo/QhwcXFxcXFxcXFxcXFx7Vn7MR3UDjNOe8uj76tagaDrANPpvvrRDh+iOnqq5kQ3O3HoYLfLRRYF6ccOgye9vq7RfcLIRYOvIfYdpPc6fqx+rN3q8LvdfT09PX0N8B86RnWgNotdp9mZYw6EznmTY6dpEd9/xyP57gMsE30NvjLSxW717tH6sXarw7tJ75gLgg+cIYIoiE63gZkV4OPeCHaRi653dxHZh14ZwXuOAIHOtXq8S6iDYBdO4MibjkBE4qTq8YL2jUUAlosFAfuY9vRlBUhcLiMiuk2j7hUBNmbmMXun3QwEMuRXptPjDeUPAVp+eqEskNeIAHCqdxefENQsBKKM1Mmsn8lvnwjuXn26WHR7o7JnBAjdfIy+LaqMazMqAl55uLyWfV0IBLpk4cv7gkuh9uwLRHRxHWqYLFKuzbACNJstXZ97PQioW2EIoH7VRN6zFYjod2AF6yqL1RQEK59dmK+3xKQiny3C3e/OPyy7LUDaMwKM1PnFrwTDYTWjURTni5OLftbK+EQQmvy1LLq1i3t3h4wnNn40wxeQha/vrZwzXhyK9VbQ+akIkF3AAPXBxar2hIC+xBVE4y0nM6wmICCm8/64jGaLdVcf+nOHoiirAn0vX6O9IICWkCBbYs2wAvrMsCBvfqauZt0eXlW+KoIodBMBBgSvqV9Q+jMpHc9aU2tKB5m+EYf2ZmW7KLr1aKryaQXf/6D+45/chgl7qgjfP/v+GRItzUvzxggy2fixvLOm1C5j6OcHAUj9p98/c01lTxVB/ec/2Ag0c5hUWpu95Tk7thsE6F/+1Vil4dTeEPzbHyBXFptqIoKbRbR11iMaRnRayCeC0h///QfXVPZUEf7j2fc/iE33BRbJ9ukfobKQMnhioD4CQWT9FgGL4u+fif/5J8OvUidjPMHj3XURAOU+2w0NDRwv/Rmpx7JW42w2gh6P+ZvggW5PBCfZZB42bB/68QPAI8hGtgJ06MA/0vyf7mmAoI/dWbb74+7TbBWcsE8VgakWwcuf6N/1EBxmeSIbdH02ZFagi9iwis31WhsXWKkONEJg3nnhqv1EkK1js9aTfUEwOroDffKnn2lJbAiYfzaiUASQJ1rIrWuIxgQGAjx6lmvas50vsvgOBPZVbCYCgkqjH9+rhhLmJOiKRlnYR1/Qc0BEv3n+/C/VgMmfntNBnw0BpmsODds0Ecil+e3lazWpC5hsLF5xswLihkDY3D5//QoNEDfuPCzCiMDNT+6DFUy+ePnyxWQ15C+TCIY8NgRZTBdgshKYCNDSJXS7FgGSZXV5Tqi1AqKesjb1lYrw7SO0xSpCabU8+0m2VQjI5IvJSXXnCQEC0VERMOo5edJ4eVJBcHHOqAh20UETDMOpvTisQP0vq9+zIFj4hQbc+OL8+QtZuUUIRPXFz6M7FYEhsFsBEclfjx49zI6rVvAI3T5XmzyMmObLrEWzIAAf+dej/330f4Tqjp6KL9j4bvQ2s4LNNVL6BU63yApE9fnzyZ2Qn1X62G1WIMp04wXLXMUdbi7+6OIL6FzX/JzssAJwAlj9I51krlQGEwF4jvOjDKR45sftImqVFbhstsJ2BPD0sCjb3KHXCnyBrWV3+gLoRqn/iwmRnVZAyysbG+Dgj9AqK3DfcWdvFIXqtjQTAdgF+MzaK6nXx9jRIkArJ1AzEojDCuDWBDMfIRIMnSTcqhbBVfW6Rr7y5Ldr5DzBEbQKwaQ1ZPI5/fstQyC8sIYIKq3jDRAIlRbCIeYdnL6gVpXeIXUSbCZTZHuEW9U1gtK8GLW0iqO/Ad/cGAEWicvLE9BsGVP/7gcBgQbEeF2i/koIHR20yAoE8cXLn3f6RoBAxI0QyEJ1jtup2bJLB9khE4GMVUlRaCrqapYNxFrUKMrqC2nyp2oIIMCkEQJR/b+188WasxTKSpGR8eULNld/e+crGqDOX14tolY1iqRUeoHsCJxjBIsq7vDmtdJ1l1k3KP2Zs8hljGBXBcHNx+hLhqB0vbjxTet8QWnTjuCls3dolWWYdOZRbfIGAt9TJjBM2nhAA0rL2dIt1LKKoKqjSBy1BsqNG8Xb62jJ0wp8I9i6NXmXIVCXs5tXW1YRXCJBRz94wHv6lLrDzTurd9ynn8+clf0iwOrKL5/fpwHgDjdvIdKyRrFGckME4PTQ0rrrHbCK/foCcWPt6TwDKahsKNYaBKdR7TgJWrXg6brTp+rm/Oo190ZRxqKvfkHfabrY41fzOyEy/bcAWjNSHHB8NpVuy4UeG8IHg95WcNTsBdYmL7A5ZXriRKP3CHBnYl4CVY8NyKFFOLH/COrKHQE0F40vxUG8p7dJLkm/gQj8a9cIXEPbE4FZlDd29al/7bsVuIoj4Ag6F8EuUnntCN7/APSev70ubggOnOwCnay/q6ihO2S5+ODdBtt7zFu+ZgQnj3UZRairHmMH04kjtfl5/4P3QA1sKXjq1KFTp04d9UIwYOSiq0F1eM/IhVcqr6j6N8d9TC5bh4K+HtyAsYHp0Cv+C8dGLviH7bm4uLj86f8BKy5K3ZPFmO4AAAAASUVORK5CYII=)"
      ],
      "metadata": {
        "id": "cy5MXEUaI8SU"
      }
    },
    {
      "cell_type": "code",
      "source": [
        "arr1 = np.array([[1, 2], [3, 4]], dtype=\"float64\")\n",
        "arr2 = np.array([[5, 6], [7, 8]], dtype=\"float64\")\n",
        "arr1, arr2"
      ],
      "metadata": {
        "colab": {
          "base_uri": "https://localhost:8080/"
        },
        "id": "dCSsxcXkNyyz",
        "outputId": "bb2a6260-81a6-4894-a46f-b8da3a48e2a8"
      },
      "execution_count": null,
      "outputs": [
        {
          "output_type": "execute_result",
          "data": {
            "text/plain": [
              "(array([[1., 2.],\n",
              "        [3., 4.]]),\n",
              " array([[5., 6.],\n",
              "        [7., 8.]]))"
            ]
          },
          "metadata": {},
          "execution_count": 53
        }
      ]
    },
    {
      "cell_type": "code",
      "source": [
        "print(\"Dot\\n\",np.dot(arr1, arr2))"
      ],
      "metadata": {
        "id": "iso4_SW5N9HS"
      },
      "execution_count": null,
      "outputs": []
    },
    {
      "cell_type": "code",
      "source": [
        "print(\"Transpose\\n\",arr1.T)"
      ],
      "metadata": {
        "colab": {
          "base_uri": "https://localhost:8080/"
        },
        "id": "IOBKIHwaOTEP",
        "outputId": "84bf3ff7-c80c-4e84-98d6-09da08e9fa7d"
      },
      "execution_count": null,
      "outputs": [
        {
          "output_type": "stream",
          "name": "stdout",
          "text": [
            "Transpose\n",
            " [[1. 3.]\n",
            " [2. 4.]]\n"
          ]
        }
      ]
    },
    {
      "cell_type": "code",
      "source": [
        "print(\"Determinant\", np.linalg.det(arr1))"
      ],
      "metadata": {
        "id": "fqy4aNIJstm7",
        "colab": {
          "base_uri": "https://localhost:8080/"
        },
        "outputId": "4aeaff41-9efb-46e2-e00f-ecf6c429c36f"
      },
      "execution_count": null,
      "outputs": [
        {
          "output_type": "stream",
          "name": "stdout",
          "text": [
            "Determinant -2.0000000000000004\n"
          ]
        }
      ]
    },
    {
      "cell_type": "code",
      "source": [
        "# Dot product\n",
        "arr1 = np.array([[1, 2], [3, 4]])\n",
        "arr2 = np.array([[5, 6], [7, 8]])\n",
        "print(\"Dot Product:\\n\", np.dot(arr1, arr2))\n",
        "\n",
        "# Transpose of a matrix\n",
        "print(\"Transpose:\\n\", arr1.T)\n",
        "\n",
        "# Determinant\n",
        "print(\"Determinant:\", np.linalg.det(arr1))"
      ],
      "metadata": {
        "id": "sSO4EwnYxZGo",
        "colab": {
          "base_uri": "https://localhost:8080/"
        },
        "outputId": "87b9eb66-311a-45bb-fb85-f9ac6d47217d"
      },
      "execution_count": null,
      "outputs": [
        {
          "output_type": "stream",
          "name": "stdout",
          "text": [
            "Dot Product:\n",
            " [[19 22]\n",
            " [43 50]]\n",
            "Transpose:\n",
            " [[1 3]\n",
            " [2 4]]\n",
            "Determinant: -2.0000000000000004\n"
          ]
        }
      ]
    },
    {
      "cell_type": "markdown",
      "source": [
        "### Sorting, Searching, and Counting\n",
        "NumPy provides functions to sort arrays, search for values, and count elements."
      ],
      "metadata": {
        "id": "N3WKKUEqxgjk"
      }
    },
    {
      "cell_type": "code",
      "source": [
        "arr = np.array([3, 1, 4, 1, 5, 9])\n",
        "\n",
        "print(\"arr:\", arr)\n",
        "\n",
        "# Sorting\n",
        "print(\"Sorted Array:\", np.sort(arr, axis=0))"
      ],
      "metadata": {
        "colab": {
          "base_uri": "https://localhost:8080/"
        },
        "id": "mYR0191OPCXZ",
        "outputId": "a59efd9b-6a2d-4e35-ce2a-1e3ebe83023b"
      },
      "execution_count": null,
      "outputs": [
        {
          "output_type": "stream",
          "name": "stdout",
          "text": [
            "arr: [3 1 4 1 5 9]\n",
            "Sorted Array: [1 1 3 4 5 9]\n"
          ]
        }
      ]
    },
    {
      "cell_type": "code",
      "source": [
        "# Searching\n",
        "print(\"Index of 1:\", np.where(arr == 1))"
      ],
      "metadata": {
        "colab": {
          "base_uri": "https://localhost:8080/"
        },
        "id": "tX6fhEuLPzhz",
        "outputId": "c59beae6-228a-4cd3-f575-04df76b5fd91"
      },
      "execution_count": null,
      "outputs": [
        {
          "output_type": "stream",
          "name": "stdout",
          "text": [
            "Index of 1: (array([1, 3]),)\n"
          ]
        }
      ]
    },
    {
      "cell_type": "code",
      "source": [
        "# Counting\n",
        "print(\"Count of 1s:\", np.count_nonzero(arr == 1))"
      ],
      "metadata": {
        "id": "B112ZFpxxgT9",
        "colab": {
          "base_uri": "https://localhost:8080/"
        },
        "outputId": "da37a76a-3528-4e82-ebb2-7fef06401749"
      },
      "execution_count": null,
      "outputs": [
        {
          "output_type": "stream",
          "name": "stdout",
          "text": [
            "Count of 1s: 2\n"
          ]
        }
      ]
    },
    {
      "cell_type": "code",
      "source": [
        "arr == 1"
      ],
      "metadata": {
        "id": "1wnEMBEj1Zjl",
        "colab": {
          "base_uri": "https://localhost:8080/"
        },
        "outputId": "3c90f3a3-22df-4531-f201-cfe3bf9e2f6e"
      },
      "execution_count": null,
      "outputs": [
        {
          "output_type": "execute_result",
          "data": {
            "text/plain": [
              "array([False,  True, False,  True, False, False])"
            ]
          },
          "metadata": {},
          "execution_count": 64
        }
      ]
    },
    {
      "cell_type": "markdown",
      "source": [
        "### Exercise\n",
        "1. Create a 2D NumPy array of random integers between 1 and 50.\n",
        "2. Perform the following:\n",
        "   - Find the mean of all elements.\n",
        "   - Transpose the array.\n",
        "   - Sort the array along rows.\n",
        "   - Extract all elements greater than 25.\n",
        "3. Perform matrix multiplication between the original and transposed array.\n"
      ],
      "metadata": {
        "id": "QX00FvH-xoHk"
      }
    },
    {
      "cell_type": "code",
      "source": [
        "rand_arr = np.random.randint(1, 51, size=(3,3))\n",
        "\n",
        "print(\"Random Array\\n\", rand_arr)\n",
        "print(\"Mean\", rand_arr.mean())\n",
        "print(\"Transpose\\n\", rand_arr.T)\n",
        "print(\"Sorted along Rows\\n\", np.sort(rand_arr, axis=1))\n",
        "print(\"Elements greater than 25\\n\", rand_arr[rand_arr > 25])"
      ],
      "metadata": {
        "id": "atBzN7hhuk9y",
        "colab": {
          "base_uri": "https://localhost:8080/"
        },
        "outputId": "7dc12a3f-51b5-42bf-ebce-9f1cf5bf3402"
      },
      "execution_count": null,
      "outputs": [
        {
          "output_type": "stream",
          "name": "stdout",
          "text": [
            "Random Array\n",
            " [[38 16 20]\n",
            " [30 12 27]\n",
            " [44 30 32]]\n",
            "Mean 27.666666666666668\n",
            "Transpose\n",
            " [[38 30 44]\n",
            " [16 12 30]\n",
            " [20 27 32]]\n",
            "Sorted along Rows\n",
            " [[16 20 38]\n",
            " [12 27 30]\n",
            " [30 32 44]]\n",
            "Elements greater than 25\n",
            " [38 30 27 44 30 32]\n"
          ]
        }
      ]
    },
    {
      "cell_type": "markdown",
      "source": [
        "### broadcasting"
      ],
      "metadata": {
        "id": "QU6FwxKFWaa7"
      }
    },
    {
      "cell_type": "code",
      "source": [
        "x = np.array([[1,2,3], [4,5,6], [7,8,9], [10, 11, 12]])\n",
        "y = np.empty_like(x)\n",
        "y, y.shape"
      ],
      "metadata": {
        "colab": {
          "base_uri": "https://localhost:8080/"
        },
        "id": "gRS8DwU5WiWU",
        "outputId": "9673aa50-8524-4e83-a97a-1e49267e3bac"
      },
      "execution_count": null,
      "outputs": [
        {
          "output_type": "execute_result",
          "data": {
            "text/plain": [
              "(array([[95000625245096,              0,              0],\n",
              "        [             0,              0,              0],\n",
              "        [             0,              0,              0],\n",
              "        [             0,              0,              0]]),\n",
              " (4, 3))"
            ]
          },
          "metadata": {},
          "execution_count": 78
        }
      ]
    },
    {
      "cell_type": "code",
      "source": [
        "v = np.array([1, 0, 1])\n",
        "v"
      ],
      "metadata": {
        "colab": {
          "base_uri": "https://localhost:8080/"
        },
        "id": "cEfCfm35W-yo",
        "outputId": "577858d0-ff9e-436a-f416-b3bbeb083e1c"
      },
      "execution_count": null,
      "outputs": [
        {
          "output_type": "execute_result",
          "data": {
            "text/plain": [
              "array([1, 0, 1])"
            ]
          },
          "metadata": {},
          "execution_count": 79
        }
      ]
    },
    {
      "cell_type": "code",
      "source": [
        "x.shape[0]"
      ],
      "metadata": {
        "colab": {
          "base_uri": "https://localhost:8080/"
        },
        "id": "sjIEd3zDX_P1",
        "outputId": "e4b3ed35-e77a-4a48-e172-ce50f84aaf7b"
      },
      "execution_count": null,
      "outputs": [
        {
          "output_type": "execute_result",
          "data": {
            "text/plain": [
              "4"
            ]
          },
          "metadata": {},
          "execution_count": 77
        }
      ]
    },
    {
      "cell_type": "code",
      "source": [
        "for i in range(x.shape[0]):\n",
        "  y[i,:] = x[i,:]+v\n",
        "y"
      ],
      "metadata": {
        "colab": {
          "base_uri": "https://localhost:8080/"
        },
        "id": "paw4eG9KXYkz",
        "outputId": "fefc3c07-9f74-4b3a-abe3-1027ae1b4661"
      },
      "execution_count": null,
      "outputs": [
        {
          "output_type": "execute_result",
          "data": {
            "text/plain": [
              "array([[ 2,  2,  4],\n",
              "       [ 5,  5,  7],\n",
              "       [ 8,  8, 10],\n",
              "       [11, 11, 13]])"
            ]
          },
          "metadata": {},
          "execution_count": 80
        }
      ]
    },
    {
      "cell_type": "code",
      "source": [
        "x[0,:]"
      ],
      "metadata": {
        "colab": {
          "base_uri": "https://localhost:8080/"
        },
        "id": "K5shjL7sXtSc",
        "outputId": "1a0e5fcb-d2b3-415e-8dfd-f8116e265c44"
      },
      "execution_count": null,
      "outputs": [
        {
          "output_type": "execute_result",
          "data": {
            "text/plain": [
              "array([1, 2, 3])"
            ]
          },
          "metadata": {},
          "execution_count": 75
        }
      ]
    },
    {
      "cell_type": "code",
      "source": [
        "v_same_as_x = np.tile(v,(4,1))\n",
        "v_same_as_x"
      ],
      "metadata": {
        "colab": {
          "base_uri": "https://localhost:8080/"
        },
        "id": "sWINONibYmB7",
        "outputId": "2afbf5ae-82de-463e-baee-47b08835215d"
      },
      "execution_count": null,
      "outputs": [
        {
          "output_type": "execute_result",
          "data": {
            "text/plain": [
              "array([[1, 0, 1],\n",
              "       [1, 0, 1],\n",
              "       [1, 0, 1],\n",
              "       [1, 0, 1]])"
            ]
          },
          "metadata": {},
          "execution_count": 81
        }
      ]
    },
    {
      "cell_type": "code",
      "source": [
        "x+v_same_as_x"
      ],
      "metadata": {
        "colab": {
          "base_uri": "https://localhost:8080/"
        },
        "id": "Dwd36MQ5Zw8w",
        "outputId": "11dd6ca6-216e-463d-820a-0376be3a7f28"
      },
      "execution_count": null,
      "outputs": [
        {
          "output_type": "execute_result",
          "data": {
            "text/plain": [
              "array([[ 2,  2,  4],\n",
              "       [ 5,  5,  7],\n",
              "       [ 8,  8, 10],\n",
              "       [11, 11, 13]])"
            ]
          },
          "metadata": {},
          "execution_count": 83
        }
      ]
    },
    {
      "cell_type": "code",
      "source": [
        "x, v"
      ],
      "metadata": {
        "colab": {
          "base_uri": "https://localhost:8080/"
        },
        "id": "Da620uA3Z8b3",
        "outputId": "3f9ea50d-d42c-49c0-ead9-82ce70568333"
      },
      "execution_count": null,
      "outputs": [
        {
          "output_type": "execute_result",
          "data": {
            "text/plain": [
              "(array([[ 1,  2,  3],\n",
              "        [ 4,  5,  6],\n",
              "        [ 7,  8,  9],\n",
              "        [10, 11, 12]]),\n",
              " array([1, 0, 1]))"
            ]
          },
          "metadata": {},
          "execution_count": 84
        }
      ]
    },
    {
      "cell_type": "code",
      "source": [
        "x+v"
      ],
      "metadata": {
        "colab": {
          "base_uri": "https://localhost:8080/"
        },
        "id": "-r0AQihuZ-qo",
        "outputId": "e48f9ade-1850-404a-c3ed-5a0da3f13041"
      },
      "execution_count": null,
      "outputs": [
        {
          "output_type": "execute_result",
          "data": {
            "text/plain": [
              "array([[ 2,  2,  4],\n",
              "       [ 5,  5,  7],\n",
              "       [ 8,  8, 10],\n",
              "       [11, 11, 13]])"
            ]
          },
          "metadata": {},
          "execution_count": 85
        }
      ]
    },
    {
      "cell_type": "code",
      "source": [
        "x = np.array([[1,2,3], [4,5,6], [7,8,9], [10, 11, 12]])\n",
        "h = np.array([1, 2, 1, 2]).reshape(4,1)\n",
        "x, h"
      ],
      "metadata": {
        "colab": {
          "base_uri": "https://localhost:8080/"
        },
        "id": "tHBmwTiifasX",
        "outputId": "4b4601dc-dbe5-4ae0-8ce8-00c1f5cdd83e"
      },
      "execution_count": null,
      "outputs": [
        {
          "output_type": "execute_result",
          "data": {
            "text/plain": [
              "(array([[ 1,  2,  3],\n",
              "        [ 4,  5,  6],\n",
              "        [ 7,  8,  9],\n",
              "        [10, 11, 12]]),\n",
              " array([[1],\n",
              "        [2],\n",
              "        [1],\n",
              "        [2]]))"
            ]
          },
          "metadata": {},
          "execution_count": 90
        }
      ]
    },
    {
      "cell_type": "code",
      "source": [
        "x[:, 0:1]"
      ],
      "metadata": {
        "colab": {
          "base_uri": "https://localhost:8080/"
        },
        "id": "_iTqOG_eha2n",
        "outputId": "d3a7a90c-4464-4259-f98f-f781820223fd"
      },
      "execution_count": null,
      "outputs": [
        {
          "output_type": "execute_result",
          "data": {
            "text/plain": [
              "array([[ 1],\n",
              "       [ 4],\n",
              "       [ 7],\n",
              "       [10]])"
            ]
          },
          "metadata": {},
          "execution_count": 99
        }
      ]
    },
    {
      "cell_type": "code",
      "source": [
        "y = np.empty_like(x)\n",
        "y"
      ],
      "metadata": {
        "colab": {
          "base_uri": "https://localhost:8080/"
        },
        "id": "CZ5ZpnTNhRK5",
        "outputId": "fdf93f10-553d-450a-fa6d-317ca691416c"
      },
      "execution_count": null,
      "outputs": [
        {
          "output_type": "execute_result",
          "data": {
            "text/plain": [
              "array([[94996027900558,              0,              0],\n",
              "       [             0,              0,              0],\n",
              "       [             0,              0,              0],\n",
              "       [             0,              0,              0]])"
            ]
          },
          "metadata": {},
          "execution_count": 93
        }
      ]
    },
    {
      "cell_type": "code",
      "source": [
        "for i in range(x.shape[0]):\n",
        "  y[:, i:i+1] = x[:, i:i+1] + h\n",
        "y"
      ],
      "metadata": {
        "colab": {
          "base_uri": "https://localhost:8080/"
        },
        "id": "YtFHIZWchLkU",
        "outputId": "17c7cf23-f5fd-406e-fc04-63b7e865c4ad"
      },
      "execution_count": null,
      "outputs": [
        {
          "output_type": "execute_result",
          "data": {
            "text/plain": [
              "array([[ 2,  3,  4],\n",
              "       [ 6,  7,  8],\n",
              "       [ 8,  9, 10],\n",
              "       [12, 13, 14]])"
            ]
          },
          "metadata": {},
          "execution_count": 97
        }
      ]
    },
    {
      "cell_type": "code",
      "source": [
        "h, h.shape"
      ],
      "metadata": {
        "colab": {
          "base_uri": "https://localhost:8080/"
        },
        "id": "5f4qUwT9hZbR",
        "outputId": "a80d606a-3ca2-456b-b61e-b06309ff2868"
      },
      "execution_count": null,
      "outputs": [
        {
          "output_type": "execute_result",
          "data": {
            "text/plain": [
              "(array([[1],\n",
              "        [2],\n",
              "        [1],\n",
              "        [2]]),\n",
              " (4, 1))"
            ]
          },
          "metadata": {},
          "execution_count": 101
        }
      ]
    },
    {
      "cell_type": "code",
      "source": [
        "h_like_x = np.tile(h,(1,3))"
      ],
      "metadata": {
        "id": "pzPNIlloiGy8"
      },
      "execution_count": null,
      "outputs": []
    },
    {
      "cell_type": "code",
      "source": [
        "x + h_like_x"
      ],
      "metadata": {
        "colab": {
          "base_uri": "https://localhost:8080/"
        },
        "id": "_dSak-IpigrG",
        "outputId": "5246b167-c99d-49c9-ba7f-f13a15a99a61"
      },
      "execution_count": null,
      "outputs": [
        {
          "output_type": "execute_result",
          "data": {
            "text/plain": [
              "array([[ 2,  3,  4],\n",
              "       [ 6,  7,  8],\n",
              "       [ 8,  9, 10],\n",
              "       [12, 13, 14]])"
            ]
          },
          "metadata": {},
          "execution_count": 106
        }
      ]
    },
    {
      "cell_type": "code",
      "source": [
        "x+h"
      ],
      "metadata": {
        "colab": {
          "base_uri": "https://localhost:8080/"
        },
        "id": "JOBHEFg2gcT9",
        "outputId": "fcdd295a-a4ab-46d5-cb01-468a06733fd2"
      },
      "execution_count": null,
      "outputs": [
        {
          "output_type": "execute_result",
          "data": {
            "text/plain": [
              "array([[ 2,  3,  4],\n",
              "       [ 6,  7,  8],\n",
              "       [ 8,  9, 10],\n",
              "       [12, 13, 14]])"
            ]
          },
          "metadata": {},
          "execution_count": 92
        }
      ]
    },
    {
      "cell_type": "markdown",
      "source": [
        "## Task: NumPy Task: Analyzing a 2D Array\n",
        "\n",
        "- Create a 2D NumPy array of shape (4, 5) with random integers between 10 and 60.\n",
        "- Perform the following operations:\n",
        "  - Extract the first two rows.\n",
        "  - Extract all elements in the last column.\n",
        "  - Replace all elements greater than 30 with 0.\n",
        "  - Calculate the sum of all elements in the array after replacement.\n",
        "  - Find the mean of each row.\n",
        "  - Add another row\n",
        "- Print the result after each step"
      ],
      "metadata": {
        "id": "qj6vaaO-X2aY"
      }
    },
    {
      "cell_type": "markdown",
      "source": [
        "## Pandas\n",
        "\n",
        "### What is Pandas?\n",
        "- Pandas is a Python library used for data manipulation and analysis.\n",
        "- Core data structures:\n",
        "  - **Series**: A one-dimensional array with labels.\n",
        "  - **DataFrame**: A two-dimensional labeled table.\n",
        "- Key Features:\n",
        "  - Import/export data (CSV, Excel, JSON, SQL).\n",
        "  - Data cleaning, filtering, and transformation.\n",
        "  - Grouping and aggregation.\n",
        "  - High-performance operations on data."
      ],
      "metadata": {
        "id": "5a4ssrPOlH1p"
      }
    },
    {
      "cell_type": "markdown",
      "source": [
        "### Creating a Pandas DataFrame"
      ],
      "metadata": {
        "id": "BdkSsx6LlN9u"
      }
    },
    {
      "cell_type": "code",
      "source": [
        "import pandas as pd"
      ],
      "metadata": {
        "id": "skOpQI6TlREJ"
      },
      "execution_count": null,
      "outputs": []
    },
    {
      "cell_type": "code",
      "source": [
        "# Creating a DataFrame from a dictionary\n",
        "data = {\"Name\": [\"Alice\", \"Bob\", \"Charlie\"],\n",
        "        \"Age\": [25, 30, 35],\n",
        "        \"City\": [\"NY\", \"LA\", \"CHI\"]}"
      ],
      "metadata": {
        "id": "3K-WbcHocrdS"
      },
      "execution_count": null,
      "outputs": []
    },
    {
      "cell_type": "code",
      "source": [
        "data, type(data)"
      ],
      "metadata": {
        "colab": {
          "base_uri": "https://localhost:8080/"
        },
        "id": "OQ8R7ekdc6zv",
        "outputId": "9d475056-c60f-471a-a887-58675c4d4979"
      },
      "execution_count": null,
      "outputs": [
        {
          "output_type": "execute_result",
          "data": {
            "text/plain": [
              "({'Name': ['Alice', 'Bob', 'Charlie'],\n",
              "  'Age': [25, 30, 35],\n",
              "  'City': ['NY', 'LA', 'CHI']},\n",
              " dict)"
            ]
          },
          "metadata": {},
          "execution_count": 13
        }
      ]
    },
    {
      "cell_type": "code",
      "source": [
        "df = pd.DataFrame(data)\n",
        "print(\"DataFrame:\\n\", df)"
      ],
      "metadata": {
        "colab": {
          "base_uri": "https://localhost:8080/"
        },
        "id": "wAg2K4d8dCyO",
        "outputId": "228a679d-5430-4c0d-c0fb-cf3d72d4206c"
      },
      "execution_count": null,
      "outputs": [
        {
          "output_type": "stream",
          "name": "stdout",
          "text": [
            "DataFrame:\n",
            "       Name  Age City\n",
            "0    Alice   25   NY\n",
            "1      Bob   30   LA\n",
            "2  Charlie   35  CHI\n"
          ]
        }
      ]
    },
    {
      "cell_type": "code",
      "source": [
        "# Creating a DataFrame from a list of lists\n",
        "data = [[\"Alice\", 25, \"NY\", 80], [\"Bob\", 30, \"LA\", 90], [\"Charlie\", 35, \"CHI\",100], [\"Peter\", None , \"LA\", 10]]"
      ],
      "metadata": {
        "id": "d1KrMudndUZd"
      },
      "execution_count": null,
      "outputs": []
    },
    {
      "cell_type": "code",
      "source": [
        "data"
      ],
      "metadata": {
        "colab": {
          "base_uri": "https://localhost:8080/"
        },
        "id": "5TR9kkSjdYZV",
        "outputId": "96a71f77-288c-44e9-94ec-5cc619ab8972"
      },
      "execution_count": null,
      "outputs": [
        {
          "output_type": "execute_result",
          "data": {
            "text/plain": [
              "[['Alice', 25, 'NY', 80],\n",
              " ['Bob', 30, 'LA', 90],\n",
              " ['Charlie', 35, 'CHI', 100],\n",
              " ['Peter', None, 'LA', 10]]"
            ]
          },
          "metadata": {},
          "execution_count": 22
        }
      ]
    },
    {
      "cell_type": "code",
      "source": [
        "df = pd.DataFrame(data, columns=[\"Name\", \"Age\", \"City\", \"Mark\"])\n",
        "print(\"\\nDataFrame from List:\\n\", df)"
      ],
      "metadata": {
        "colab": {
          "base_uri": "https://localhost:8080/"
        },
        "id": "546JAo1MdVB3",
        "outputId": "bb14dc18-f7a3-42d8-ea85-dc2d43dfbc8d"
      },
      "execution_count": null,
      "outputs": [
        {
          "output_type": "stream",
          "name": "stdout",
          "text": [
            "\n",
            "DataFrame from List:\n",
            "       Name   Age City  Mark\n",
            "0    Alice  25.0   NY    80\n",
            "1      Bob  30.0   LA    90\n",
            "2  Charlie  35.0  CHI   100\n",
            "3    Peter   NaN   LA    10\n"
          ]
        }
      ]
    },
    {
      "cell_type": "code",
      "source": [
        "type(df)"
      ],
      "metadata": {
        "id": "84eYwV1YdyQn"
      },
      "execution_count": null,
      "outputs": []
    },
    {
      "cell_type": "code",
      "source": [
        "# Check the data types\n",
        "print(\"\\nData Types:\\n\", df.dtypes)"
      ],
      "metadata": {
        "id": "YwvZjKjZlNsB",
        "colab": {
          "base_uri": "https://localhost:8080/"
        },
        "outputId": "1fe85085-89e6-4f45-8859-c843ece559a2"
      },
      "execution_count": null,
      "outputs": [
        {
          "output_type": "stream",
          "name": "stdout",
          "text": [
            "\n",
            "Data Types:\n",
            " Name    object\n",
            "Age      int64\n",
            "City    object\n",
            "Mark     int64\n",
            "dtype: object\n"
          ]
        }
      ]
    },
    {
      "cell_type": "code",
      "source": [
        "# Pandas series | 1D\n",
        "data_series = pd.Series([5, 4, 3, 2, 1, 0], name=\"Count-down\", index=['A', 'B', 'C', 'D', 'E', 'F'])"
      ],
      "metadata": {
        "id": "P3Me2_UVayTQ"
      },
      "execution_count": null,
      "outputs": []
    },
    {
      "cell_type": "code",
      "source": [
        "data_series"
      ],
      "metadata": {
        "colab": {
          "base_uri": "https://localhost:8080/",
          "height": 272
        },
        "id": "KOACRvC5fEDs",
        "outputId": "5392dd9b-6c3f-48ce-b174-3cb2642ad294"
      },
      "execution_count": null,
      "outputs": [
        {
          "output_type": "execute_result",
          "data": {
            "text/plain": [
              "A    5\n",
              "B    4\n",
              "C    3\n",
              "D    2\n",
              "E    1\n",
              "F    0\n",
              "Name: Count-down, dtype: int64"
            ],
            "text/html": [
              "<div>\n",
              "<style scoped>\n",
              "    .dataframe tbody tr th:only-of-type {\n",
              "        vertical-align: middle;\n",
              "    }\n",
              "\n",
              "    .dataframe tbody tr th {\n",
              "        vertical-align: top;\n",
              "    }\n",
              "\n",
              "    .dataframe thead th {\n",
              "        text-align: right;\n",
              "    }\n",
              "</style>\n",
              "<table border=\"1\" class=\"dataframe\">\n",
              "  <thead>\n",
              "    <tr style=\"text-align: right;\">\n",
              "      <th></th>\n",
              "      <th>Count-down</th>\n",
              "    </tr>\n",
              "  </thead>\n",
              "  <tbody>\n",
              "    <tr>\n",
              "      <th>A</th>\n",
              "      <td>5</td>\n",
              "    </tr>\n",
              "    <tr>\n",
              "      <th>B</th>\n",
              "      <td>4</td>\n",
              "    </tr>\n",
              "    <tr>\n",
              "      <th>C</th>\n",
              "      <td>3</td>\n",
              "    </tr>\n",
              "    <tr>\n",
              "      <th>D</th>\n",
              "      <td>2</td>\n",
              "    </tr>\n",
              "    <tr>\n",
              "      <th>E</th>\n",
              "      <td>1</td>\n",
              "    </tr>\n",
              "    <tr>\n",
              "      <th>F</th>\n",
              "      <td>0</td>\n",
              "    </tr>\n",
              "  </tbody>\n",
              "</table>\n",
              "</div><br><label><b>dtype:</b> int64</label>"
            ]
          },
          "metadata": {},
          "execution_count": 31
        }
      ]
    },
    {
      "cell_type": "markdown",
      "source": [
        "### Dealing with Rows and Columns"
      ],
      "metadata": {
        "id": "r9bAsuhylSdK"
      }
    },
    {
      "cell_type": "code",
      "source": [
        "# Adding a new column\n",
        "df[\"Salary\"] = [50000, 60000, 70000]\n",
        "print(\"After Adding Column:\\n\", df)\n",
        "\n",
        "# Renaming a column\n",
        "df.rename(columns={\"Salary\": \"Income\"}, inplace=True)\n",
        "print(\"\\nAfter Renaming Column:\\n\", df)\n",
        "\n",
        "# Dropping a row\n",
        "df_dropped = df.drop(index=1)  # Drop row with index 1\n",
        "print(\"\\nAfter Dropping Row:\\n\", df_dropped)\n",
        "\n",
        "# Resetting the index\n",
        "df_reset = df_dropped.reset_index(drop=True)\n",
        "print(\"\\nAfter Resetting Index:\\n\", df_reset)"
      ],
      "metadata": {
        "id": "E-ug-y3wlK_b",
        "colab": {
          "base_uri": "https://localhost:8080/"
        },
        "outputId": "fde51a76-122d-42e8-a9a3-f963c6b3723d"
      },
      "execution_count": 9,
      "outputs": [
        {
          "output_type": "stream",
          "name": "stdout",
          "text": [
            "After Adding Column:\n",
            "       Name  Age City  Salary\n",
            "0    Alice   25   NY   50000\n",
            "1      Bob   30   LA   60000\n",
            "2  Charlie   35  CHI   70000\n",
            "\n",
            "After Renaming Column:\n",
            "       Name  Age City  Income\n",
            "0    Alice   25   NY   50000\n",
            "1      Bob   30   LA   60000\n",
            "2  Charlie   35  CHI   70000\n",
            "\n",
            "After Dropping Row:\n",
            "       Name  Age City  Income\n",
            "0    Alice   25   NY   50000\n",
            "2  Charlie   35  CHI   70000\n",
            "\n",
            "After Resetting Index:\n",
            "       Name  Age City  Income\n",
            "0    Alice   25   NY   50000\n",
            "1  Charlie   35  CHI   70000\n"
          ]
        }
      ]
    },
    {
      "cell_type": "markdown",
      "source": [
        "### Indexing and Selecting Data"
      ],
      "metadata": {
        "id": "x54QscyulV5d"
      }
    },
    {
      "cell_type": "code",
      "source": [
        "# Selecting multiple rows\n",
        "print(\"\\nSelecting Rows by Index:\\n\", df.iloc[:2])  # First two rows\n",
        "\n",
        "# Selecting rows with labels\n",
        "print(\"\\nSelecting Rows by Label:\\n\", df.loc[0:2])  # Rows with labels 0 to 1 [0,2]\n",
        "\n",
        "# Selecting rows and columns\n",
        "print(\"\\nSelecting Subset (Rows and Columns):\\n\", df.loc[0:1, [\"Name\", \"Age\"]])"
      ],
      "metadata": {
        "id": "H2NXSOLplVeD",
        "colab": {
          "base_uri": "https://localhost:8080/"
        },
        "outputId": "42553a59-2ed9-4c6a-fd50-f5f732dc4583"
      },
      "execution_count": null,
      "outputs": [
        {
          "output_type": "stream",
          "name": "stdout",
          "text": [
            "\n",
            "Selecting Rows by Index:\n",
            "     Name  Age City  Mark  Income\n",
            "0  Alice   25   NY    80   50000\n",
            "1    Bob   30   LA    90   60000\n",
            "\n",
            "Selecting Rows by Label:\n",
            "       Name  Age City  Mark  Income\n",
            "0    Alice   25   NY    80   50000\n",
            "1      Bob   30   LA    90   60000\n",
            "2  Charlie   35  CHI   100   70000\n",
            "\n",
            "Selecting Subset (Rows and Columns):\n",
            "     Name  Age\n",
            "0  Alice   25\n",
            "1    Bob   30\n"
          ]
        }
      ]
    },
    {
      "cell_type": "code",
      "source": [
        "data_A = {\n",
        "    \"A\": [1, 2, 3],\n",
        "    \"B\": [4, 5, 6],\n",
        "    \"C\": [7, 8, 9],\n",
        "}\n",
        "df = pd.DataFrame(data_A)\n",
        "\n",
        "# Get rows 0 to 1 and columns \"A\" and \"B\"\n",
        "print(\"Using loc with column names 'A', 'B': \\n\", df.loc[0:1, [\"A\", \"B\"]])\n",
        "\n",
        "print(\"Using loc with column names 'A' to 'C': \\n\", df.loc[0:1, \"A\": \"C\"])\n",
        "\n",
        "# Get rows 0 to 1 and first two columns by index\n",
        "print(\"Using loc with column index 0,1: \\n\", df.iloc[:2, 0:2])"
      ],
      "metadata": {
        "colab": {
          "base_uri": "https://localhost:8080/"
        },
        "id": "xi7nQpXU6gB_",
        "outputId": "1598e20c-4241-4d92-91c9-7a107b32d45c"
      },
      "execution_count": null,
      "outputs": [
        {
          "output_type": "stream",
          "name": "stdout",
          "text": [
            "Using loc with column names 'A', 'B': \n",
            "    A  B\n",
            "0  1  4\n",
            "1  2  5\n",
            "Using loc with column names 'A' to 'C': \n",
            "    A  B  C\n",
            "0  1  4  7\n",
            "1  2  5  8\n",
            "Using loc with column index 0,1: \n",
            "    A  B\n",
            "0  1  4\n",
            "1  2  5\n",
            "Using loc with column names 'A', 'B': \n",
            "    A  B\n",
            "0  1  4\n",
            "1  2  5\n"
          ]
        }
      ]
    },
    {
      "cell_type": "markdown",
      "source": [
        "### Boolean Indexing"
      ],
      "metadata": {
        "id": "ywjbp8DMldur"
      }
    },
    {
      "cell_type": "code",
      "source": [
        "# Creating a DataFrame from a dictionary\n",
        "data = {\"Name\": [\"Alice\", \"Bob\", \"Charlie\"],\n",
        "        \"Age\": [25, 30, 35],\n",
        "        \"City\": [\"NY\", \"LA\", \"CHI\"]}\n",
        "\n",
        "df = pd.DataFrame(data)\n",
        "print(\"DataFrame:\\n\", df)"
      ],
      "metadata": {
        "colab": {
          "base_uri": "https://localhost:8080/"
        },
        "id": "YT8VjbgkZ9q9",
        "outputId": "4b2ea278-dea6-4bcf-87ac-e14168582b3d"
      },
      "execution_count": 6,
      "outputs": [
        {
          "output_type": "stream",
          "name": "stdout",
          "text": [
            "DataFrame:\n",
            "       Name  Age City\n",
            "0    Alice   25   NY\n",
            "1      Bob   30   LA\n",
            "2  Charlie   35  CHI\n"
          ]
        }
      ]
    },
    {
      "cell_type": "code",
      "source": [
        "(df[\"Age\"] > 25) & (df[\"City\"] == \"LA\")"
      ],
      "metadata": {
        "id": "Np6L0_RT8x_O",
        "colab": {
          "base_uri": "https://localhost:8080/",
          "height": 178
        },
        "outputId": "11e520e4-1504-46f6-c071-061c98ae3531"
      },
      "execution_count": 7,
      "outputs": [
        {
          "output_type": "execute_result",
          "data": {
            "text/plain": [
              "0    False\n",
              "1     True\n",
              "2    False\n",
              "dtype: bool"
            ],
            "text/html": [
              "<div>\n",
              "<style scoped>\n",
              "    .dataframe tbody tr th:only-of-type {\n",
              "        vertical-align: middle;\n",
              "    }\n",
              "\n",
              "    .dataframe tbody tr th {\n",
              "        vertical-align: top;\n",
              "    }\n",
              "\n",
              "    .dataframe thead th {\n",
              "        text-align: right;\n",
              "    }\n",
              "</style>\n",
              "<table border=\"1\" class=\"dataframe\">\n",
              "  <thead>\n",
              "    <tr style=\"text-align: right;\">\n",
              "      <th></th>\n",
              "      <th>0</th>\n",
              "    </tr>\n",
              "  </thead>\n",
              "  <tbody>\n",
              "    <tr>\n",
              "      <th>0</th>\n",
              "      <td>False</td>\n",
              "    </tr>\n",
              "    <tr>\n",
              "      <th>1</th>\n",
              "      <td>True</td>\n",
              "    </tr>\n",
              "    <tr>\n",
              "      <th>2</th>\n",
              "      <td>False</td>\n",
              "    </tr>\n",
              "  </tbody>\n",
              "</table>\n",
              "</div><br><label><b>dtype:</b> bool</label>"
            ]
          },
          "metadata": {},
          "execution_count": 7
        }
      ]
    },
    {
      "cell_type": "code",
      "source": [
        "df[(df[\"Age\"] > 25) & (df[\"City\"] == \"LA\")]"
      ],
      "metadata": {
        "id": "7_OnK5I6kVAp",
        "outputId": "91fd950f-6292-4d49-a722-b31852939e50",
        "colab": {
          "base_uri": "https://localhost:8080/",
          "height": 81
        }
      },
      "execution_count": 8,
      "outputs": [
        {
          "output_type": "execute_result",
          "data": {
            "text/plain": [
              "  Name  Age City\n",
              "1  Bob   30   LA"
            ],
            "text/html": [
              "\n",
              "  <div id=\"df-8f1eeead-76a9-4eee-8853-6947a8154745\" class=\"colab-df-container\">\n",
              "    <div>\n",
              "<style scoped>\n",
              "    .dataframe tbody tr th:only-of-type {\n",
              "        vertical-align: middle;\n",
              "    }\n",
              "\n",
              "    .dataframe tbody tr th {\n",
              "        vertical-align: top;\n",
              "    }\n",
              "\n",
              "    .dataframe thead th {\n",
              "        text-align: right;\n",
              "    }\n",
              "</style>\n",
              "<table border=\"1\" class=\"dataframe\">\n",
              "  <thead>\n",
              "    <tr style=\"text-align: right;\">\n",
              "      <th></th>\n",
              "      <th>Name</th>\n",
              "      <th>Age</th>\n",
              "      <th>City</th>\n",
              "    </tr>\n",
              "  </thead>\n",
              "  <tbody>\n",
              "    <tr>\n",
              "      <th>1</th>\n",
              "      <td>Bob</td>\n",
              "      <td>30</td>\n",
              "      <td>LA</td>\n",
              "    </tr>\n",
              "  </tbody>\n",
              "</table>\n",
              "</div>\n",
              "    <div class=\"colab-df-buttons\">\n",
              "\n",
              "  <div class=\"colab-df-container\">\n",
              "    <button class=\"colab-df-convert\" onclick=\"convertToInteractive('df-8f1eeead-76a9-4eee-8853-6947a8154745')\"\n",
              "            title=\"Convert this dataframe to an interactive table.\"\n",
              "            style=\"display:none;\">\n",
              "\n",
              "  <svg xmlns=\"http://www.w3.org/2000/svg\" height=\"24px\" viewBox=\"0 -960 960 960\">\n",
              "    <path d=\"M120-120v-720h720v720H120Zm60-500h600v-160H180v160Zm220 220h160v-160H400v160Zm0 220h160v-160H400v160ZM180-400h160v-160H180v160Zm440 0h160v-160H620v160ZM180-180h160v-160H180v160Zm440 0h160v-160H620v160Z\"/>\n",
              "  </svg>\n",
              "    </button>\n",
              "\n",
              "  <style>\n",
              "    .colab-df-container {\n",
              "      display:flex;\n",
              "      gap: 12px;\n",
              "    }\n",
              "\n",
              "    .colab-df-convert {\n",
              "      background-color: #E8F0FE;\n",
              "      border: none;\n",
              "      border-radius: 50%;\n",
              "      cursor: pointer;\n",
              "      display: none;\n",
              "      fill: #1967D2;\n",
              "      height: 32px;\n",
              "      padding: 0 0 0 0;\n",
              "      width: 32px;\n",
              "    }\n",
              "\n",
              "    .colab-df-convert:hover {\n",
              "      background-color: #E2EBFA;\n",
              "      box-shadow: 0px 1px 2px rgba(60, 64, 67, 0.3), 0px 1px 3px 1px rgba(60, 64, 67, 0.15);\n",
              "      fill: #174EA6;\n",
              "    }\n",
              "\n",
              "    .colab-df-buttons div {\n",
              "      margin-bottom: 4px;\n",
              "    }\n",
              "\n",
              "    [theme=dark] .colab-df-convert {\n",
              "      background-color: #3B4455;\n",
              "      fill: #D2E3FC;\n",
              "    }\n",
              "\n",
              "    [theme=dark] .colab-df-convert:hover {\n",
              "      background-color: #434B5C;\n",
              "      box-shadow: 0px 1px 3px 1px rgba(0, 0, 0, 0.15);\n",
              "      filter: drop-shadow(0px 1px 2px rgba(0, 0, 0, 0.3));\n",
              "      fill: #FFFFFF;\n",
              "    }\n",
              "  </style>\n",
              "\n",
              "    <script>\n",
              "      const buttonEl =\n",
              "        document.querySelector('#df-8f1eeead-76a9-4eee-8853-6947a8154745 button.colab-df-convert');\n",
              "      buttonEl.style.display =\n",
              "        google.colab.kernel.accessAllowed ? 'block' : 'none';\n",
              "\n",
              "      async function convertToInteractive(key) {\n",
              "        const element = document.querySelector('#df-8f1eeead-76a9-4eee-8853-6947a8154745');\n",
              "        const dataTable =\n",
              "          await google.colab.kernel.invokeFunction('convertToInteractive',\n",
              "                                                    [key], {});\n",
              "        if (!dataTable) return;\n",
              "\n",
              "        const docLinkHtml = 'Like what you see? Visit the ' +\n",
              "          '<a target=\"_blank\" href=https://colab.research.google.com/notebooks/data_table.ipynb>data table notebook</a>'\n",
              "          + ' to learn more about interactive tables.';\n",
              "        element.innerHTML = '';\n",
              "        dataTable['output_type'] = 'display_data';\n",
              "        await google.colab.output.renderOutput(dataTable, element);\n",
              "        const docLink = document.createElement('div');\n",
              "        docLink.innerHTML = docLinkHtml;\n",
              "        element.appendChild(docLink);\n",
              "      }\n",
              "    </script>\n",
              "  </div>\n",
              "\n",
              "\n",
              "    </div>\n",
              "  </div>\n"
            ],
            "application/vnd.google.colaboratory.intrinsic+json": {
              "type": "dataframe",
              "summary": "{\n  \"name\": \"df[(df[\\\"Age\\\"] > 25) & (df[\\\"City\\\"] == \\\"LA\\\")]\",\n  \"rows\": 1,\n  \"fields\": [\n    {\n      \"column\": \"Name\",\n      \"properties\": {\n        \"dtype\": \"string\",\n        \"num_unique_values\": 1,\n        \"samples\": [\n          \"Bob\"\n        ],\n        \"semantic_type\": \"\",\n        \"description\": \"\"\n      }\n    },\n    {\n      \"column\": \"Age\",\n      \"properties\": {\n        \"dtype\": \"number\",\n        \"std\": null,\n        \"min\": 30,\n        \"max\": 30,\n        \"num_unique_values\": 1,\n        \"samples\": [\n          30\n        ],\n        \"semantic_type\": \"\",\n        \"description\": \"\"\n      }\n    },\n    {\n      \"column\": \"City\",\n      \"properties\": {\n        \"dtype\": \"string\",\n        \"num_unique_values\": 1,\n        \"samples\": [\n          \"LA\"\n        ],\n        \"semantic_type\": \"\",\n        \"description\": \"\"\n      }\n    }\n  ]\n}"
            }
          },
          "metadata": {},
          "execution_count": 8
        }
      ]
    },
    {
      "cell_type": "code",
      "source": [
        "# Filter rows where Age > 25\n",
        "filtered = df[df[\"Age\"] > 25]\n",
        "print(\"Filtered Rows:\\n\", filtered)\n",
        "\n",
        "# Multiple conditions\n",
        "filtered = df[(df[\"Age\"] > 25) & (df[\"City\"] == \"LA\")]\n",
        "print(\"\\nFiltered Rows with Multiple Conditions:\\n\", filtered)"
      ],
      "metadata": {
        "id": "ivkWxUlRle_9",
        "colab": {
          "base_uri": "https://localhost:8080/"
        },
        "outputId": "54afd947-f510-46b0-8db1-51ca197ea8d2"
      },
      "execution_count": null,
      "outputs": [
        {
          "output_type": "stream",
          "name": "stdout",
          "text": [
            "Filtered Rows:\n",
            "       Name  Age City\n",
            "1      Bob   30   LA\n",
            "2  Charlie   35  CHI\n",
            "\n",
            "Filtered Rows with Multiple Conditions:\n",
            "   Name  Age City\n",
            "1  Bob   30   LA\n"
          ]
        }
      ]
    },
    {
      "cell_type": "markdown",
      "source": [
        "### Working with Missing Data"
      ],
      "metadata": {
        "id": "EfSt-Oltldph"
      }
    },
    {
      "cell_type": "code",
      "source": [
        "# Handling missing data\n",
        "data = {\"Name\": [\"Alice\", None, \"Charlie\"], \"Age\": [25, 30, None]}\n",
        "df = pd.DataFrame(data)\n",
        "df"
      ],
      "metadata": {
        "id": "pVBergQIlhhn",
        "outputId": "943bd17f-2697-4098-88b3-545c9c4c293f",
        "colab": {
          "base_uri": "https://localhost:8080/",
          "height": 143
        }
      },
      "execution_count": 12,
      "outputs": [
        {
          "output_type": "execute_result",
          "data": {
            "text/plain": [
              "      Name   Age\n",
              "0    Alice  25.0\n",
              "1     None  30.0\n",
              "2  Charlie   NaN"
            ],
            "text/html": [
              "\n",
              "  <div id=\"df-0521bb27-e639-42d6-9130-02bfc31b7bc5\" class=\"colab-df-container\">\n",
              "    <div>\n",
              "<style scoped>\n",
              "    .dataframe tbody tr th:only-of-type {\n",
              "        vertical-align: middle;\n",
              "    }\n",
              "\n",
              "    .dataframe tbody tr th {\n",
              "        vertical-align: top;\n",
              "    }\n",
              "\n",
              "    .dataframe thead th {\n",
              "        text-align: right;\n",
              "    }\n",
              "</style>\n",
              "<table border=\"1\" class=\"dataframe\">\n",
              "  <thead>\n",
              "    <tr style=\"text-align: right;\">\n",
              "      <th></th>\n",
              "      <th>Name</th>\n",
              "      <th>Age</th>\n",
              "    </tr>\n",
              "  </thead>\n",
              "  <tbody>\n",
              "    <tr>\n",
              "      <th>0</th>\n",
              "      <td>Alice</td>\n",
              "      <td>25.0</td>\n",
              "    </tr>\n",
              "    <tr>\n",
              "      <th>1</th>\n",
              "      <td>None</td>\n",
              "      <td>30.0</td>\n",
              "    </tr>\n",
              "    <tr>\n",
              "      <th>2</th>\n",
              "      <td>Charlie</td>\n",
              "      <td>NaN</td>\n",
              "    </tr>\n",
              "  </tbody>\n",
              "</table>\n",
              "</div>\n",
              "    <div class=\"colab-df-buttons\">\n",
              "\n",
              "  <div class=\"colab-df-container\">\n",
              "    <button class=\"colab-df-convert\" onclick=\"convertToInteractive('df-0521bb27-e639-42d6-9130-02bfc31b7bc5')\"\n",
              "            title=\"Convert this dataframe to an interactive table.\"\n",
              "            style=\"display:none;\">\n",
              "\n",
              "  <svg xmlns=\"http://www.w3.org/2000/svg\" height=\"24px\" viewBox=\"0 -960 960 960\">\n",
              "    <path d=\"M120-120v-720h720v720H120Zm60-500h600v-160H180v160Zm220 220h160v-160H400v160Zm0 220h160v-160H400v160ZM180-400h160v-160H180v160Zm440 0h160v-160H620v160ZM180-180h160v-160H180v160Zm440 0h160v-160H620v160Z\"/>\n",
              "  </svg>\n",
              "    </button>\n",
              "\n",
              "  <style>\n",
              "    .colab-df-container {\n",
              "      display:flex;\n",
              "      gap: 12px;\n",
              "    }\n",
              "\n",
              "    .colab-df-convert {\n",
              "      background-color: #E8F0FE;\n",
              "      border: none;\n",
              "      border-radius: 50%;\n",
              "      cursor: pointer;\n",
              "      display: none;\n",
              "      fill: #1967D2;\n",
              "      height: 32px;\n",
              "      padding: 0 0 0 0;\n",
              "      width: 32px;\n",
              "    }\n",
              "\n",
              "    .colab-df-convert:hover {\n",
              "      background-color: #E2EBFA;\n",
              "      box-shadow: 0px 1px 2px rgba(60, 64, 67, 0.3), 0px 1px 3px 1px rgba(60, 64, 67, 0.15);\n",
              "      fill: #174EA6;\n",
              "    }\n",
              "\n",
              "    .colab-df-buttons div {\n",
              "      margin-bottom: 4px;\n",
              "    }\n",
              "\n",
              "    [theme=dark] .colab-df-convert {\n",
              "      background-color: #3B4455;\n",
              "      fill: #D2E3FC;\n",
              "    }\n",
              "\n",
              "    [theme=dark] .colab-df-convert:hover {\n",
              "      background-color: #434B5C;\n",
              "      box-shadow: 0px 1px 3px 1px rgba(0, 0, 0, 0.15);\n",
              "      filter: drop-shadow(0px 1px 2px rgba(0, 0, 0, 0.3));\n",
              "      fill: #FFFFFF;\n",
              "    }\n",
              "  </style>\n",
              "\n",
              "    <script>\n",
              "      const buttonEl =\n",
              "        document.querySelector('#df-0521bb27-e639-42d6-9130-02bfc31b7bc5 button.colab-df-convert');\n",
              "      buttonEl.style.display =\n",
              "        google.colab.kernel.accessAllowed ? 'block' : 'none';\n",
              "\n",
              "      async function convertToInteractive(key) {\n",
              "        const element = document.querySelector('#df-0521bb27-e639-42d6-9130-02bfc31b7bc5');\n",
              "        const dataTable =\n",
              "          await google.colab.kernel.invokeFunction('convertToInteractive',\n",
              "                                                    [key], {});\n",
              "        if (!dataTable) return;\n",
              "\n",
              "        const docLinkHtml = 'Like what you see? Visit the ' +\n",
              "          '<a target=\"_blank\" href=https://colab.research.google.com/notebooks/data_table.ipynb>data table notebook</a>'\n",
              "          + ' to learn more about interactive tables.';\n",
              "        element.innerHTML = '';\n",
              "        dataTable['output_type'] = 'display_data';\n",
              "        await google.colab.output.renderOutput(dataTable, element);\n",
              "        const docLink = document.createElement('div');\n",
              "        docLink.innerHTML = docLinkHtml;\n",
              "        element.appendChild(docLink);\n",
              "      }\n",
              "    </script>\n",
              "  </div>\n",
              "\n",
              "\n",
              "<div id=\"df-e3f76d35-2a1f-4f83-b0ec-e96e16264a4f\">\n",
              "  <button class=\"colab-df-quickchart\" onclick=\"quickchart('df-e3f76d35-2a1f-4f83-b0ec-e96e16264a4f')\"\n",
              "            title=\"Suggest charts\"\n",
              "            style=\"display:none;\">\n",
              "\n",
              "<svg xmlns=\"http://www.w3.org/2000/svg\" height=\"24px\"viewBox=\"0 0 24 24\"\n",
              "     width=\"24px\">\n",
              "    <g>\n",
              "        <path d=\"M19 3H5c-1.1 0-2 .9-2 2v14c0 1.1.9 2 2 2h14c1.1 0 2-.9 2-2V5c0-1.1-.9-2-2-2zM9 17H7v-7h2v7zm4 0h-2V7h2v10zm4 0h-2v-4h2v4z\"/>\n",
              "    </g>\n",
              "</svg>\n",
              "  </button>\n",
              "\n",
              "<style>\n",
              "  .colab-df-quickchart {\n",
              "      --bg-color: #E8F0FE;\n",
              "      --fill-color: #1967D2;\n",
              "      --hover-bg-color: #E2EBFA;\n",
              "      --hover-fill-color: #174EA6;\n",
              "      --disabled-fill-color: #AAA;\n",
              "      --disabled-bg-color: #DDD;\n",
              "  }\n",
              "\n",
              "  [theme=dark] .colab-df-quickchart {\n",
              "      --bg-color: #3B4455;\n",
              "      --fill-color: #D2E3FC;\n",
              "      --hover-bg-color: #434B5C;\n",
              "      --hover-fill-color: #FFFFFF;\n",
              "      --disabled-bg-color: #3B4455;\n",
              "      --disabled-fill-color: #666;\n",
              "  }\n",
              "\n",
              "  .colab-df-quickchart {\n",
              "    background-color: var(--bg-color);\n",
              "    border: none;\n",
              "    border-radius: 50%;\n",
              "    cursor: pointer;\n",
              "    display: none;\n",
              "    fill: var(--fill-color);\n",
              "    height: 32px;\n",
              "    padding: 0;\n",
              "    width: 32px;\n",
              "  }\n",
              "\n",
              "  .colab-df-quickchart:hover {\n",
              "    background-color: var(--hover-bg-color);\n",
              "    box-shadow: 0 1px 2px rgba(60, 64, 67, 0.3), 0 1px 3px 1px rgba(60, 64, 67, 0.15);\n",
              "    fill: var(--button-hover-fill-color);\n",
              "  }\n",
              "\n",
              "  .colab-df-quickchart-complete:disabled,\n",
              "  .colab-df-quickchart-complete:disabled:hover {\n",
              "    background-color: var(--disabled-bg-color);\n",
              "    fill: var(--disabled-fill-color);\n",
              "    box-shadow: none;\n",
              "  }\n",
              "\n",
              "  .colab-df-spinner {\n",
              "    border: 2px solid var(--fill-color);\n",
              "    border-color: transparent;\n",
              "    border-bottom-color: var(--fill-color);\n",
              "    animation:\n",
              "      spin 1s steps(1) infinite;\n",
              "  }\n",
              "\n",
              "  @keyframes spin {\n",
              "    0% {\n",
              "      border-color: transparent;\n",
              "      border-bottom-color: var(--fill-color);\n",
              "      border-left-color: var(--fill-color);\n",
              "    }\n",
              "    20% {\n",
              "      border-color: transparent;\n",
              "      border-left-color: var(--fill-color);\n",
              "      border-top-color: var(--fill-color);\n",
              "    }\n",
              "    30% {\n",
              "      border-color: transparent;\n",
              "      border-left-color: var(--fill-color);\n",
              "      border-top-color: var(--fill-color);\n",
              "      border-right-color: var(--fill-color);\n",
              "    }\n",
              "    40% {\n",
              "      border-color: transparent;\n",
              "      border-right-color: var(--fill-color);\n",
              "      border-top-color: var(--fill-color);\n",
              "    }\n",
              "    60% {\n",
              "      border-color: transparent;\n",
              "      border-right-color: var(--fill-color);\n",
              "    }\n",
              "    80% {\n",
              "      border-color: transparent;\n",
              "      border-right-color: var(--fill-color);\n",
              "      border-bottom-color: var(--fill-color);\n",
              "    }\n",
              "    90% {\n",
              "      border-color: transparent;\n",
              "      border-bottom-color: var(--fill-color);\n",
              "    }\n",
              "  }\n",
              "</style>\n",
              "\n",
              "  <script>\n",
              "    async function quickchart(key) {\n",
              "      const quickchartButtonEl =\n",
              "        document.querySelector('#' + key + ' button');\n",
              "      quickchartButtonEl.disabled = true;  // To prevent multiple clicks.\n",
              "      quickchartButtonEl.classList.add('colab-df-spinner');\n",
              "      try {\n",
              "        const charts = await google.colab.kernel.invokeFunction(\n",
              "            'suggestCharts', [key], {});\n",
              "      } catch (error) {\n",
              "        console.error('Error during call to suggestCharts:', error);\n",
              "      }\n",
              "      quickchartButtonEl.classList.remove('colab-df-spinner');\n",
              "      quickchartButtonEl.classList.add('colab-df-quickchart-complete');\n",
              "    }\n",
              "    (() => {\n",
              "      let quickchartButtonEl =\n",
              "        document.querySelector('#df-e3f76d35-2a1f-4f83-b0ec-e96e16264a4f button');\n",
              "      quickchartButtonEl.style.display =\n",
              "        google.colab.kernel.accessAllowed ? 'block' : 'none';\n",
              "    })();\n",
              "  </script>\n",
              "</div>\n",
              "\n",
              "  <div id=\"id_38d37fa3-6bc5-4eef-8126-5e12b1d45762\">\n",
              "    <style>\n",
              "      .colab-df-generate {\n",
              "        background-color: #E8F0FE;\n",
              "        border: none;\n",
              "        border-radius: 50%;\n",
              "        cursor: pointer;\n",
              "        display: none;\n",
              "        fill: #1967D2;\n",
              "        height: 32px;\n",
              "        padding: 0 0 0 0;\n",
              "        width: 32px;\n",
              "      }\n",
              "\n",
              "      .colab-df-generate:hover {\n",
              "        background-color: #E2EBFA;\n",
              "        box-shadow: 0px 1px 2px rgba(60, 64, 67, 0.3), 0px 1px 3px 1px rgba(60, 64, 67, 0.15);\n",
              "        fill: #174EA6;\n",
              "      }\n",
              "\n",
              "      [theme=dark] .colab-df-generate {\n",
              "        background-color: #3B4455;\n",
              "        fill: #D2E3FC;\n",
              "      }\n",
              "\n",
              "      [theme=dark] .colab-df-generate:hover {\n",
              "        background-color: #434B5C;\n",
              "        box-shadow: 0px 1px 3px 1px rgba(0, 0, 0, 0.15);\n",
              "        filter: drop-shadow(0px 1px 2px rgba(0, 0, 0, 0.3));\n",
              "        fill: #FFFFFF;\n",
              "      }\n",
              "    </style>\n",
              "    <button class=\"colab-df-generate\" onclick=\"generateWithVariable('df')\"\n",
              "            title=\"Generate code using this dataframe.\"\n",
              "            style=\"display:none;\">\n",
              "\n",
              "  <svg xmlns=\"http://www.w3.org/2000/svg\" height=\"24px\"viewBox=\"0 0 24 24\"\n",
              "       width=\"24px\">\n",
              "    <path d=\"M7,19H8.4L18.45,9,17,7.55,7,17.6ZM5,21V16.75L18.45,3.32a2,2,0,0,1,2.83,0l1.4,1.43a1.91,1.91,0,0,1,.58,1.4,1.91,1.91,0,0,1-.58,1.4L9.25,21ZM18.45,9,17,7.55Zm-12,3A5.31,5.31,0,0,0,4.9,8.1,5.31,5.31,0,0,0,1,6.5,5.31,5.31,0,0,0,4.9,4.9,5.31,5.31,0,0,0,6.5,1,5.31,5.31,0,0,0,8.1,4.9,5.31,5.31,0,0,0,12,6.5,5.46,5.46,0,0,0,6.5,12Z\"/>\n",
              "  </svg>\n",
              "    </button>\n",
              "    <script>\n",
              "      (() => {\n",
              "      const buttonEl =\n",
              "        document.querySelector('#id_38d37fa3-6bc5-4eef-8126-5e12b1d45762 button.colab-df-generate');\n",
              "      buttonEl.style.display =\n",
              "        google.colab.kernel.accessAllowed ? 'block' : 'none';\n",
              "\n",
              "      buttonEl.onclick = () => {\n",
              "        google.colab.notebook.generateWithVariable('df');\n",
              "      }\n",
              "      })();\n",
              "    </script>\n",
              "  </div>\n",
              "\n",
              "    </div>\n",
              "  </div>\n"
            ],
            "application/vnd.google.colaboratory.intrinsic+json": {
              "type": "dataframe",
              "variable_name": "df",
              "summary": "{\n  \"name\": \"df\",\n  \"rows\": 3,\n  \"fields\": [\n    {\n      \"column\": \"Name\",\n      \"properties\": {\n        \"dtype\": \"string\",\n        \"num_unique_values\": 2,\n        \"samples\": [\n          \"Charlie\",\n          \"Alice\"\n        ],\n        \"semantic_type\": \"\",\n        \"description\": \"\"\n      }\n    },\n    {\n      \"column\": \"Age\",\n      \"properties\": {\n        \"dtype\": \"number\",\n        \"std\": 3.5355339059327378,\n        \"min\": 25.0,\n        \"max\": 30.0,\n        \"num_unique_values\": 2,\n        \"samples\": [\n          30.0,\n          25.0\n        ],\n        \"semantic_type\": \"\",\n        \"description\": \"\"\n      }\n    }\n  ]\n}"
            }
          },
          "metadata": {},
          "execution_count": 12
        }
      ]
    },
    {
      "cell_type": "code",
      "source": [
        "\n",
        "# Identify missing values\n",
        "print(\"Missing Data:\\n\", df.isnull())\n",
        "\n",
        "# Fill missing values\n",
        "df_filled = df.fillna({\"Name\": \"Unknown\", \"Age\": df[\"Age\"].mean()})\n",
        "print(\"\\nAfter Filling Missing Data:\\n\", df_filled)\n",
        "\n",
        "# Drop rows with missing values\n",
        "df_dropped = df.dropna()\n",
        "print(\"\\nAfter Dropping Missing Values:\\n\", df_dropped)"
      ],
      "metadata": {
        "id": "UaDtu5fxlbiJ",
        "colab": {
          "base_uri": "https://localhost:8080/"
        },
        "outputId": "2b7f0c0d-7649-4e9b-968d-fd63a9f6c958"
      },
      "execution_count": null,
      "outputs": [
        {
          "output_type": "stream",
          "name": "stdout",
          "text": [
            "Missing Data:\n",
            "     Name    Age\n",
            "0  False  False\n",
            "1   True  False\n",
            "2  False   True\n",
            "\n",
            "After Filling Missing Data:\n",
            "       Name   Age\n",
            "0    Alice  25.0\n",
            "1  Unknown  30.0\n",
            "2  Charlie  27.5\n",
            "\n",
            "After Dropping Missing Values:\n",
            "     Name   Age\n",
            "0  Alice  25.0\n"
          ]
        }
      ]
    },
    {
      "cell_type": "markdown",
      "source": [
        "### Read and Write CSV Files"
      ],
      "metadata": {
        "id": "mkbBCGRvlm20"
      }
    },
    {
      "cell_type": "code",
      "source": [
        "# Save DataFrame to CSV\n",
        "df.to_csv(\"example.csv\", index=False)\n",
        "print(\"\\nDataFrame Saved to 'example.csv'\")\n",
        "\n",
        "# Load CSV\n",
        "df_loaded = pd.read_csv(\"example.csv\")\n",
        "print(\"\\nLoaded DataFrame:\\n\", df_loaded)"
      ],
      "metadata": {
        "id": "64_dN_IPlkQD",
        "colab": {
          "base_uri": "https://localhost:8080/"
        },
        "outputId": "36cfa42a-a792-4df1-80ec-ecf0595f105a"
      },
      "execution_count": null,
      "outputs": [
        {
          "output_type": "stream",
          "name": "stdout",
          "text": [
            "\n",
            "DataFrame Saved to 'example.csv'\n",
            "\n",
            "Loaded DataFrame:\n",
            "       Name   Age\n",
            "0    Alice  25.0\n",
            "1      NaN  30.0\n",
            "2  Charlie   NaN\n"
          ]
        }
      ]
    },
    {
      "cell_type": "markdown",
      "source": [
        "Problem:01\n",
        "Create a Python Series object with following values:\n",
        "\n",
        "`“d”, “a”, “c”, “a”, “a”, “b”, “b”, “d”, “d”`.\n",
        "\n",
        "Now, perform following operations:\n",
        "Show character frequencies of each character.\n",
        "Make an array of unique characters.\n",
        "\n"
      ],
      "metadata": {
        "id": "el3wWOVIYcdM"
      }
    },
    {
      "cell_type": "code",
      "source": [
        "import numpy"
      ],
      "metadata": {
        "id": "QFlZxbv9sghd"
      },
      "execution_count": 26,
      "outputs": []
    },
    {
      "cell_type": "code",
      "source": [
        "data = [\"d\", \"a\", \"c\", \"a\", \"a\", \"b\", \"b\", \"d\", \"d\"]\n",
        "series = pd.Series(data)\n",
        "series"
      ],
      "metadata": {
        "id": "V03tQ0HBr0ji",
        "outputId": "ec59efef-9332-428d-b486-d1d09bdeafb2",
        "colab": {
          "base_uri": "https://localhost:8080/",
          "height": 366
        }
      },
      "execution_count": 22,
      "outputs": [
        {
          "output_type": "execute_result",
          "data": {
            "text/plain": [
              "0    d\n",
              "1    a\n",
              "2    c\n",
              "3    a\n",
              "4    a\n",
              "5    b\n",
              "6    b\n",
              "7    d\n",
              "8    d\n",
              "dtype: object"
            ],
            "text/html": [
              "<div>\n",
              "<style scoped>\n",
              "    .dataframe tbody tr th:only-of-type {\n",
              "        vertical-align: middle;\n",
              "    }\n",
              "\n",
              "    .dataframe tbody tr th {\n",
              "        vertical-align: top;\n",
              "    }\n",
              "\n",
              "    .dataframe thead th {\n",
              "        text-align: right;\n",
              "    }\n",
              "</style>\n",
              "<table border=\"1\" class=\"dataframe\">\n",
              "  <thead>\n",
              "    <tr style=\"text-align: right;\">\n",
              "      <th></th>\n",
              "      <th>0</th>\n",
              "    </tr>\n",
              "  </thead>\n",
              "  <tbody>\n",
              "    <tr>\n",
              "      <th>0</th>\n",
              "      <td>d</td>\n",
              "    </tr>\n",
              "    <tr>\n",
              "      <th>1</th>\n",
              "      <td>a</td>\n",
              "    </tr>\n",
              "    <tr>\n",
              "      <th>2</th>\n",
              "      <td>c</td>\n",
              "    </tr>\n",
              "    <tr>\n",
              "      <th>3</th>\n",
              "      <td>a</td>\n",
              "    </tr>\n",
              "    <tr>\n",
              "      <th>4</th>\n",
              "      <td>a</td>\n",
              "    </tr>\n",
              "    <tr>\n",
              "      <th>5</th>\n",
              "      <td>b</td>\n",
              "    </tr>\n",
              "    <tr>\n",
              "      <th>6</th>\n",
              "      <td>b</td>\n",
              "    </tr>\n",
              "    <tr>\n",
              "      <th>7</th>\n",
              "      <td>d</td>\n",
              "    </tr>\n",
              "    <tr>\n",
              "      <th>8</th>\n",
              "      <td>d</td>\n",
              "    </tr>\n",
              "  </tbody>\n",
              "</table>\n",
              "</div><br><label><b>dtype:</b> object</label>"
            ]
          },
          "metadata": {},
          "execution_count": 22
        }
      ]
    },
    {
      "cell_type": "code",
      "source": [
        "f = series.value_counts()\n",
        "f"
      ],
      "metadata": {
        "id": "Rjdwb0cnsKuB",
        "outputId": "ef133c4a-16a5-4156-b6d0-c3022fe96b67",
        "colab": {
          "base_uri": "https://localhost:8080/",
          "height": 210
        }
      },
      "execution_count": 23,
      "outputs": [
        {
          "output_type": "execute_result",
          "data": {
            "text/plain": [
              "d    3\n",
              "a    3\n",
              "b    2\n",
              "c    1\n",
              "Name: count, dtype: int64"
            ],
            "text/html": [
              "<div>\n",
              "<style scoped>\n",
              "    .dataframe tbody tr th:only-of-type {\n",
              "        vertical-align: middle;\n",
              "    }\n",
              "\n",
              "    .dataframe tbody tr th {\n",
              "        vertical-align: top;\n",
              "    }\n",
              "\n",
              "    .dataframe thead th {\n",
              "        text-align: right;\n",
              "    }\n",
              "</style>\n",
              "<table border=\"1\" class=\"dataframe\">\n",
              "  <thead>\n",
              "    <tr style=\"text-align: right;\">\n",
              "      <th></th>\n",
              "      <th>count</th>\n",
              "    </tr>\n",
              "  </thead>\n",
              "  <tbody>\n",
              "    <tr>\n",
              "      <th>d</th>\n",
              "      <td>3</td>\n",
              "    </tr>\n",
              "    <tr>\n",
              "      <th>a</th>\n",
              "      <td>3</td>\n",
              "    </tr>\n",
              "    <tr>\n",
              "      <th>b</th>\n",
              "      <td>2</td>\n",
              "    </tr>\n",
              "    <tr>\n",
              "      <th>c</th>\n",
              "      <td>1</td>\n",
              "    </tr>\n",
              "  </tbody>\n",
              "</table>\n",
              "</div><br><label><b>dtype:</b> int64</label>"
            ]
          },
          "metadata": {},
          "execution_count": 23
        }
      ]
    },
    {
      "cell_type": "code",
      "source": [
        "un = series.unique()\n",
        "un"
      ],
      "metadata": {
        "id": "3NM38UVXse0L",
        "outputId": "802518ea-0427-4738-e099-5419ad9d685e",
        "colab": {
          "base_uri": "https://localhost:8080/"
        }
      },
      "execution_count": 29,
      "outputs": [
        {
          "output_type": "execute_result",
          "data": {
            "text/plain": [
              "array(['d', 'a', 'c', 'b'], dtype=object)"
            ]
          },
          "metadata": {},
          "execution_count": 29
        }
      ]
    },
    {
      "cell_type": "markdown",
      "source": [
        "Problem 02:\n",
        "\n",
        "Create a 4X3 dimensions Python DataFrame object df1 with row labels of cities `“Dhaka”, “Sylhet”, “Rajshahi”, “Barisal”` and column labels of years `“2020”, “2021”, “2022”`. The data of the object should be filled with random float values of rainfalls.\n",
        "Now, perform following operations on df1 object:\n",
        "\n",
        "I) Sum of rainfalls of the  all cities\n",
        "\n",
        "II) Mean of rainfalls of all years\n"
      ],
      "metadata": {
        "id": "bGz-uXVYYkza"
      }
    },
    {
      "cell_type": "code",
      "source": [
        "import numpy as np\n",
        "import pandas as pd\n",
        "import random"
      ],
      "metadata": {
        "id": "F52wYGbJoHYE"
      },
      "execution_count": 20,
      "outputs": []
    },
    {
      "cell_type": "code",
      "source": [
        "random_float_w = random.uniform(120.00, 130.00)"
      ],
      "metadata": {
        "id": "ZDhN4ilDoKki"
      },
      "execution_count": 21,
      "outputs": []
    },
    {
      "cell_type": "code",
      "source": [
        "data ={\"2020\":[127.34, 126.34, 123.45, 125.5], \"2021\":[122.34, 126.34, 121.45, 125.5], \"2022\":[127.74, 126.54, 122.45, 126.5]}\n",
        "df1 = pd.DataFrame(data, index=[\"Dhaka\", \"Sylhet\", \"Rajshahi\", \"Barisal\"])\n",
        "df1"
      ],
      "metadata": {
        "id": "1wUFyAWhnM1m",
        "outputId": "364f681f-da07-4b39-d4de-2702387e1579",
        "colab": {
          "base_uri": "https://localhost:8080/",
          "height": 175
        }
      },
      "execution_count": 15,
      "outputs": [
        {
          "output_type": "execute_result",
          "data": {
            "text/plain": [
              "            2020    2021    2022\n",
              "Dhaka     127.34  122.34  127.74\n",
              "Sylhet    126.34  126.34  126.54\n",
              "Rajshahi  123.45  121.45  122.45\n",
              "Barisal   125.50  125.50  126.50"
            ],
            "text/html": [
              "\n",
              "  <div id=\"df-6ceb7a7e-0d04-4f99-8164-a66aee252be7\" class=\"colab-df-container\">\n",
              "    <div>\n",
              "<style scoped>\n",
              "    .dataframe tbody tr th:only-of-type {\n",
              "        vertical-align: middle;\n",
              "    }\n",
              "\n",
              "    .dataframe tbody tr th {\n",
              "        vertical-align: top;\n",
              "    }\n",
              "\n",
              "    .dataframe thead th {\n",
              "        text-align: right;\n",
              "    }\n",
              "</style>\n",
              "<table border=\"1\" class=\"dataframe\">\n",
              "  <thead>\n",
              "    <tr style=\"text-align: right;\">\n",
              "      <th></th>\n",
              "      <th>2020</th>\n",
              "      <th>2021</th>\n",
              "      <th>2022</th>\n",
              "    </tr>\n",
              "  </thead>\n",
              "  <tbody>\n",
              "    <tr>\n",
              "      <th>Dhaka</th>\n",
              "      <td>127.34</td>\n",
              "      <td>122.34</td>\n",
              "      <td>127.74</td>\n",
              "    </tr>\n",
              "    <tr>\n",
              "      <th>Sylhet</th>\n",
              "      <td>126.34</td>\n",
              "      <td>126.34</td>\n",
              "      <td>126.54</td>\n",
              "    </tr>\n",
              "    <tr>\n",
              "      <th>Rajshahi</th>\n",
              "      <td>123.45</td>\n",
              "      <td>121.45</td>\n",
              "      <td>122.45</td>\n",
              "    </tr>\n",
              "    <tr>\n",
              "      <th>Barisal</th>\n",
              "      <td>125.50</td>\n",
              "      <td>125.50</td>\n",
              "      <td>126.50</td>\n",
              "    </tr>\n",
              "  </tbody>\n",
              "</table>\n",
              "</div>\n",
              "    <div class=\"colab-df-buttons\">\n",
              "\n",
              "  <div class=\"colab-df-container\">\n",
              "    <button class=\"colab-df-convert\" onclick=\"convertToInteractive('df-6ceb7a7e-0d04-4f99-8164-a66aee252be7')\"\n",
              "            title=\"Convert this dataframe to an interactive table.\"\n",
              "            style=\"display:none;\">\n",
              "\n",
              "  <svg xmlns=\"http://www.w3.org/2000/svg\" height=\"24px\" viewBox=\"0 -960 960 960\">\n",
              "    <path d=\"M120-120v-720h720v720H120Zm60-500h600v-160H180v160Zm220 220h160v-160H400v160Zm0 220h160v-160H400v160ZM180-400h160v-160H180v160Zm440 0h160v-160H620v160ZM180-180h160v-160H180v160Zm440 0h160v-160H620v160Z\"/>\n",
              "  </svg>\n",
              "    </button>\n",
              "\n",
              "  <style>\n",
              "    .colab-df-container {\n",
              "      display:flex;\n",
              "      gap: 12px;\n",
              "    }\n",
              "\n",
              "    .colab-df-convert {\n",
              "      background-color: #E8F0FE;\n",
              "      border: none;\n",
              "      border-radius: 50%;\n",
              "      cursor: pointer;\n",
              "      display: none;\n",
              "      fill: #1967D2;\n",
              "      height: 32px;\n",
              "      padding: 0 0 0 0;\n",
              "      width: 32px;\n",
              "    }\n",
              "\n",
              "    .colab-df-convert:hover {\n",
              "      background-color: #E2EBFA;\n",
              "      box-shadow: 0px 1px 2px rgba(60, 64, 67, 0.3), 0px 1px 3px 1px rgba(60, 64, 67, 0.15);\n",
              "      fill: #174EA6;\n",
              "    }\n",
              "\n",
              "    .colab-df-buttons div {\n",
              "      margin-bottom: 4px;\n",
              "    }\n",
              "\n",
              "    [theme=dark] .colab-df-convert {\n",
              "      background-color: #3B4455;\n",
              "      fill: #D2E3FC;\n",
              "    }\n",
              "\n",
              "    [theme=dark] .colab-df-convert:hover {\n",
              "      background-color: #434B5C;\n",
              "      box-shadow: 0px 1px 3px 1px rgba(0, 0, 0, 0.15);\n",
              "      filter: drop-shadow(0px 1px 2px rgba(0, 0, 0, 0.3));\n",
              "      fill: #FFFFFF;\n",
              "    }\n",
              "  </style>\n",
              "\n",
              "    <script>\n",
              "      const buttonEl =\n",
              "        document.querySelector('#df-6ceb7a7e-0d04-4f99-8164-a66aee252be7 button.colab-df-convert');\n",
              "      buttonEl.style.display =\n",
              "        google.colab.kernel.accessAllowed ? 'block' : 'none';\n",
              "\n",
              "      async function convertToInteractive(key) {\n",
              "        const element = document.querySelector('#df-6ceb7a7e-0d04-4f99-8164-a66aee252be7');\n",
              "        const dataTable =\n",
              "          await google.colab.kernel.invokeFunction('convertToInteractive',\n",
              "                                                    [key], {});\n",
              "        if (!dataTable) return;\n",
              "\n",
              "        const docLinkHtml = 'Like what you see? Visit the ' +\n",
              "          '<a target=\"_blank\" href=https://colab.research.google.com/notebooks/data_table.ipynb>data table notebook</a>'\n",
              "          + ' to learn more about interactive tables.';\n",
              "        element.innerHTML = '';\n",
              "        dataTable['output_type'] = 'display_data';\n",
              "        await google.colab.output.renderOutput(dataTable, element);\n",
              "        const docLink = document.createElement('div');\n",
              "        docLink.innerHTML = docLinkHtml;\n",
              "        element.appendChild(docLink);\n",
              "      }\n",
              "    </script>\n",
              "  </div>\n",
              "\n",
              "\n",
              "<div id=\"df-5c70e79b-2ffa-431a-aca0-acc5a9c2b8d3\">\n",
              "  <button class=\"colab-df-quickchart\" onclick=\"quickchart('df-5c70e79b-2ffa-431a-aca0-acc5a9c2b8d3')\"\n",
              "            title=\"Suggest charts\"\n",
              "            style=\"display:none;\">\n",
              "\n",
              "<svg xmlns=\"http://www.w3.org/2000/svg\" height=\"24px\"viewBox=\"0 0 24 24\"\n",
              "     width=\"24px\">\n",
              "    <g>\n",
              "        <path d=\"M19 3H5c-1.1 0-2 .9-2 2v14c0 1.1.9 2 2 2h14c1.1 0 2-.9 2-2V5c0-1.1-.9-2-2-2zM9 17H7v-7h2v7zm4 0h-2V7h2v10zm4 0h-2v-4h2v4z\"/>\n",
              "    </g>\n",
              "</svg>\n",
              "  </button>\n",
              "\n",
              "<style>\n",
              "  .colab-df-quickchart {\n",
              "      --bg-color: #E8F0FE;\n",
              "      --fill-color: #1967D2;\n",
              "      --hover-bg-color: #E2EBFA;\n",
              "      --hover-fill-color: #174EA6;\n",
              "      --disabled-fill-color: #AAA;\n",
              "      --disabled-bg-color: #DDD;\n",
              "  }\n",
              "\n",
              "  [theme=dark] .colab-df-quickchart {\n",
              "      --bg-color: #3B4455;\n",
              "      --fill-color: #D2E3FC;\n",
              "      --hover-bg-color: #434B5C;\n",
              "      --hover-fill-color: #FFFFFF;\n",
              "      --disabled-bg-color: #3B4455;\n",
              "      --disabled-fill-color: #666;\n",
              "  }\n",
              "\n",
              "  .colab-df-quickchart {\n",
              "    background-color: var(--bg-color);\n",
              "    border: none;\n",
              "    border-radius: 50%;\n",
              "    cursor: pointer;\n",
              "    display: none;\n",
              "    fill: var(--fill-color);\n",
              "    height: 32px;\n",
              "    padding: 0;\n",
              "    width: 32px;\n",
              "  }\n",
              "\n",
              "  .colab-df-quickchart:hover {\n",
              "    background-color: var(--hover-bg-color);\n",
              "    box-shadow: 0 1px 2px rgba(60, 64, 67, 0.3), 0 1px 3px 1px rgba(60, 64, 67, 0.15);\n",
              "    fill: var(--button-hover-fill-color);\n",
              "  }\n",
              "\n",
              "  .colab-df-quickchart-complete:disabled,\n",
              "  .colab-df-quickchart-complete:disabled:hover {\n",
              "    background-color: var(--disabled-bg-color);\n",
              "    fill: var(--disabled-fill-color);\n",
              "    box-shadow: none;\n",
              "  }\n",
              "\n",
              "  .colab-df-spinner {\n",
              "    border: 2px solid var(--fill-color);\n",
              "    border-color: transparent;\n",
              "    border-bottom-color: var(--fill-color);\n",
              "    animation:\n",
              "      spin 1s steps(1) infinite;\n",
              "  }\n",
              "\n",
              "  @keyframes spin {\n",
              "    0% {\n",
              "      border-color: transparent;\n",
              "      border-bottom-color: var(--fill-color);\n",
              "      border-left-color: var(--fill-color);\n",
              "    }\n",
              "    20% {\n",
              "      border-color: transparent;\n",
              "      border-left-color: var(--fill-color);\n",
              "      border-top-color: var(--fill-color);\n",
              "    }\n",
              "    30% {\n",
              "      border-color: transparent;\n",
              "      border-left-color: var(--fill-color);\n",
              "      border-top-color: var(--fill-color);\n",
              "      border-right-color: var(--fill-color);\n",
              "    }\n",
              "    40% {\n",
              "      border-color: transparent;\n",
              "      border-right-color: var(--fill-color);\n",
              "      border-top-color: var(--fill-color);\n",
              "    }\n",
              "    60% {\n",
              "      border-color: transparent;\n",
              "      border-right-color: var(--fill-color);\n",
              "    }\n",
              "    80% {\n",
              "      border-color: transparent;\n",
              "      border-right-color: var(--fill-color);\n",
              "      border-bottom-color: var(--fill-color);\n",
              "    }\n",
              "    90% {\n",
              "      border-color: transparent;\n",
              "      border-bottom-color: var(--fill-color);\n",
              "    }\n",
              "  }\n",
              "</style>\n",
              "\n",
              "  <script>\n",
              "    async function quickchart(key) {\n",
              "      const quickchartButtonEl =\n",
              "        document.querySelector('#' + key + ' button');\n",
              "      quickchartButtonEl.disabled = true;  // To prevent multiple clicks.\n",
              "      quickchartButtonEl.classList.add('colab-df-spinner');\n",
              "      try {\n",
              "        const charts = await google.colab.kernel.invokeFunction(\n",
              "            'suggestCharts', [key], {});\n",
              "      } catch (error) {\n",
              "        console.error('Error during call to suggestCharts:', error);\n",
              "      }\n",
              "      quickchartButtonEl.classList.remove('colab-df-spinner');\n",
              "      quickchartButtonEl.classList.add('colab-df-quickchart-complete');\n",
              "    }\n",
              "    (() => {\n",
              "      let quickchartButtonEl =\n",
              "        document.querySelector('#df-5c70e79b-2ffa-431a-aca0-acc5a9c2b8d3 button');\n",
              "      quickchartButtonEl.style.display =\n",
              "        google.colab.kernel.accessAllowed ? 'block' : 'none';\n",
              "    })();\n",
              "  </script>\n",
              "</div>\n",
              "\n",
              "  <div id=\"id_05e01dec-792d-4d0b-8330-adfeefcd8248\">\n",
              "    <style>\n",
              "      .colab-df-generate {\n",
              "        background-color: #E8F0FE;\n",
              "        border: none;\n",
              "        border-radius: 50%;\n",
              "        cursor: pointer;\n",
              "        display: none;\n",
              "        fill: #1967D2;\n",
              "        height: 32px;\n",
              "        padding: 0 0 0 0;\n",
              "        width: 32px;\n",
              "      }\n",
              "\n",
              "      .colab-df-generate:hover {\n",
              "        background-color: #E2EBFA;\n",
              "        box-shadow: 0px 1px 2px rgba(60, 64, 67, 0.3), 0px 1px 3px 1px rgba(60, 64, 67, 0.15);\n",
              "        fill: #174EA6;\n",
              "      }\n",
              "\n",
              "      [theme=dark] .colab-df-generate {\n",
              "        background-color: #3B4455;\n",
              "        fill: #D2E3FC;\n",
              "      }\n",
              "\n",
              "      [theme=dark] .colab-df-generate:hover {\n",
              "        background-color: #434B5C;\n",
              "        box-shadow: 0px 1px 3px 1px rgba(0, 0, 0, 0.15);\n",
              "        filter: drop-shadow(0px 1px 2px rgba(0, 0, 0, 0.3));\n",
              "        fill: #FFFFFF;\n",
              "      }\n",
              "    </style>\n",
              "    <button class=\"colab-df-generate\" onclick=\"generateWithVariable('df1')\"\n",
              "            title=\"Generate code using this dataframe.\"\n",
              "            style=\"display:none;\">\n",
              "\n",
              "  <svg xmlns=\"http://www.w3.org/2000/svg\" height=\"24px\"viewBox=\"0 0 24 24\"\n",
              "       width=\"24px\">\n",
              "    <path d=\"M7,19H8.4L18.45,9,17,7.55,7,17.6ZM5,21V16.75L18.45,3.32a2,2,0,0,1,2.83,0l1.4,1.43a1.91,1.91,0,0,1,.58,1.4,1.91,1.91,0,0,1-.58,1.4L9.25,21ZM18.45,9,17,7.55Zm-12,3A5.31,5.31,0,0,0,4.9,8.1,5.31,5.31,0,0,0,1,6.5,5.31,5.31,0,0,0,4.9,4.9,5.31,5.31,0,0,0,6.5,1,5.31,5.31,0,0,0,8.1,4.9,5.31,5.31,0,0,0,12,6.5,5.46,5.46,0,0,0,6.5,12Z\"/>\n",
              "  </svg>\n",
              "    </button>\n",
              "    <script>\n",
              "      (() => {\n",
              "      const buttonEl =\n",
              "        document.querySelector('#id_05e01dec-792d-4d0b-8330-adfeefcd8248 button.colab-df-generate');\n",
              "      buttonEl.style.display =\n",
              "        google.colab.kernel.accessAllowed ? 'block' : 'none';\n",
              "\n",
              "      buttonEl.onclick = () => {\n",
              "        google.colab.notebook.generateWithVariable('df1');\n",
              "      }\n",
              "      })();\n",
              "    </script>\n",
              "  </div>\n",
              "\n",
              "    </div>\n",
              "  </div>\n"
            ],
            "application/vnd.google.colaboratory.intrinsic+json": {
              "type": "dataframe",
              "variable_name": "df1",
              "summary": "{\n  \"name\": \"df1\",\n  \"rows\": 4,\n  \"fields\": [\n    {\n      \"column\": \"2020\",\n      \"properties\": {\n        \"dtype\": \"number\",\n        \"std\": 1.6527225014099214,\n        \"min\": 123.45,\n        \"max\": 127.34,\n        \"num_unique_values\": 4,\n        \"samples\": [\n          126.34,\n          125.5,\n          127.34\n        ],\n        \"semantic_type\": \"\",\n        \"description\": \"\"\n      }\n    },\n    {\n      \"column\": \"2021\",\n      \"properties\": {\n        \"dtype\": \"number\",\n        \"std\": 2.376936052989225,\n        \"min\": 121.45,\n        \"max\": 126.34,\n        \"num_unique_values\": 4,\n        \"samples\": [\n          126.34,\n          125.5,\n          122.34\n        ],\n        \"semantic_type\": \"\",\n        \"description\": \"\"\n      }\n    },\n    {\n      \"column\": \"2022\",\n      \"properties\": {\n        \"dtype\": \"number\",\n        \"std\": 2.311094617996702,\n        \"min\": 122.45,\n        \"max\": 127.74,\n        \"num_unique_values\": 4,\n        \"samples\": [\n          126.54,\n          126.5,\n          127.74\n        ],\n        \"semantic_type\": \"\",\n        \"description\": \"\"\n      }\n    }\n  ]\n}"
            }
          },
          "metadata": {},
          "execution_count": 15
        }
      ]
    },
    {
      "cell_type": "code",
      "source": [
        "#sum\n",
        "sum_cities = df1.sum()\n",
        "sum_cities"
      ],
      "metadata": {
        "id": "hoikim8sol8j",
        "outputId": "c9a21f25-174f-4fec-f6a9-2d0a65af2d5b",
        "colab": {
          "base_uri": "https://localhost:8080/",
          "height": 178
        }
      },
      "execution_count": 16,
      "outputs": [
        {
          "output_type": "execute_result",
          "data": {
            "text/plain": [
              "2020    502.63\n",
              "2021    495.63\n",
              "2022    503.23\n",
              "dtype: float64"
            ],
            "text/html": [
              "<div>\n",
              "<style scoped>\n",
              "    .dataframe tbody tr th:only-of-type {\n",
              "        vertical-align: middle;\n",
              "    }\n",
              "\n",
              "    .dataframe tbody tr th {\n",
              "        vertical-align: top;\n",
              "    }\n",
              "\n",
              "    .dataframe thead th {\n",
              "        text-align: right;\n",
              "    }\n",
              "</style>\n",
              "<table border=\"1\" class=\"dataframe\">\n",
              "  <thead>\n",
              "    <tr style=\"text-align: right;\">\n",
              "      <th></th>\n",
              "      <th>0</th>\n",
              "    </tr>\n",
              "  </thead>\n",
              "  <tbody>\n",
              "    <tr>\n",
              "      <th>2020</th>\n",
              "      <td>502.63</td>\n",
              "    </tr>\n",
              "    <tr>\n",
              "      <th>2021</th>\n",
              "      <td>495.63</td>\n",
              "    </tr>\n",
              "    <tr>\n",
              "      <th>2022</th>\n",
              "      <td>503.23</td>\n",
              "    </tr>\n",
              "  </tbody>\n",
              "</table>\n",
              "</div><br><label><b>dtype:</b> float64</label>"
            ]
          },
          "metadata": {},
          "execution_count": 16
        }
      ]
    },
    {
      "cell_type": "code",
      "source": [
        "row_sum = df1.sum(axis=1)\n",
        "row_sum"
      ],
      "metadata": {
        "id": "PywxZQB6q523",
        "outputId": "34209a50-f982-4759-f0c5-fb400636a0b5",
        "colab": {
          "base_uri": "https://localhost:8080/",
          "height": 210
        }
      },
      "execution_count": 18,
      "outputs": [
        {
          "output_type": "execute_result",
          "data": {
            "text/plain": [
              "Dhaka       377.42\n",
              "Sylhet      379.22\n",
              "Rajshahi    367.35\n",
              "Barisal     377.50\n",
              "dtype: float64"
            ],
            "text/html": [
              "<div>\n",
              "<style scoped>\n",
              "    .dataframe tbody tr th:only-of-type {\n",
              "        vertical-align: middle;\n",
              "    }\n",
              "\n",
              "    .dataframe tbody tr th {\n",
              "        vertical-align: top;\n",
              "    }\n",
              "\n",
              "    .dataframe thead th {\n",
              "        text-align: right;\n",
              "    }\n",
              "</style>\n",
              "<table border=\"1\" class=\"dataframe\">\n",
              "  <thead>\n",
              "    <tr style=\"text-align: right;\">\n",
              "      <th></th>\n",
              "      <th>0</th>\n",
              "    </tr>\n",
              "  </thead>\n",
              "  <tbody>\n",
              "    <tr>\n",
              "      <th>Dhaka</th>\n",
              "      <td>377.42</td>\n",
              "    </tr>\n",
              "    <tr>\n",
              "      <th>Sylhet</th>\n",
              "      <td>379.22</td>\n",
              "    </tr>\n",
              "    <tr>\n",
              "      <th>Rajshahi</th>\n",
              "      <td>367.35</td>\n",
              "    </tr>\n",
              "    <tr>\n",
              "      <th>Barisal</th>\n",
              "      <td>377.50</td>\n",
              "    </tr>\n",
              "  </tbody>\n",
              "</table>\n",
              "</div><br><label><b>dtype:</b> float64</label>"
            ]
          },
          "metadata": {},
          "execution_count": 18
        }
      ]
    },
    {
      "cell_type": "code",
      "source": [
        "mean_ = df1.mean()\n",
        "mean"
      ],
      "metadata": {
        "id": "p0amq6FXqkA6",
        "outputId": "4c2e6ac6-2137-402f-af27-80294a852944",
        "colab": {
          "base_uri": "https://localhost:8080/",
          "height": 178
        }
      },
      "execution_count": 17,
      "outputs": [
        {
          "output_type": "execute_result",
          "data": {
            "text/plain": [
              "2020    125.6575\n",
              "2021    123.9075\n",
              "2022    125.8075\n",
              "dtype: float64"
            ],
            "text/html": [
              "<div>\n",
              "<style scoped>\n",
              "    .dataframe tbody tr th:only-of-type {\n",
              "        vertical-align: middle;\n",
              "    }\n",
              "\n",
              "    .dataframe tbody tr th {\n",
              "        vertical-align: top;\n",
              "    }\n",
              "\n",
              "    .dataframe thead th {\n",
              "        text-align: right;\n",
              "    }\n",
              "</style>\n",
              "<table border=\"1\" class=\"dataframe\">\n",
              "  <thead>\n",
              "    <tr style=\"text-align: right;\">\n",
              "      <th></th>\n",
              "      <th>0</th>\n",
              "    </tr>\n",
              "  </thead>\n",
              "  <tbody>\n",
              "    <tr>\n",
              "      <th>2020</th>\n",
              "      <td>125.6575</td>\n",
              "    </tr>\n",
              "    <tr>\n",
              "      <th>2021</th>\n",
              "      <td>123.9075</td>\n",
              "    </tr>\n",
              "    <tr>\n",
              "      <th>2022</th>\n",
              "      <td>125.8075</td>\n",
              "    </tr>\n",
              "  </tbody>\n",
              "</table>\n",
              "</div><br><label><b>dtype:</b> float64</label>"
            ]
          },
          "metadata": {},
          "execution_count": 17
        }
      ]
    },
    {
      "cell_type": "code",
      "source": [
        "row_mean = df1.mean(axis=1)\n",
        "row_mean"
      ],
      "metadata": {
        "id": "VYKvRn8DrBf7",
        "outputId": "165b564d-0970-4db8-a05a-86d5498dd3bd",
        "colab": {
          "base_uri": "https://localhost:8080/",
          "height": 210
        }
      },
      "execution_count": 19,
      "outputs": [
        {
          "output_type": "execute_result",
          "data": {
            "text/plain": [
              "Dhaka       125.806667\n",
              "Sylhet      126.406667\n",
              "Rajshahi    122.450000\n",
              "Barisal     125.833333\n",
              "dtype: float64"
            ],
            "text/html": [
              "<div>\n",
              "<style scoped>\n",
              "    .dataframe tbody tr th:only-of-type {\n",
              "        vertical-align: middle;\n",
              "    }\n",
              "\n",
              "    .dataframe tbody tr th {\n",
              "        vertical-align: top;\n",
              "    }\n",
              "\n",
              "    .dataframe thead th {\n",
              "        text-align: right;\n",
              "    }\n",
              "</style>\n",
              "<table border=\"1\" class=\"dataframe\">\n",
              "  <thead>\n",
              "    <tr style=\"text-align: right;\">\n",
              "      <th></th>\n",
              "      <th>0</th>\n",
              "    </tr>\n",
              "  </thead>\n",
              "  <tbody>\n",
              "    <tr>\n",
              "      <th>Dhaka</th>\n",
              "      <td>125.806667</td>\n",
              "    </tr>\n",
              "    <tr>\n",
              "      <th>Sylhet</th>\n",
              "      <td>126.406667</td>\n",
              "    </tr>\n",
              "    <tr>\n",
              "      <th>Rajshahi</th>\n",
              "      <td>122.450000</td>\n",
              "    </tr>\n",
              "    <tr>\n",
              "      <th>Barisal</th>\n",
              "      <td>125.833333</td>\n",
              "    </tr>\n",
              "  </tbody>\n",
              "</table>\n",
              "</div><br><label><b>dtype:</b> float64</label>"
            ]
          },
          "metadata": {},
          "execution_count": 19
        }
      ]
    },
    {
      "cell_type": "markdown",
      "source": [
        "# Practice Problem"
      ],
      "metadata": {
        "id": "mny6BDaThtzf"
      }
    },
    {
      "cell_type": "markdown",
      "source": [
        "### Problem 01:\n",
        "You are given a list of daily temperatures for a week. Write a program to find the average temperature for the week and print it. Also, determine the highest and lowest temperatures recorded during the week."
      ],
      "metadata": {
        "id": "JLWbYAkshyTc"
      }
    },
    {
      "cell_type": "code",
      "source": [],
      "metadata": {
        "id": "Dwu2gGKXYEs2"
      },
      "execution_count": null,
      "outputs": []
    },
    {
      "cell_type": "markdown",
      "source": [
        "### Problem 02\n",
        "You have two sets of email addresses: one from a newsletter signup form and another from a purchase form on your website. Write a program to find and print the email addresses that appear in both sets."
      ],
      "metadata": {
        "id": "clKMrhY1h-dJ"
      }
    },
    {
      "cell_type": "markdown",
      "source": [
        "### Problem 03\n",
        "You are organizing a coding competition. Write a program that takes a list of participants, where each participant is represented by a dictionary with keys \"name\" and \"score\". Calculate the average score and print a congratulatory message for participants who scored above the average."
      ],
      "metadata": {
        "id": "L1nVbYywiJ8q"
      }
    },
    {
      "cell_type": "markdown",
      "source": [
        "### Problem 04\n",
        "You have a dictionary of books where each key is a book title and each value is a boolean indicating whether the book is available (True) or not (False). The goal is to extract a list of book titles that are currently available and store them in a separate list."
      ],
      "metadata": {
        "id": "hrAoRyCq8gMI"
      }
    },
    {
      "cell_type": "markdown",
      "source": [
        "###Problem 05\n",
        "\n",
        "You have a list of fruits where some fruit names may appear multiple times. The objective is to count the occurrences of each fruit in the list and store these counts in a dictionary."
      ],
      "metadata": {
        "id": "wJ0adHHl9D7H"
      }
    },
    {
      "cell_type": "code",
      "source": [
        "fruits_input = input(\"Enter the list of fruits you wanna buy: \")\n",
        "fruits = fruits_input.split(\" \")\n",
        "# fruits = list(fruits_input.split(\" \"))\n",
        "type(fruits), len(fruits)\n",
        "fruits_count = {}\n",
        "for fruit in fruits:\n",
        "  if fruit in fruits_count:\n",
        "    fruits_count[fruit] += 1\n",
        "  else:\n",
        "    fruits_count[fruit] = 1\n",
        "fruits_count"
      ],
      "metadata": {
        "colab": {
          "base_uri": "https://localhost:8080/"
        },
        "id": "L0rvlFqaGhIR",
        "outputId": "a2a2fa20-a0f2-4c64-b0ad-cea9232d66ab"
      },
      "execution_count": null,
      "outputs": [
        {
          "name": "stdout",
          "output_type": "stream",
          "text": [
            "Enter the list of fruits you wanna buy: a b c a b e\n"
          ]
        },
        {
          "output_type": "execute_result",
          "data": {
            "text/plain": [
              "{'a': 2, 'b': 2, 'c': 1, 'e': 1}"
            ]
          },
          "metadata": {},
          "execution_count": 31
        }
      ]
    },
    {
      "cell_type": "markdown",
      "source": [
        "###Problem 06\n",
        "\n",
        "You have a dictionary of employees' salaries where each key is an employee's name and each value is their current salary. The goal is to adjust the salaries based on the following criteria:\n",
        "\n",
        "1.   If the salary is greater than 5000, increase it by 50%.\n",
        "2.   If the salary is 5000 or less, increase it by 30%."
      ],
      "metadata": {
        "id": "b248b0N69Jta"
      }
    },
    {
      "cell_type": "markdown",
      "source": [
        "### Problem 07\n",
        "\n",
        "You want to determine whether a given number is prime or not. A prime number is a natural number greater than 1 that has no positive divisors other than 1 and itself.\n",
        "\n",
        "Write a program that takes an integer input from the user, checks if the number is prime, and prints an appropriate message indicating whether the number is prime or not."
      ],
      "metadata": {
        "id": "NxfzgDc29qpk"
      }
    },
    {
      "cell_type": "markdown",
      "source": [
        "### Problem 08\n",
        "\n",
        "You have a dictionary stat where each key is a student's name and each value is their corresponding mark. Your task is to iterate through this dictionary and print out the grade each student achieved based on the following grading scale:\n",
        "\n",
        "*   A+ : 80 - 100\n",
        "*   A : 70 - 79\n",
        "*   A- : 60 - 69\n",
        "*   B : 50 - 59\n",
        "*   F : below 50\n",
        "\n",
        "Write a program that iterates through the stat dictionary, evaluates each student's mark against the grading scale, and prints a message indicating the grade obtained by each student."
      ],
      "metadata": {
        "id": "aYOt3ZCs-D1j"
      }
    },
    {
      "cell_type": "markdown",
      "source": [
        "## Problem 09\n",
        "\n",
        "**Student Grades Analyzer**\n",
        "\n",
        "Write a Python program to help a teacher analyze student grades. The program should:\n",
        "\n",
        "1. **Input Student Data:**\n",
        "   - Ask for the number of students.\n",
        "   - For each student, input their name and a list of at least 3 grades separated by spaces.\n",
        "\n",
        "2. **Calculate Average Grade:**\n",
        "   - Create a function `calculate_average(grades)` to return the average of a list of grades.\n",
        "\n",
        "3. **Determine Pass/Fail:**\n",
        "   - Create a function `determine_pass_fail(average)` to return \"Pass\" if the average is 60 or above, otherwise \"Fail\".\n",
        "\n",
        "4. **Find Highest and Lowest Grades:**\n",
        "   - Create a function `find_highest_lowest(grades)` to return the highest and lowest grades as a tuple.\n",
        "\n",
        "5. **Display Results:**\n",
        "   - For each student, print their name, average grade, pass/fail status, highest grade, and lowest grade.\n",
        "\n",
        "### Example Interaction\n",
        "\n",
        "```\n",
        "Enter the number of students: 2\n",
        "Enter the name of student 1: Alice\n",
        "Enter the grades for Alice (separated by spaces): 75 88 92\n",
        "Enter the name of student 2: Bob\n",
        "Enter the grades for Bob (separated by spaces): 59 61 65\n",
        "\n",
        "Student: Alice\n",
        "Average Grade: 85.0\n",
        "Status: Pass\n",
        "Highest Grade: 92\n",
        "Lowest Grade: 75\n",
        "\n",
        "Student: Bob\n",
        "Average Grade: 61.67\n",
        "Status: Pass\n",
        "Highest Grade: 65\n",
        "Lowest Grade: 59\n",
        "```\n",
        "\n",
        "### Requirements\n",
        "\n",
        "1. Use lists to store grades.\n",
        "2. Use tuples for the highest and lowest grades.\n",
        "3. Implement and use `calculate_average`, `determine_pass_fail`, and `find_highest_lowest` functions.\n",
        "4. Use for and while loops.\n",
        "5. Validate inputs properly."
      ],
      "metadata": {
        "id": "jCs0B1_yGLbt"
      }
    },
    {
      "cell_type": "markdown",
      "source": [
        "### Problem 10\n",
        "You are organizing a coding competition. Write a program that takes a list of participants, where each participant is represented by a dictionary with keys \"name\" and \"score\". Calculate the average score and print a congratulatory message for participants who scored above the average.\n",
        "\n",
        "```\n",
        "Enter the number of participants: 5\n",
        "\n",
        "Enter the name of participant 1: Alice\n",
        "Enter the score of Alice: 85\n",
        "\n",
        "Enter the name of participant 2: Bob\n",
        "Enter the score of Bob: 78\n",
        "\n",
        "Enter the name of participant 3: Charlie\n",
        "Enter the score of Charlie: 92\n",
        "\n",
        "Enter the name of participant 4: Diana\n",
        "Enter the score of Diana: 68\n",
        "\n",
        "Enter the name of participant 5: Eve\n",
        "Enter the score of Eve: 74\n",
        "\n",
        "The average score is: 79.40\n",
        "\n",
        "Congratulations to the participants who scored above the average:\n",
        "Congratulations Alice! Your score of 85 is above the average.\n",
        "Congratulations Charlie! Your score of 92 is above the average.\n",
        "```\n"
      ],
      "metadata": {
        "id": "2E1QP09PGbaB"
      }
    },
    {
      "cell_type": "markdown",
      "source": [
        "\n",
        "### Problem 11\n",
        "Write a Python function called `swap_values` that takes two arguments and swaps their values. The function should return the swapped values in the same order as they were passed. For example, if the input is `swap_values(5, 10)`, the function should return `(10, 5)`. Demonstrate the use of this function by calling it with different pairs of values, including numbers, strings, and other data types, and printing the results."
      ],
      "metadata": {
        "id": "LSv6xmvyDiY7"
      }
    },
    {
      "cell_type": "markdown",
      "source": [
        "### Problem 12\n",
        " Write a Python function called `reverse_string` that takes a string as input and returns the string reversed. For example, if the input is \"hello\", the function should return \"olleh\". Test the function with various strings and print the results."
      ],
      "metadata": {
        "id": "NwbRYQnwD4sc"
      }
    },
    {
      "cell_type": "markdown",
      "source": [
        "### Problem 13\n",
        "Write a Python function called `sum_even_numbers` that takes a list of integers as input and returns the sum of all even numbers in the list. For example, if the input is [1, 2, 3, 4, 5], the function should return 6."
      ],
      "metadata": {
        "id": "J1CctugeEdQY"
      }
    },
    {
      "cell_type": "code",
      "source": [],
      "metadata": {
        "id": "1nJwTnq2Ucdd"
      },
      "execution_count": null,
      "outputs": []
    },
    {
      "cell_type": "markdown",
      "source": [
        "### Problem 14\n",
        "I will give you to two numbers and you have to swap the values assigned in the variable. Like: a=3, b=4. You will generate a=4,b=3"
      ],
      "metadata": {
        "id": "Tv2NQX8SYUg1"
      }
    },
    {
      "cell_type": "code",
      "source": [
        "a = 3\n",
        "b = 4\n",
        "temp = 'Why are you declaring me, bro!!! I do not have any work to do'\n",
        "temp = a\n",
        "a = b\n",
        "b = temp\n",
        "print(a,b)"
      ],
      "metadata": {
        "id": "Jl4TVJRIY7t-"
      },
      "execution_count": null,
      "outputs": []
    },
    {
      "cell_type": "markdown",
      "source": [
        "### Problem 15: Guess the number"
      ],
      "metadata": {
        "id": "1-nFXwPRQntO"
      }
    },
    {
      "cell_type": "markdown",
      "source": [
        "Store a random int value in a variable. Then ask the user to guess the number. Show proper message to the user if s/he has guessed the hidden number or not. If user will be able to give `exit` command to quit the game any-time."
      ],
      "metadata": {
        "id": "ML4iX-Q2Qsb1"
      }
    },
    {
      "cell_type": "code",
      "source": [
        "import random\n",
        "random_num = random.randint(0,10)\n",
        "print(random_num)"
      ],
      "metadata": {
        "id": "-h-BV2F1RUWd",
        "colab": {
          "base_uri": "https://localhost:8080/"
        },
        "outputId": "8c2e549d-a55a-4fac-8df3-abfe11b3a7e9"
      },
      "execution_count": null,
      "outputs": [
        {
          "output_type": "stream",
          "name": "stdout",
          "text": [
            "1\n"
          ]
        }
      ]
    },
    {
      "cell_type": "code",
      "source": [
        "import random\n",
        "random_float = random.random()\n",
        "print(random_float)"
      ],
      "metadata": {
        "id": "yFChlBnARpqt",
        "colab": {
          "base_uri": "https://localhost:8080/"
        },
        "outputId": "1720aa88-d311-4e20-9818-117497ee5431"
      },
      "execution_count": null,
      "outputs": [
        {
          "output_type": "stream",
          "name": "stdout",
          "text": [
            "0.050423008139841685\n"
          ]
        }
      ]
    },
    {
      "cell_type": "markdown",
      "source": [
        "## Problem 16: Unique list\n",
        "User will give you a list which may have duplicate items. You have to figure out the unique items from the list."
      ],
      "metadata": {
        "id": "sgSfBiZjTLqy"
      }
    },
    {
      "cell_type": "code",
      "source": [
        "#@title don't click\n",
        "user_list = [1,1,2]\n",
        "user_set = set(user_list)\n",
        "print(user_set)\n",
        "user_list = list(user_set)\n",
        "print(user_list)"
      ],
      "metadata": {
        "cellView": "form",
        "id": "cUk4HWWTTbFu"
      },
      "execution_count": null,
      "outputs": []
    }
  ]
}